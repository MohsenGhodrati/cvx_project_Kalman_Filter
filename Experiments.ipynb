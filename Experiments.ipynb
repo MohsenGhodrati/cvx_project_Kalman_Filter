{
 "cells": [
  {
   "cell_type": "code",
   "execution_count": 1,
   "outputs": [],
   "source": [
    "from datetime import timedelta\n",
    "import numpy as np\n",
    "import pandas as pd\n",
    "import matplotlib.pyplot as plt\n",
    "from pykalman import KalmanFilter\n",
    "\n",
    "\n",
    "EPSILON = 1e-10\n",
    "RETURN_SCALE = 100\n",
    "\n",
    "# if __name__ == \"__main__\":\n",
    "\n",
    "start_time = '1577836800'\n",
    "end_time = '1578441600'\n",
    "\n",
    "# df_ = get_prices(\n",
    "#     'btc', 'usdt',\n",
    "#     datetime(2020, 1, 1),\n",
    "#     duration=timedelta(days=7),\n",
    "#     proxy_port='13070',\n",
    "#     verbose=2)\n",
    "\n",
    "df_ = pd.read_csv('data/BTCUSDT[' + start_time + '000_' + end_time + '000].csv')\n",
    "df_.drop(['Unnamed: 0'], inplace=True, axis=1)\n",
    "df_['Time'] = pd.to_datetime(df_['Time'])\n",
    "df_.set_index('Time', inplace=True, drop=True)\n",
    "\n",
    "times_index = pd.date_range(start=pd.to_datetime(start_time, unit='s'),\n",
    "                            end=pd.to_datetime(end_time, unit='s'),\n",
    "                            periods=(int(end_time) - int(start_time) + 1) / 60 + 1)\n",
    "\n",
    "df = pd.DataFrame(None, columns=df_.columns, index=times_index[:-1])\n",
    "\n",
    "selected_indices = list(set(df_.index).intersection(set(times_index)))\n",
    "df.loc[selected_indices, df_.columns] = df_.loc[selected_indices].copy()"
   ],
   "metadata": {
    "collapsed": false,
    "pycharm": {
     "name": "#%%\n"
    }
   }
  },
  {
   "cell_type": "code",
   "execution_count": 2,
   "outputs": [
    {
     "data": {
      "text/plain": "                      Market     Open     High      Low    Close     Volume  \\\n2020-01-01 00:00:00  BTCUSDT  7195.24  7196.25  7183.14  7186.68  51.642812   \n2020-01-01 00:01:00  BTCUSDT  7187.67  7188.06   7182.2  7184.03   7.248148   \n2020-01-01 00:02:00  BTCUSDT  7184.41  7184.71  7180.26  7182.43  11.681677   \n2020-01-01 00:03:00  BTCUSDT  7183.83  7188.94  7182.49  7185.94  10.025391   \n2020-01-01 00:04:00  BTCUSDT  7185.54  7185.54  7178.64  7179.78  14.911105   \n...                      ...      ...      ...      ...      ...        ...   \n2020-01-07 23:55:00  BTCUSDT  8163.09  8180.78  8162.58  8174.52  56.340474   \n2020-01-07 23:56:00  BTCUSDT  8174.52  8176.52  8162.58  8168.48  46.824082   \n2020-01-07 23:57:00  BTCUSDT  8167.76  8170.67   8157.5  8158.96  42.212437   \n2020-01-07 23:58:00  BTCUSDT  8158.73   8162.0  8153.77   8161.5    103.923   \n2020-01-07 23:59:00  BTCUSDT  8161.27  8161.48  8145.01  8145.28  56.360956   \n\n                             Value No. Trades Taker Buy Volume  \\\n2020-01-01 00:00:00  371233.518355        493         19.59823   \n2020-01-01 00:01:00   52080.127788        135         2.031772   \n2020-01-01 00:02:00   83903.741635        202         5.479244   \n2020-01-01 00:03:00   72033.226649        136         3.294966   \n2020-01-01 00:04:00  107066.521825        161         2.369033   \n...                            ...        ...              ...   \n2020-01-07 23:55:00  460369.470177        664        34.532792   \n2020-01-07 23:56:00  382487.910867        442        18.526946   \n2020-01-07 23:57:00  344654.966852        403         19.19538   \n2020-01-07 23:58:00   847779.49378        538        56.297305   \n2020-01-07 23:59:00  459507.068474        591        24.890672   \n\n                    Taker Buy Value  Feature 1   Feature 2 Feature 3  \\\n2020-01-01 00:00:00   140888.414283   37.94958         NaN  0.563703   \n2020-01-01 00:01:00    14599.211924  28.031602  -85.964846  0.217325   \n2020-01-01 00:02:00    39357.081776  46.904601   61.167749  0.813428   \n2020-01-01 00:03:00    23680.571924  32.866209  -14.178495  2.703759   \n2020-01-01 00:04:00    17012.015138  15.887709   48.733401    0.8017   \n...                             ...        ...         ...       ...   \n2020-01-07 23:55:00   282162.676837  61.293045   12.595400 -0.881976   \n2020-01-07 23:56:00   151332.558308  39.567131  -16.890863 -0.619447   \n2020-01-07 23:57:00   156750.172947  45.473281   -9.848874  2.317097   \n2020-01-07 23:58:00   459258.542236  54.172132  146.190477 -0.065362   \n2020-01-07 23:59:00   202939.485046   44.16297  -45.766620   0.54086   \n\n                     Feature 4  Feature 5  Feature 6  \n2020-01-01 00:00:00        NaN        NaN        NaN  \n2020-01-01 00:01:00        NaN        NaN        NaN  \n2020-01-01 00:02:00        NaN        NaN        NaN  \n2020-01-01 00:03:00        NaN        NaN        NaN  \n2020-01-01 00:04:00        NaN        NaN        NaN  \n...                        ...        ...        ...  \n2020-01-07 23:55:00  17.734517  11.495528   6.851664  \n2020-01-07 23:56:00  20.964809  13.589406   8.099676  \n2020-01-07 23:57:00  26.056263   16.88969   10.06674  \n2020-01-07 23:58:00  24.697829  16.009152   9.541914  \n2020-01-07 23:59:00  33.372553  21.632115  12.893361  \n\n[10080 rows x 16 columns]",
      "text/html": "<div>\n<style scoped>\n    .dataframe tbody tr th:only-of-type {\n        vertical-align: middle;\n    }\n\n    .dataframe tbody tr th {\n        vertical-align: top;\n    }\n\n    .dataframe thead th {\n        text-align: right;\n    }\n</style>\n<table border=\"1\" class=\"dataframe\">\n  <thead>\n    <tr style=\"text-align: right;\">\n      <th></th>\n      <th>Market</th>\n      <th>Open</th>\n      <th>High</th>\n      <th>Low</th>\n      <th>Close</th>\n      <th>Volume</th>\n      <th>Value</th>\n      <th>No. Trades</th>\n      <th>Taker Buy Volume</th>\n      <th>Taker Buy Value</th>\n      <th>Feature 1</th>\n      <th>Feature 2</th>\n      <th>Feature 3</th>\n      <th>Feature 4</th>\n      <th>Feature 5</th>\n      <th>Feature 6</th>\n    </tr>\n  </thead>\n  <tbody>\n    <tr>\n      <th>2020-01-01 00:00:00</th>\n      <td>BTCUSDT</td>\n      <td>7195.24</td>\n      <td>7196.25</td>\n      <td>7183.14</td>\n      <td>7186.68</td>\n      <td>51.642812</td>\n      <td>371233.518355</td>\n      <td>493</td>\n      <td>19.59823</td>\n      <td>140888.414283</td>\n      <td>37.94958</td>\n      <td>NaN</td>\n      <td>0.563703</td>\n      <td>NaN</td>\n      <td>NaN</td>\n      <td>NaN</td>\n    </tr>\n    <tr>\n      <th>2020-01-01 00:01:00</th>\n      <td>BTCUSDT</td>\n      <td>7187.67</td>\n      <td>7188.06</td>\n      <td>7182.2</td>\n      <td>7184.03</td>\n      <td>7.248148</td>\n      <td>52080.127788</td>\n      <td>135</td>\n      <td>2.031772</td>\n      <td>14599.211924</td>\n      <td>28.031602</td>\n      <td>-85.964846</td>\n      <td>0.217325</td>\n      <td>NaN</td>\n      <td>NaN</td>\n      <td>NaN</td>\n    </tr>\n    <tr>\n      <th>2020-01-01 00:02:00</th>\n      <td>BTCUSDT</td>\n      <td>7184.41</td>\n      <td>7184.71</td>\n      <td>7180.26</td>\n      <td>7182.43</td>\n      <td>11.681677</td>\n      <td>83903.741635</td>\n      <td>202</td>\n      <td>5.479244</td>\n      <td>39357.081776</td>\n      <td>46.904601</td>\n      <td>61.167749</td>\n      <td>0.813428</td>\n      <td>NaN</td>\n      <td>NaN</td>\n      <td>NaN</td>\n    </tr>\n    <tr>\n      <th>2020-01-01 00:03:00</th>\n      <td>BTCUSDT</td>\n      <td>7183.83</td>\n      <td>7188.94</td>\n      <td>7182.49</td>\n      <td>7185.94</td>\n      <td>10.025391</td>\n      <td>72033.226649</td>\n      <td>136</td>\n      <td>3.294966</td>\n      <td>23680.571924</td>\n      <td>32.866209</td>\n      <td>-14.178495</td>\n      <td>2.703759</td>\n      <td>NaN</td>\n      <td>NaN</td>\n      <td>NaN</td>\n    </tr>\n    <tr>\n      <th>2020-01-01 00:04:00</th>\n      <td>BTCUSDT</td>\n      <td>7185.54</td>\n      <td>7185.54</td>\n      <td>7178.64</td>\n      <td>7179.78</td>\n      <td>14.911105</td>\n      <td>107066.521825</td>\n      <td>161</td>\n      <td>2.369033</td>\n      <td>17012.015138</td>\n      <td>15.887709</td>\n      <td>48.733401</td>\n      <td>0.8017</td>\n      <td>NaN</td>\n      <td>NaN</td>\n      <td>NaN</td>\n    </tr>\n    <tr>\n      <th>...</th>\n      <td>...</td>\n      <td>...</td>\n      <td>...</td>\n      <td>...</td>\n      <td>...</td>\n      <td>...</td>\n      <td>...</td>\n      <td>...</td>\n      <td>...</td>\n      <td>...</td>\n      <td>...</td>\n      <td>...</td>\n      <td>...</td>\n      <td>...</td>\n      <td>...</td>\n      <td>...</td>\n    </tr>\n    <tr>\n      <th>2020-01-07 23:55:00</th>\n      <td>BTCUSDT</td>\n      <td>8163.09</td>\n      <td>8180.78</td>\n      <td>8162.58</td>\n      <td>8174.52</td>\n      <td>56.340474</td>\n      <td>460369.470177</td>\n      <td>664</td>\n      <td>34.532792</td>\n      <td>282162.676837</td>\n      <td>61.293045</td>\n      <td>12.595400</td>\n      <td>-0.881976</td>\n      <td>17.734517</td>\n      <td>11.495528</td>\n      <td>6.851664</td>\n    </tr>\n    <tr>\n      <th>2020-01-07 23:56:00</th>\n      <td>BTCUSDT</td>\n      <td>8174.52</td>\n      <td>8176.52</td>\n      <td>8162.58</td>\n      <td>8168.48</td>\n      <td>46.824082</td>\n      <td>382487.910867</td>\n      <td>442</td>\n      <td>18.526946</td>\n      <td>151332.558308</td>\n      <td>39.567131</td>\n      <td>-16.890863</td>\n      <td>-0.619447</td>\n      <td>20.964809</td>\n      <td>13.589406</td>\n      <td>8.099676</td>\n    </tr>\n    <tr>\n      <th>2020-01-07 23:57:00</th>\n      <td>BTCUSDT</td>\n      <td>8167.76</td>\n      <td>8170.67</td>\n      <td>8157.5</td>\n      <td>8158.96</td>\n      <td>42.212437</td>\n      <td>344654.966852</td>\n      <td>403</td>\n      <td>19.19538</td>\n      <td>156750.172947</td>\n      <td>45.473281</td>\n      <td>-9.848874</td>\n      <td>2.317097</td>\n      <td>26.056263</td>\n      <td>16.88969</td>\n      <td>10.06674</td>\n    </tr>\n    <tr>\n      <th>2020-01-07 23:58:00</th>\n      <td>BTCUSDT</td>\n      <td>8158.73</td>\n      <td>8162.0</td>\n      <td>8153.77</td>\n      <td>8161.5</td>\n      <td>103.923</td>\n      <td>847779.49378</td>\n      <td>538</td>\n      <td>56.297305</td>\n      <td>459258.542236</td>\n      <td>54.172132</td>\n      <td>146.190477</td>\n      <td>-0.065362</td>\n      <td>24.697829</td>\n      <td>16.009152</td>\n      <td>9.541914</td>\n    </tr>\n    <tr>\n      <th>2020-01-07 23:59:00</th>\n      <td>BTCUSDT</td>\n      <td>8161.27</td>\n      <td>8161.48</td>\n      <td>8145.01</td>\n      <td>8145.28</td>\n      <td>56.360956</td>\n      <td>459507.068474</td>\n      <td>591</td>\n      <td>24.890672</td>\n      <td>202939.485046</td>\n      <td>44.16297</td>\n      <td>-45.766620</td>\n      <td>0.54086</td>\n      <td>33.372553</td>\n      <td>21.632115</td>\n      <td>12.893361</td>\n    </tr>\n  </tbody>\n</table>\n<p>10080 rows × 16 columns</p>\n</div>"
     },
     "execution_count": 2,
     "metadata": {},
     "output_type": "execute_result"
    }
   ],
   "source": [
    "df['Feature 1'] = df['Taker Buy Volume'] / (df['Volume'] + EPSILON) * 100\n",
    "\n",
    "df['Feature 2'] = (df['Volume'] + EPSILON).pct_change() * 100\n",
    "\n",
    "df['Feature 3'] = df['Taker Buy Value'] / df['Taker Buy Volume'] - \\\n",
    "                  ((df['Value'] - df['Taker Buy Value']) / (df['Volume'] - df['Taker Buy Volume'] + EPSILON))\n",
    "\n",
    "def historical_high_to_low_ratio(window):\n",
    "    tmp = df['High'].rolling(window).max()\n",
    "    return (tmp-df['Close']) / (tmp-df['Low'].rolling(window).min() + EPSILON) * 100\n",
    "\n",
    "for i, t in enumerate([1, 6, 24]):\n",
    "    window = int(timedelta(hours=t) / timedelta(minutes=1))\n",
    "    df[f'Feature {4+i}'] = historical_high_to_low_ratio(window)\n",
    "\n",
    "# period = 10\n",
    "# for i in range(period):\n",
    "#     df[f'Return {i+1} min'] = (df['Close'].shift(-i-1) / df['Close'] - 1) * 100\n",
    "df"
   ],
   "metadata": {
    "collapsed": false,
    "pycharm": {
     "name": "#%%\n"
    }
   }
  },
  {
   "cell_type": "code",
   "execution_count": 3,
   "outputs": [],
   "source": [
    "# returns = df['Close'].pct_change() * 100 * RETURN_SCALE\n",
    "# returns[0] = (df.iloc[0]['Close'] / df.iloc[0]['Open'] - 1) * 100 * RETURN_SCALE\n",
    "# df['Return'] = returns\n",
    "# df"
   ],
   "metadata": {
    "collapsed": false,
    "pycharm": {
     "name": "#%%\n"
    }
   }
  },
  {
   "cell_type": "code",
   "execution_count": 94,
   "outputs": [],
   "source": [
    "# df['Weighted Price Average'] = df['Value'] / df['Volume']\n",
    "# m = 100\n",
    "# plt.figure(figsize=(20, 10))\n",
    "# plt.xticks(rotation=90)\n",
    "# plt.plot(\n",
    "#     df.iloc[0:m].index,\n",
    "#     df['Weighted Price Average'][0:m],\n",
    "#     color='black')\n",
    "# x_limits = plt.xlim()\n",
    "# x_width = x_limits[1] - x_limits[0]\n",
    "# plt.bar(\n",
    "#     x=df.iloc[0:m].index,\n",
    "#     height=df['Close'].shift(1)[0:m]-df['Weighted Price Average'][0:m],\n",
    "#     width=0.1*(x_width / m),\n",
    "#     bottom=df['Weighted Price Average'][0:m],\n",
    "#     color='red')\n",
    "# plt.scatter(\n",
    "#     df.iloc[0:m].index,\n",
    "#     df['Close'].shift(1)[0:m],\n",
    "#     color='red'\n",
    "# )\n",
    "# plt.show()"
   ],
   "metadata": {
    "collapsed": false,
    "pycharm": {
     "name": "#%%\n"
    }
   }
  },
  {
   "cell_type": "code",
   "execution_count": 5,
   "outputs": [
    {
     "data": {
      "text/plain": "                      Market     Open     High      Low    Close     Volume  \\\n2020-01-01 00:00:00  BTCUSDT  7195.24  7196.25  7183.14  7186.68  51.642812   \n2020-01-01 00:01:00  BTCUSDT  7187.67  7188.06   7182.2  7184.03   7.248148   \n2020-01-01 00:02:00  BTCUSDT  7184.41  7184.71  7180.26  7182.43  11.681677   \n2020-01-01 00:03:00  BTCUSDT  7183.83  7188.94  7182.49  7185.94  10.025391   \n2020-01-01 00:04:00  BTCUSDT  7185.54  7185.54  7178.64  7179.78  14.911105   \n...                      ...      ...      ...      ...      ...        ...   \n2020-01-07 23:55:00  BTCUSDT  8163.09  8180.78  8162.58  8174.52  56.340474   \n2020-01-07 23:56:00  BTCUSDT  8174.52  8176.52  8162.58  8168.48  46.824082   \n2020-01-07 23:57:00  BTCUSDT  8167.76  8170.67   8157.5  8158.96  42.212437   \n2020-01-07 23:58:00  BTCUSDT  8158.73   8162.0  8153.77   8161.5    103.923   \n2020-01-07 23:59:00  BTCUSDT  8161.27  8161.48  8145.01  8145.28  56.360956   \n\n                             Value No. Trades Taker Buy Volume  \\\n2020-01-01 00:00:00  371233.518355        493         19.59823   \n2020-01-01 00:01:00   52080.127788        135         2.031772   \n2020-01-01 00:02:00   83903.741635        202         5.479244   \n2020-01-01 00:03:00   72033.226649        136         3.294966   \n2020-01-01 00:04:00  107066.521825        161         2.369033   \n...                            ...        ...              ...   \n2020-01-07 23:55:00  460369.470177        664        34.532792   \n2020-01-07 23:56:00  382487.910867        442        18.526946   \n2020-01-07 23:57:00  344654.966852        403         19.19538   \n2020-01-07 23:58:00   847779.49378        538        56.297305   \n2020-01-07 23:59:00  459507.068474        591        24.890672   \n\n                    Taker Buy Value  Feature 1   Feature 2 Feature 3  \\\n2020-01-01 00:00:00   140888.414283   37.94958         NaN  0.563703   \n2020-01-01 00:01:00    14599.211924  28.031602  -85.964846  0.217325   \n2020-01-01 00:02:00    39357.081776  46.904601   61.167749  0.813428   \n2020-01-01 00:03:00    23680.571924  32.866209  -14.178495  2.703759   \n2020-01-01 00:04:00    17012.015138  15.887709   48.733401    0.8017   \n...                             ...        ...         ...       ...   \n2020-01-07 23:55:00   282162.676837  61.293045   12.595400 -0.881976   \n2020-01-07 23:56:00   151332.558308  39.567131  -16.890863 -0.619447   \n2020-01-07 23:57:00   156750.172947  45.473281   -9.848874  2.317097   \n2020-01-07 23:58:00   459258.542236  54.172132  146.190477 -0.065362   \n2020-01-07 23:59:00   202939.485046   44.16297  -45.766620   0.54086   \n\n                     Feature 4  Feature 5  Feature 6 Weighted Price Average  \\\n2020-01-01 00:00:00        NaN        NaN        NaN            7188.483818   \n2020-01-01 00:01:00        NaN        NaN        NaN            7185.301375   \n2020-01-01 00:02:00        NaN        NaN        NaN            7182.508268   \n2020-01-01 00:03:00        NaN        NaN        NaN            7185.079031   \n2020-01-01 00:04:00        NaN        NaN        NaN            7180.321098   \n...                        ...        ...        ...                    ...   \n2020-01-07 23:55:00  17.734517  11.495528   6.851664            8171.203355   \n2020-01-07 23:56:00  20.964809  13.589406   8.099676            8168.615262   \n2020-01-07 23:57:00  26.056263   16.88969   10.06674            8164.773023   \n2020-01-07 23:58:00  24.697829  16.009152   9.541914            8157.765786   \n2020-01-07 23:59:00  33.372553  21.632115  12.893361            8152.932475   \n\n                     Real Return  \n2020-01-01 00:00:00    -9.389794  \n2020-01-01 00:01:00    -4.427141  \n2020-01-01 00:02:00    -3.887251  \n2020-01-01 00:03:00     3.579199  \n2020-01-01 00:04:00    -6.621963  \n...                          ...  \n2020-01-07 23:55:00     9.497380  \n2020-01-07 23:56:00    -3.167334  \n2020-01-07 23:57:00    -4.703660  \n2020-01-07 23:58:00    -8.582280  \n2020-01-07 23:59:00    -5.924798  \n\n[10080 rows x 18 columns]",
      "text/html": "<div>\n<style scoped>\n    .dataframe tbody tr th:only-of-type {\n        vertical-align: middle;\n    }\n\n    .dataframe tbody tr th {\n        vertical-align: top;\n    }\n\n    .dataframe thead th {\n        text-align: right;\n    }\n</style>\n<table border=\"1\" class=\"dataframe\">\n  <thead>\n    <tr style=\"text-align: right;\">\n      <th></th>\n      <th>Market</th>\n      <th>Open</th>\n      <th>High</th>\n      <th>Low</th>\n      <th>Close</th>\n      <th>Volume</th>\n      <th>Value</th>\n      <th>No. Trades</th>\n      <th>Taker Buy Volume</th>\n      <th>Taker Buy Value</th>\n      <th>Feature 1</th>\n      <th>Feature 2</th>\n      <th>Feature 3</th>\n      <th>Feature 4</th>\n      <th>Feature 5</th>\n      <th>Feature 6</th>\n      <th>Weighted Price Average</th>\n      <th>Real Return</th>\n    </tr>\n  </thead>\n  <tbody>\n    <tr>\n      <th>2020-01-01 00:00:00</th>\n      <td>BTCUSDT</td>\n      <td>7195.24</td>\n      <td>7196.25</td>\n      <td>7183.14</td>\n      <td>7186.68</td>\n      <td>51.642812</td>\n      <td>371233.518355</td>\n      <td>493</td>\n      <td>19.59823</td>\n      <td>140888.414283</td>\n      <td>37.94958</td>\n      <td>NaN</td>\n      <td>0.563703</td>\n      <td>NaN</td>\n      <td>NaN</td>\n      <td>NaN</td>\n      <td>7188.483818</td>\n      <td>-9.389794</td>\n    </tr>\n    <tr>\n      <th>2020-01-01 00:01:00</th>\n      <td>BTCUSDT</td>\n      <td>7187.67</td>\n      <td>7188.06</td>\n      <td>7182.2</td>\n      <td>7184.03</td>\n      <td>7.248148</td>\n      <td>52080.127788</td>\n      <td>135</td>\n      <td>2.031772</td>\n      <td>14599.211924</td>\n      <td>28.031602</td>\n      <td>-85.964846</td>\n      <td>0.217325</td>\n      <td>NaN</td>\n      <td>NaN</td>\n      <td>NaN</td>\n      <td>7185.301375</td>\n      <td>-4.427141</td>\n    </tr>\n    <tr>\n      <th>2020-01-01 00:02:00</th>\n      <td>BTCUSDT</td>\n      <td>7184.41</td>\n      <td>7184.71</td>\n      <td>7180.26</td>\n      <td>7182.43</td>\n      <td>11.681677</td>\n      <td>83903.741635</td>\n      <td>202</td>\n      <td>5.479244</td>\n      <td>39357.081776</td>\n      <td>46.904601</td>\n      <td>61.167749</td>\n      <td>0.813428</td>\n      <td>NaN</td>\n      <td>NaN</td>\n      <td>NaN</td>\n      <td>7182.508268</td>\n      <td>-3.887251</td>\n    </tr>\n    <tr>\n      <th>2020-01-01 00:03:00</th>\n      <td>BTCUSDT</td>\n      <td>7183.83</td>\n      <td>7188.94</td>\n      <td>7182.49</td>\n      <td>7185.94</td>\n      <td>10.025391</td>\n      <td>72033.226649</td>\n      <td>136</td>\n      <td>3.294966</td>\n      <td>23680.571924</td>\n      <td>32.866209</td>\n      <td>-14.178495</td>\n      <td>2.703759</td>\n      <td>NaN</td>\n      <td>NaN</td>\n      <td>NaN</td>\n      <td>7185.079031</td>\n      <td>3.579199</td>\n    </tr>\n    <tr>\n      <th>2020-01-01 00:04:00</th>\n      <td>BTCUSDT</td>\n      <td>7185.54</td>\n      <td>7185.54</td>\n      <td>7178.64</td>\n      <td>7179.78</td>\n      <td>14.911105</td>\n      <td>107066.521825</td>\n      <td>161</td>\n      <td>2.369033</td>\n      <td>17012.015138</td>\n      <td>15.887709</td>\n      <td>48.733401</td>\n      <td>0.8017</td>\n      <td>NaN</td>\n      <td>NaN</td>\n      <td>NaN</td>\n      <td>7180.321098</td>\n      <td>-6.621963</td>\n    </tr>\n    <tr>\n      <th>...</th>\n      <td>...</td>\n      <td>...</td>\n      <td>...</td>\n      <td>...</td>\n      <td>...</td>\n      <td>...</td>\n      <td>...</td>\n      <td>...</td>\n      <td>...</td>\n      <td>...</td>\n      <td>...</td>\n      <td>...</td>\n      <td>...</td>\n      <td>...</td>\n      <td>...</td>\n      <td>...</td>\n      <td>...</td>\n      <td>...</td>\n    </tr>\n    <tr>\n      <th>2020-01-07 23:55:00</th>\n      <td>BTCUSDT</td>\n      <td>8163.09</td>\n      <td>8180.78</td>\n      <td>8162.58</td>\n      <td>8174.52</td>\n      <td>56.340474</td>\n      <td>460369.470177</td>\n      <td>664</td>\n      <td>34.532792</td>\n      <td>282162.676837</td>\n      <td>61.293045</td>\n      <td>12.595400</td>\n      <td>-0.881976</td>\n      <td>17.734517</td>\n      <td>11.495528</td>\n      <td>6.851664</td>\n      <td>8171.203355</td>\n      <td>9.497380</td>\n    </tr>\n    <tr>\n      <th>2020-01-07 23:56:00</th>\n      <td>BTCUSDT</td>\n      <td>8174.52</td>\n      <td>8176.52</td>\n      <td>8162.58</td>\n      <td>8168.48</td>\n      <td>46.824082</td>\n      <td>382487.910867</td>\n      <td>442</td>\n      <td>18.526946</td>\n      <td>151332.558308</td>\n      <td>39.567131</td>\n      <td>-16.890863</td>\n      <td>-0.619447</td>\n      <td>20.964809</td>\n      <td>13.589406</td>\n      <td>8.099676</td>\n      <td>8168.615262</td>\n      <td>-3.167334</td>\n    </tr>\n    <tr>\n      <th>2020-01-07 23:57:00</th>\n      <td>BTCUSDT</td>\n      <td>8167.76</td>\n      <td>8170.67</td>\n      <td>8157.5</td>\n      <td>8158.96</td>\n      <td>42.212437</td>\n      <td>344654.966852</td>\n      <td>403</td>\n      <td>19.19538</td>\n      <td>156750.172947</td>\n      <td>45.473281</td>\n      <td>-9.848874</td>\n      <td>2.317097</td>\n      <td>26.056263</td>\n      <td>16.88969</td>\n      <td>10.06674</td>\n      <td>8164.773023</td>\n      <td>-4.703660</td>\n    </tr>\n    <tr>\n      <th>2020-01-07 23:58:00</th>\n      <td>BTCUSDT</td>\n      <td>8158.73</td>\n      <td>8162.0</td>\n      <td>8153.77</td>\n      <td>8161.5</td>\n      <td>103.923</td>\n      <td>847779.49378</td>\n      <td>538</td>\n      <td>56.297305</td>\n      <td>459258.542236</td>\n      <td>54.172132</td>\n      <td>146.190477</td>\n      <td>-0.065362</td>\n      <td>24.697829</td>\n      <td>16.009152</td>\n      <td>9.541914</td>\n      <td>8157.765786</td>\n      <td>-8.582280</td>\n    </tr>\n    <tr>\n      <th>2020-01-07 23:59:00</th>\n      <td>BTCUSDT</td>\n      <td>8161.27</td>\n      <td>8161.48</td>\n      <td>8145.01</td>\n      <td>8145.28</td>\n      <td>56.360956</td>\n      <td>459507.068474</td>\n      <td>591</td>\n      <td>24.890672</td>\n      <td>202939.485046</td>\n      <td>44.16297</td>\n      <td>-45.766620</td>\n      <td>0.54086</td>\n      <td>33.372553</td>\n      <td>21.632115</td>\n      <td>12.893361</td>\n      <td>8152.932475</td>\n      <td>-5.924798</td>\n    </tr>\n  </tbody>\n</table>\n<p>10080 rows × 18 columns</p>\n</div>"
     },
     "execution_count": 5,
     "metadata": {},
     "output_type": "execute_result"
    }
   ],
   "source": [
    "real_return = df['Weighted Price Average'].pct_change() * 100 * RETURN_SCALE\n",
    "real_return[0] = (df.iloc[0]['Weighted Price Average'] / df.iloc[0]['Open'] - 1) * 100 * RETURN_SCALE\n",
    "df['Real Return'] = real_return\n",
    "df"
   ],
   "metadata": {
    "collapsed": false,
    "pycharm": {
     "name": "#%%\n"
    }
   }
  },
  {
   "cell_type": "code",
   "execution_count": 122,
   "outputs": [],
   "source": [
    "from scipy.stats import pearsonr\n",
    "x = df['Real Return']\n",
    "tmp = []\n",
    "for i in range(20):\n",
    "    y = x.shift(i+1).copy()\n",
    "    intersection = sorted(list(set(x.dropna().index).intersection(set(y.dropna().index))))\n",
    "    tmp.append(pearsonr(x.loc[intersection], y.loc[intersection]))\n",
    "# tmp = list(reversed(tmp))\n",
    "tmp = np.array(tmp)"
   ],
   "metadata": {
    "collapsed": false,
    "pycharm": {
     "name": "#%%\n"
    }
   }
  },
  {
   "cell_type": "code",
   "execution_count": 123,
   "outputs": [
    {
     "data": {
      "text/plain": "<Figure size 432x288 with 1 Axes>",
      "image/png": "[encoded data removed]"
     },
     "metadata": {
      "needs_background": "light"
     },
     "output_type": "display_data"
    }
   ],
   "source": [
    "%matplotlib inline\n",
    "plt.plot(tmp[:, 0])\n",
    "plt.show()"
   ],
   "metadata": {
    "collapsed": false,
    "pycharm": {
     "name": "#%%\n"
    }
   }
  },
  {
   "cell_type": "code",
   "execution_count": null,
   "outputs": [],
   "source": [
    "k = 120\n",
    "m = 15\n",
    "r = 6\n",
    "\n",
    "df['Prediction'] = None\n",
    "df['Measurement'] = None\n",
    "\n",
    "alpha = 1.1\n",
    "W = np.diag(alpha ** np.arange(k) / np.sum(alpha ** np.arange(k)))\n",
    "for n in np.arange(1440*5) + 2880:\n",
    "    A = np.zeros([k, m+r])\n",
    "    A[:, m:m+r] = df.iloc[(n-2)-(k-1):(n-2)+1][[f'Feature {i+1}' for i in range(r)]].to_numpy()\n",
    "    for i in range(m):\n",
    "        A[:, i] = df.iloc[(n-2)-(k-1)-i:(n-2)-i+1]['Real Return']\n",
    "    b = df.iloc[(n-1)-(k-1):(n-1)+1]['Real Return'].values\n",
    "    theta, _, _, _ = np.linalg.lstsq(np.dot(W, A), np.dot(W, b), rcond=-1)\n",
    "\n",
    "    prediction = np.dot(theta, np.concatenate([df.iloc[n-1:n-m-1:-1]['Real Return'].values,\n",
    "                                               df.iloc[n-1][[f'Feature {i+1}' for i in range(r)]].values]).ravel())\n",
    "    df.loc[df.index[n], 'Prediction'] = (1 + prediction / (100 * RETURN_SCALE)) * df.iloc[n-1]['Weighted Price Average']\n",
    "    df.loc[df.index[n], 'Measurement'] = df.iloc[n]['Open']\n",
    "\n",
    "df"
   ],
   "metadata": {
    "collapsed": false,
    "pycharm": {
     "name": "#%%\n",
     "is_executing": true
    }
   }
  },
  {
   "cell_type": "code",
   "execution_count": 254,
   "outputs": [
    {
     "name": "stdout",
     "output_type": "stream",
     "text": [
      "15.697884412174904 1420.9905366592998 27.019580662749565\n"
     ]
    },
    {
     "data": {
      "text/plain": "                      Market     Open     High      Low    Close     Volume  \\\n2020-01-03 00:00:00  BTCUSDT  6965.49  6965.71  6960.51  6961.42  11.291589   \n2020-01-03 00:01:00  BTCUSDT  6961.57   6963.2   6958.3  6961.06  16.231409   \n2020-01-03 00:02:00  BTCUSDT  6960.61  6961.84   6955.0  6956.32  10.534723   \n2020-01-03 00:03:00  BTCUSDT  6956.31  6957.63  6952.86  6957.33  17.161349   \n2020-01-03 00:04:00  BTCUSDT  6956.38  6957.61  6952.77  6956.03  19.905717   \n...                      ...      ...      ...      ...      ...        ...   \n2020-01-07 23:55:00  BTCUSDT  8163.09  8180.78  8162.58  8174.52  56.340474   \n2020-01-07 23:56:00  BTCUSDT  8174.52  8176.52  8162.58  8168.48  46.824082   \n2020-01-07 23:57:00  BTCUSDT  8167.76  8170.67   8157.5  8158.96  42.212437   \n2020-01-07 23:58:00  BTCUSDT  8158.73   8162.0  8153.77   8161.5    103.923   \n2020-01-07 23:59:00  BTCUSDT  8161.27  8161.48  8145.01  8145.28  56.360956   \n\n                             Value No. Trades Taker Buy Volume  \\\n2020-01-03 00:00:00    78627.43186        162         4.579532   \n2020-01-03 00:01:00  112976.459871        204        12.179533   \n2020-01-03 00:02:00   73303.537454        177         2.131688   \n2020-01-03 00:03:00   119351.82475        269         3.594401   \n2020-01-03 00:04:00  138436.281323        224         7.684713   \n...                            ...        ...              ...   \n2020-01-07 23:55:00  460369.470177        664        34.532792   \n2020-01-07 23:56:00  382487.910867        442        18.526946   \n2020-01-07 23:57:00  344654.966852        403         19.19538   \n2020-01-07 23:58:00   847779.49378        538        56.297305   \n2020-01-07 23:59:00  459507.068474        591        24.890672   \n\n                    Taker Buy Value  ...  Feature 6  Weighted Price Average  \\\n2020-01-03 00:00:00    31891.679144  ...  87.253267             6963.362894   \n2020-01-03 00:01:00    84774.931854  ...  87.378371             6960.360611   \n2020-01-03 00:02:00     14834.02476  ...  89.025577             6958.278585   \n2020-01-03 00:03:00    24999.993693  ...   88.67459             6954.687813   \n2020-01-03 00:04:00    53448.918688  ...  89.126355             6954.599089   \n...                             ...  ...        ...                     ...   \n2020-01-07 23:55:00   282162.676837  ...   6.851664             8171.203355   \n2020-01-07 23:56:00   151332.558308  ...   8.099676             8168.615262   \n2020-01-07 23:57:00   156750.172947  ...   10.06674             8164.773023   \n2020-01-07 23:58:00   459258.542236  ...   9.541914             8157.765786   \n2020-01-07 23:59:00   202939.485046  ...  12.893361             8152.932475   \n\n                    Real Return   Prediction Measurement Measurement Residual  \\\n2020-01-03 00:00:00    0.615193  6964.142706     6965.49             2.127106   \n2020-01-03 00:01:00   -4.311542  6960.664845     6961.57             1.209389   \n2020-01-03 00:02:00   -2.991262  6964.709211     6960.61             2.331415   \n2020-01-03 00:03:00   -5.160432  6954.878646     6956.31             1.622187   \n2020-01-03 00:04:00   -0.127574  6952.931551     6956.38             1.780911   \n...                         ...          ...         ...                  ...   \n2020-01-07 23:55:00    9.497380   8110.06169     8163.09            -8.113355   \n2020-01-07 23:56:00   -3.167334  8098.146461     8174.52             5.904738   \n2020-01-07 23:57:00   -4.703660   8198.16234     8167.76             2.986977   \n2020-01-07 23:58:00   -8.582280  8097.593886     8158.73             0.964214   \n2020-01-07 23:59:00   -5.924798  8082.757818     8161.27             8.337525   \n\n                    Prediction Residual  \\\n2020-01-03 00:00:00            -0.01963   \n2020-01-03 00:01:00            2.931442   \n2020-01-03 00:02:00            3.401948   \n2020-01-03 00:03:00            3.082337   \n2020-01-03 00:04:00           -1.345368   \n...                                 ...   \n2020-01-07 23:55:00          -44.363042   \n2020-01-07 23:56:00          -64.496618   \n2020-01-07 23:57:00           31.837836   \n2020-01-07 23:58:00          -24.214586   \n2020-01-07 23:59:00          -28.592978   \n\n                     Measurement Residual Weighted Variance  \\\n2020-01-03 00:00:00                                     NaN   \n2020-01-03 00:01:00                                     NaN   \n2020-01-03 00:02:00                                     NaN   \n2020-01-03 00:03:00                                     NaN   \n2020-01-03 00:04:00                                     NaN   \n...                                                     ...   \n2020-01-07 23:55:00                               78.424532   \n2020-01-07 23:56:00                               80.724158   \n2020-01-07 23:57:00                               80.467589   \n2020-01-07 23:58:00                               80.678726   \n2020-01-07 23:59:00                               85.174414   \n\n                    Prediction Residual Weighted Variance     Estimate  \n2020-01-03 00:00:00                                   NaN          NaN  \n2020-01-03 00:01:00                                   NaN          NaN  \n2020-01-03 00:02:00                                   NaN          NaN  \n2020-01-03 00:03:00                                   NaN          NaN  \n2020-01-03 00:04:00                                   NaN          NaN  \n...                                                   ...          ...  \n2020-01-07 23:55:00                            643.420328  8159.151668  \n2020-01-07 23:56:00                            975.607671  8169.139976  \n2020-01-07 23:57:00                           1070.186901  8169.777599  \n2020-01-07 23:58:00                           1109.275145   8157.02288  \n2020-01-07 23:59:00                           1095.511083  8158.605841  \n\n[7200 rows x 25 columns]",
      "text/html": "<div>\n<style scoped>\n    .dataframe tbody tr th:only-of-type {\n        vertical-align: middle;\n    }\n\n    .dataframe tbody tr th {\n        vertical-align: top;\n    }\n\n    .dataframe thead th {\n        text-align: right;\n    }\n</style>\n<table border=\"1\" class=\"dataframe\">\n  <thead>\n    <tr style=\"text-align: right;\">\n      <th></th>\n      <th>Market</th>\n      <th>Open</th>\n      <th>High</th>\n      <th>Low</th>\n      <th>Close</th>\n      <th>Volume</th>\n      <th>Value</th>\n      <th>No. Trades</th>\n      <th>Taker Buy Volume</th>\n      <th>Taker Buy Value</th>\n      <th>...</th>\n      <th>Feature 6</th>\n      <th>Weighted Price Average</th>\n      <th>Real Return</th>\n      <th>Prediction</th>\n      <th>Measurement</th>\n      <th>Measurement Residual</th>\n      <th>Prediction Residual</th>\n      <th>Measurement Residual Weighted Variance</th>\n      <th>Prediction Residual Weighted Variance</th>\n      <th>Estimate</th>\n    </tr>\n  </thead>\n  <tbody>\n    <tr>\n      <th>2020-01-03 00:00:00</th>\n      <td>BTCUSDT</td>\n      <td>6965.49</td>\n      <td>6965.71</td>\n      <td>6960.51</td>\n      <td>6961.42</td>\n      <td>11.291589</td>\n      <td>78627.43186</td>\n      <td>162</td>\n      <td>4.579532</td>\n      <td>31891.679144</td>\n      <td>...</td>\n      <td>87.253267</td>\n      <td>6963.362894</td>\n      <td>0.615193</td>\n      <td>6964.142706</td>\n      <td>6965.49</td>\n      <td>2.127106</td>\n      <td>-0.01963</td>\n      <td>NaN</td>\n      <td>NaN</td>\n      <td>NaN</td>\n    </tr>\n    <tr>\n      <th>2020-01-03 00:01:00</th>\n      <td>BTCUSDT</td>\n      <td>6961.57</td>\n      <td>6963.2</td>\n      <td>6958.3</td>\n      <td>6961.06</td>\n      <td>16.231409</td>\n      <td>112976.459871</td>\n      <td>204</td>\n      <td>12.179533</td>\n      <td>84774.931854</td>\n      <td>...</td>\n      <td>87.378371</td>\n      <td>6960.360611</td>\n      <td>-4.311542</td>\n      <td>6960.664845</td>\n      <td>6961.57</td>\n      <td>1.209389</td>\n      <td>2.931442</td>\n      <td>NaN</td>\n      <td>NaN</td>\n      <td>NaN</td>\n    </tr>\n    <tr>\n      <th>2020-01-03 00:02:00</th>\n      <td>BTCUSDT</td>\n      <td>6960.61</td>\n      <td>6961.84</td>\n      <td>6955.0</td>\n      <td>6956.32</td>\n      <td>10.534723</td>\n      <td>73303.537454</td>\n      <td>177</td>\n      <td>2.131688</td>\n      <td>14834.02476</td>\n      <td>...</td>\n      <td>89.025577</td>\n      <td>6958.278585</td>\n      <td>-2.991262</td>\n      <td>6964.709211</td>\n      <td>6960.61</td>\n      <td>2.331415</td>\n      <td>3.401948</td>\n      <td>NaN</td>\n      <td>NaN</td>\n      <td>NaN</td>\n    </tr>\n    <tr>\n      <th>2020-01-03 00:03:00</th>\n      <td>BTCUSDT</td>\n      <td>6956.31</td>\n      <td>6957.63</td>\n      <td>6952.86</td>\n      <td>6957.33</td>\n      <td>17.161349</td>\n      <td>119351.82475</td>\n      <td>269</td>\n      <td>3.594401</td>\n      <td>24999.993693</td>\n      <td>...</td>\n      <td>88.67459</td>\n      <td>6954.687813</td>\n      <td>-5.160432</td>\n      <td>6954.878646</td>\n      <td>6956.31</td>\n      <td>1.622187</td>\n      <td>3.082337</td>\n      <td>NaN</td>\n      <td>NaN</td>\n      <td>NaN</td>\n    </tr>\n    <tr>\n      <th>2020-01-03 00:04:00</th>\n      <td>BTCUSDT</td>\n      <td>6956.38</td>\n      <td>6957.61</td>\n      <td>6952.77</td>\n      <td>6956.03</td>\n      <td>19.905717</td>\n      <td>138436.281323</td>\n      <td>224</td>\n      <td>7.684713</td>\n      <td>53448.918688</td>\n      <td>...</td>\n      <td>89.126355</td>\n      <td>6954.599089</td>\n      <td>-0.127574</td>\n      <td>6952.931551</td>\n      <td>6956.38</td>\n      <td>1.780911</td>\n      <td>-1.345368</td>\n      <td>NaN</td>\n      <td>NaN</td>\n      <td>NaN</td>\n    </tr>\n    <tr>\n      <th>...</th>\n      <td>...</td>\n      <td>...</td>\n      <td>...</td>\n      <td>...</td>\n      <td>...</td>\n      <td>...</td>\n      <td>...</td>\n      <td>...</td>\n      <td>...</td>\n      <td>...</td>\n      <td>...</td>\n      <td>...</td>\n      <td>...</td>\n      <td>...</td>\n      <td>...</td>\n      <td>...</td>\n      <td>...</td>\n      <td>...</td>\n      <td>...</td>\n      <td>...</td>\n      <td>...</td>\n    </tr>\n    <tr>\n      <th>2020-01-07 23:55:00</th>\n      <td>BTCUSDT</td>\n      <td>8163.09</td>\n      <td>8180.78</td>\n      <td>8162.58</td>\n      <td>8174.52</td>\n      <td>56.340474</td>\n      <td>460369.470177</td>\n      <td>664</td>\n      <td>34.532792</td>\n      <td>282162.676837</td>\n      <td>...</td>\n      <td>6.851664</td>\n      <td>8171.203355</td>\n      <td>9.497380</td>\n      <td>8110.06169</td>\n      <td>8163.09</td>\n      <td>-8.113355</td>\n      <td>-44.363042</td>\n      <td>78.424532</td>\n      <td>643.420328</td>\n      <td>8159.151668</td>\n    </tr>\n    <tr>\n      <th>2020-01-07 23:56:00</th>\n      <td>BTCUSDT</td>\n      <td>8174.52</td>\n      <td>8176.52</td>\n      <td>8162.58</td>\n      <td>8168.48</td>\n      <td>46.824082</td>\n      <td>382487.910867</td>\n      <td>442</td>\n      <td>18.526946</td>\n      <td>151332.558308</td>\n      <td>...</td>\n      <td>8.099676</td>\n      <td>8168.615262</td>\n      <td>-3.167334</td>\n      <td>8098.146461</td>\n      <td>8174.52</td>\n      <td>5.904738</td>\n      <td>-64.496618</td>\n      <td>80.724158</td>\n      <td>975.607671</td>\n      <td>8169.139976</td>\n    </tr>\n    <tr>\n      <th>2020-01-07 23:57:00</th>\n      <td>BTCUSDT</td>\n      <td>8167.76</td>\n      <td>8170.67</td>\n      <td>8157.5</td>\n      <td>8158.96</td>\n      <td>42.212437</td>\n      <td>344654.966852</td>\n      <td>403</td>\n      <td>19.19538</td>\n      <td>156750.172947</td>\n      <td>...</td>\n      <td>10.06674</td>\n      <td>8164.773023</td>\n      <td>-4.703660</td>\n      <td>8198.16234</td>\n      <td>8167.76</td>\n      <td>2.986977</td>\n      <td>31.837836</td>\n      <td>80.467589</td>\n      <td>1070.186901</td>\n      <td>8169.777599</td>\n    </tr>\n    <tr>\n      <th>2020-01-07 23:58:00</th>\n      <td>BTCUSDT</td>\n      <td>8158.73</td>\n      <td>8162.0</td>\n      <td>8153.77</td>\n      <td>8161.5</td>\n      <td>103.923</td>\n      <td>847779.49378</td>\n      <td>538</td>\n      <td>56.297305</td>\n      <td>459258.542236</td>\n      <td>...</td>\n      <td>9.541914</td>\n      <td>8157.765786</td>\n      <td>-8.582280</td>\n      <td>8097.593886</td>\n      <td>8158.73</td>\n      <td>0.964214</td>\n      <td>-24.214586</td>\n      <td>80.678726</td>\n      <td>1109.275145</td>\n      <td>8157.02288</td>\n    </tr>\n    <tr>\n      <th>2020-01-07 23:59:00</th>\n      <td>BTCUSDT</td>\n      <td>8161.27</td>\n      <td>8161.48</td>\n      <td>8145.01</td>\n      <td>8145.28</td>\n      <td>56.360956</td>\n      <td>459507.068474</td>\n      <td>591</td>\n      <td>24.890672</td>\n      <td>202939.485046</td>\n      <td>...</td>\n      <td>12.893361</td>\n      <td>8152.932475</td>\n      <td>-5.924798</td>\n      <td>8082.757818</td>\n      <td>8161.27</td>\n      <td>8.337525</td>\n      <td>-28.592978</td>\n      <td>85.174414</td>\n      <td>1095.511083</td>\n      <td>8158.605841</td>\n    </tr>\n  </tbody>\n</table>\n<p>7200 rows × 25 columns</p>\n</div>"
     },
     "execution_count": 254,
     "metadata": {},
     "output_type": "execute_result"
    }
   ],
   "source": [
    "indices = (df['Measurement'] - df['Weighted Price Average']).dropna().index\n",
    "\n",
    "print(\n",
    "    (df.loc[indices, 'Measurement'] - df.loc[indices, 'Weighted Price Average']).var(),\n",
    "    (df.loc[indices, 'Prediction'] - df.loc[indices, 'Weighted Price Average']).var(),\n",
    "    (df.shift(1).loc[indices, 'Weighted Price Average'] - df.loc[indices, 'Weighted Price Average']).var()\n",
    ")\n",
    "\n",
    "df.loc[indices]"
   ],
   "metadata": {
    "collapsed": false,
    "pycharm": {
     "name": "#%%\n"
    }
   }
  },
  {
   "cell_type": "code",
   "execution_count": 255,
   "outputs": [
    {
     "data": {
      "text/plain": "                      Market     Open     High      Low    Close     Volume  \\\n2020-01-03 00:00:00  BTCUSDT  6965.49  6965.71  6960.51  6961.42  11.291589   \n2020-01-03 00:01:00  BTCUSDT  6961.57   6963.2   6958.3  6961.06  16.231409   \n2020-01-03 00:02:00  BTCUSDT  6960.61  6961.84   6955.0  6956.32  10.534723   \n2020-01-03 00:03:00  BTCUSDT  6956.31  6957.63  6952.86  6957.33  17.161349   \n2020-01-03 00:04:00  BTCUSDT  6956.38  6957.61  6952.77  6956.03  19.905717   \n...                      ...      ...      ...      ...      ...        ...   \n2020-01-07 23:55:00  BTCUSDT  8163.09  8180.78  8162.58  8174.52  56.340474   \n2020-01-07 23:56:00  BTCUSDT  8174.52  8176.52  8162.58  8168.48  46.824082   \n2020-01-07 23:57:00  BTCUSDT  8167.76  8170.67   8157.5  8158.96  42.212437   \n2020-01-07 23:58:00  BTCUSDT  8158.73   8162.0  8153.77   8161.5    103.923   \n2020-01-07 23:59:00  BTCUSDT  8161.27  8161.48  8145.01  8145.28  56.360956   \n\n                             Value No. Trades Taker Buy Volume  \\\n2020-01-03 00:00:00    78627.43186        162         4.579532   \n2020-01-03 00:01:00  112976.459871        204        12.179533   \n2020-01-03 00:02:00   73303.537454        177         2.131688   \n2020-01-03 00:03:00   119351.82475        269         3.594401   \n2020-01-03 00:04:00  138436.281323        224         7.684713   \n...                            ...        ...              ...   \n2020-01-07 23:55:00  460369.470177        664        34.532792   \n2020-01-07 23:56:00  382487.910867        442        18.526946   \n2020-01-07 23:57:00  344654.966852        403         19.19538   \n2020-01-07 23:58:00   847779.49378        538        56.297305   \n2020-01-07 23:59:00  459507.068474        591        24.890672   \n\n                    Taker Buy Value  ...  Feature 6  Weighted Price Average  \\\n2020-01-03 00:00:00    31891.679144  ...  87.253267             6963.362894   \n2020-01-03 00:01:00    84774.931854  ...  87.378371             6960.360611   \n2020-01-03 00:02:00     14834.02476  ...  89.025577             6958.278585   \n2020-01-03 00:03:00    24999.993693  ...   88.67459             6954.687813   \n2020-01-03 00:04:00    53448.918688  ...  89.126355             6954.599089   \n...                             ...  ...        ...                     ...   \n2020-01-07 23:55:00   282162.676837  ...   6.851664             8171.203355   \n2020-01-07 23:56:00   151332.558308  ...   8.099676             8168.615262   \n2020-01-07 23:57:00   156750.172947  ...   10.06674             8164.773023   \n2020-01-07 23:58:00   459258.542236  ...   9.541914             8157.765786   \n2020-01-07 23:59:00   202939.485046  ...  12.893361             8152.932475   \n\n                    Real Return   Prediction Measurement Measurement Residual  \\\n2020-01-03 00:00:00    0.615193  6964.142706     6965.49             2.127106   \n2020-01-03 00:01:00   -4.311542  6960.664845     6961.57             1.209389   \n2020-01-03 00:02:00   -2.991262  6964.709211     6960.61             2.331415   \n2020-01-03 00:03:00   -5.160432  6954.878646     6956.31             1.622187   \n2020-01-03 00:04:00   -0.127574  6952.931551     6956.38             1.780911   \n...                         ...          ...         ...                  ...   \n2020-01-07 23:55:00    9.497380   8110.06169     8163.09            -8.113355   \n2020-01-07 23:56:00   -3.167334  8098.146461     8174.52             5.904738   \n2020-01-07 23:57:00   -4.703660   8198.16234     8167.76             2.986977   \n2020-01-07 23:58:00   -8.582280  8097.593886     8158.73             0.964214   \n2020-01-07 23:59:00   -5.924798  8082.757818     8161.27             8.337525   \n\n                    Prediction Residual  \\\n2020-01-03 00:00:00            0.779812   \n2020-01-03 00:01:00            0.304233   \n2020-01-03 00:02:00            6.430626   \n2020-01-03 00:03:00            0.190833   \n2020-01-03 00:04:00           -1.667538   \n...                                 ...   \n2020-01-07 23:55:00          -61.141665   \n2020-01-07 23:56:00          -70.468802   \n2020-01-07 23:57:00           33.389317   \n2020-01-07 23:58:00            -60.1719   \n2020-01-07 23:59:00          -70.174656   \n\n                     Measurement Residual Weighted Variance  \\\n2020-01-03 00:00:00                                     NaN   \n2020-01-03 00:01:00                                     NaN   \n2020-01-03 00:02:00                                     NaN   \n2020-01-03 00:03:00                                     NaN   \n2020-01-03 00:04:00                                     NaN   \n...                                                     ...   \n2020-01-07 23:55:00                               78.424532   \n2020-01-07 23:56:00                               80.724158   \n2020-01-07 23:57:00                               80.467589   \n2020-01-07 23:58:00                               80.678726   \n2020-01-07 23:59:00                               85.174414   \n\n                    Prediction Residual Weighted Variance     Estimate  \n2020-01-03 00:00:00                                   NaN          NaN  \n2020-01-03 00:01:00                                   NaN          NaN  \n2020-01-03 00:02:00                                   NaN          NaN  \n2020-01-03 00:03:00                                   NaN          NaN  \n2020-01-03 00:04:00                                   NaN          NaN  \n...                                                   ...          ...  \n2020-01-07 23:55:00                           1013.288484  8159.280647  \n2020-01-07 23:56:00                           1348.366274  8170.205935  \n2020-01-07 23:57:00                           1485.202111  8169.322528  \n2020-01-07 23:58:00                           1688.479121  8155.942016  \n2020-01-07 23:59:00                           1871.518627  8157.852382  \n\n[7200 rows x 25 columns]",
      "text/html": "<div>\n<style scoped>\n    .dataframe tbody tr th:only-of-type {\n        vertical-align: middle;\n    }\n\n    .dataframe tbody tr th {\n        vertical-align: top;\n    }\n\n    .dataframe thead th {\n        text-align: right;\n    }\n</style>\n<table border=\"1\" class=\"dataframe\">\n  <thead>\n    <tr style=\"text-align: right;\">\n      <th></th>\n      <th>Market</th>\n      <th>Open</th>\n      <th>High</th>\n      <th>Low</th>\n      <th>Close</th>\n      <th>Volume</th>\n      <th>Value</th>\n      <th>No. Trades</th>\n      <th>Taker Buy Volume</th>\n      <th>Taker Buy Value</th>\n      <th>...</th>\n      <th>Feature 6</th>\n      <th>Weighted Price Average</th>\n      <th>Real Return</th>\n      <th>Prediction</th>\n      <th>Measurement</th>\n      <th>Measurement Residual</th>\n      <th>Prediction Residual</th>\n      <th>Measurement Residual Weighted Variance</th>\n      <th>Prediction Residual Weighted Variance</th>\n      <th>Estimate</th>\n    </tr>\n  </thead>\n  <tbody>\n    <tr>\n      <th>2020-01-03 00:00:00</th>\n      <td>BTCUSDT</td>\n      <td>6965.49</td>\n      <td>6965.71</td>\n      <td>6960.51</td>\n      <td>6961.42</td>\n      <td>11.291589</td>\n      <td>78627.43186</td>\n      <td>162</td>\n      <td>4.579532</td>\n      <td>31891.679144</td>\n      <td>...</td>\n      <td>87.253267</td>\n      <td>6963.362894</td>\n      <td>0.615193</td>\n      <td>6964.142706</td>\n      <td>6965.49</td>\n      <td>2.127106</td>\n      <td>0.779812</td>\n      <td>NaN</td>\n      <td>NaN</td>\n      <td>NaN</td>\n    </tr>\n    <tr>\n      <th>2020-01-03 00:01:00</th>\n      <td>BTCUSDT</td>\n      <td>6961.57</td>\n      <td>6963.2</td>\n      <td>6958.3</td>\n      <td>6961.06</td>\n      <td>16.231409</td>\n      <td>112976.459871</td>\n      <td>204</td>\n      <td>12.179533</td>\n      <td>84774.931854</td>\n      <td>...</td>\n      <td>87.378371</td>\n      <td>6960.360611</td>\n      <td>-4.311542</td>\n      <td>6960.664845</td>\n      <td>6961.57</td>\n      <td>1.209389</td>\n      <td>0.304233</td>\n      <td>NaN</td>\n      <td>NaN</td>\n      <td>NaN</td>\n    </tr>\n    <tr>\n      <th>2020-01-03 00:02:00</th>\n      <td>BTCUSDT</td>\n      <td>6960.61</td>\n      <td>6961.84</td>\n      <td>6955.0</td>\n      <td>6956.32</td>\n      <td>10.534723</td>\n      <td>73303.537454</td>\n      <td>177</td>\n      <td>2.131688</td>\n      <td>14834.02476</td>\n      <td>...</td>\n      <td>89.025577</td>\n      <td>6958.278585</td>\n      <td>-2.991262</td>\n      <td>6964.709211</td>\n      <td>6960.61</td>\n      <td>2.331415</td>\n      <td>6.430626</td>\n      <td>NaN</td>\n      <td>NaN</td>\n      <td>NaN</td>\n    </tr>\n    <tr>\n      <th>2020-01-03 00:03:00</th>\n      <td>BTCUSDT</td>\n      <td>6956.31</td>\n      <td>6957.63</td>\n      <td>6952.86</td>\n      <td>6957.33</td>\n      <td>17.161349</td>\n      <td>119351.82475</td>\n      <td>269</td>\n      <td>3.594401</td>\n      <td>24999.993693</td>\n      <td>...</td>\n      <td>88.67459</td>\n      <td>6954.687813</td>\n      <td>-5.160432</td>\n      <td>6954.878646</td>\n      <td>6956.31</td>\n      <td>1.622187</td>\n      <td>0.190833</td>\n      <td>NaN</td>\n      <td>NaN</td>\n      <td>NaN</td>\n    </tr>\n    <tr>\n      <th>2020-01-03 00:04:00</th>\n      <td>BTCUSDT</td>\n      <td>6956.38</td>\n      <td>6957.61</td>\n      <td>6952.77</td>\n      <td>6956.03</td>\n      <td>19.905717</td>\n      <td>138436.281323</td>\n      <td>224</td>\n      <td>7.684713</td>\n      <td>53448.918688</td>\n      <td>...</td>\n      <td>89.126355</td>\n      <td>6954.599089</td>\n      <td>-0.127574</td>\n      <td>6952.931551</td>\n      <td>6956.38</td>\n      <td>1.780911</td>\n      <td>-1.667538</td>\n      <td>NaN</td>\n      <td>NaN</td>\n      <td>NaN</td>\n    </tr>\n    <tr>\n      <th>...</th>\n      <td>...</td>\n      <td>...</td>\n      <td>...</td>\n      <td>...</td>\n      <td>...</td>\n      <td>...</td>\n      <td>...</td>\n      <td>...</td>\n      <td>...</td>\n      <td>...</td>\n      <td>...</td>\n      <td>...</td>\n      <td>...</td>\n      <td>...</td>\n      <td>...</td>\n      <td>...</td>\n      <td>...</td>\n      <td>...</td>\n      <td>...</td>\n      <td>...</td>\n      <td>...</td>\n    </tr>\n    <tr>\n      <th>2020-01-07 23:55:00</th>\n      <td>BTCUSDT</td>\n      <td>8163.09</td>\n      <td>8180.78</td>\n      <td>8162.58</td>\n      <td>8174.52</td>\n      <td>56.340474</td>\n      <td>460369.470177</td>\n      <td>664</td>\n      <td>34.532792</td>\n      <td>282162.676837</td>\n      <td>...</td>\n      <td>6.851664</td>\n      <td>8171.203355</td>\n      <td>9.497380</td>\n      <td>8110.06169</td>\n      <td>8163.09</td>\n      <td>-8.113355</td>\n      <td>-61.141665</td>\n      <td>78.424532</td>\n      <td>1013.288484</td>\n      <td>8159.280647</td>\n    </tr>\n    <tr>\n      <th>2020-01-07 23:56:00</th>\n      <td>BTCUSDT</td>\n      <td>8174.52</td>\n      <td>8176.52</td>\n      <td>8162.58</td>\n      <td>8168.48</td>\n      <td>46.824082</td>\n      <td>382487.910867</td>\n      <td>442</td>\n      <td>18.526946</td>\n      <td>151332.558308</td>\n      <td>...</td>\n      <td>8.099676</td>\n      <td>8168.615262</td>\n      <td>-3.167334</td>\n      <td>8098.146461</td>\n      <td>8174.52</td>\n      <td>5.904738</td>\n      <td>-70.468802</td>\n      <td>80.724158</td>\n      <td>1348.366274</td>\n      <td>8170.205935</td>\n    </tr>\n    <tr>\n      <th>2020-01-07 23:57:00</th>\n      <td>BTCUSDT</td>\n      <td>8167.76</td>\n      <td>8170.67</td>\n      <td>8157.5</td>\n      <td>8158.96</td>\n      <td>42.212437</td>\n      <td>344654.966852</td>\n      <td>403</td>\n      <td>19.19538</td>\n      <td>156750.172947</td>\n      <td>...</td>\n      <td>10.06674</td>\n      <td>8164.773023</td>\n      <td>-4.703660</td>\n      <td>8198.16234</td>\n      <td>8167.76</td>\n      <td>2.986977</td>\n      <td>33.389317</td>\n      <td>80.467589</td>\n      <td>1485.202111</td>\n      <td>8169.322528</td>\n    </tr>\n    <tr>\n      <th>2020-01-07 23:58:00</th>\n      <td>BTCUSDT</td>\n      <td>8158.73</td>\n      <td>8162.0</td>\n      <td>8153.77</td>\n      <td>8161.5</td>\n      <td>103.923</td>\n      <td>847779.49378</td>\n      <td>538</td>\n      <td>56.297305</td>\n      <td>459258.542236</td>\n      <td>...</td>\n      <td>9.541914</td>\n      <td>8157.765786</td>\n      <td>-8.582280</td>\n      <td>8097.593886</td>\n      <td>8158.73</td>\n      <td>0.964214</td>\n      <td>-60.1719</td>\n      <td>80.678726</td>\n      <td>1688.479121</td>\n      <td>8155.942016</td>\n    </tr>\n    <tr>\n      <th>2020-01-07 23:59:00</th>\n      <td>BTCUSDT</td>\n      <td>8161.27</td>\n      <td>8161.48</td>\n      <td>8145.01</td>\n      <td>8145.28</td>\n      <td>56.360956</td>\n      <td>459507.068474</td>\n      <td>591</td>\n      <td>24.890672</td>\n      <td>202939.485046</td>\n      <td>...</td>\n      <td>12.893361</td>\n      <td>8152.932475</td>\n      <td>-5.924798</td>\n      <td>8082.757818</td>\n      <td>8161.27</td>\n      <td>8.337525</td>\n      <td>-70.174656</td>\n      <td>85.174414</td>\n      <td>1871.518627</td>\n      <td>8157.852382</td>\n    </tr>\n  </tbody>\n</table>\n<p>7200 rows × 25 columns</p>\n</div>"
     },
     "execution_count": 255,
     "metadata": {},
     "output_type": "execute_result"
    }
   ],
   "source": [
    "df['Measurement Residual'] = df['Measurement'] - df['Weighted Price Average']\n",
    "df['Prediction Residual'] = df['Prediction'] - df['Weighted Price Average']\n",
    "df['Measurement Residual Weighted Variance'] = df['Measurement Residual'].rolling(26).var()\n",
    "df['Prediction Residual Weighted Variance'] = df['Prediction Residual'].rolling(13).var()\n",
    "df['Estimate'] = (df['Measurement Residual Weighted Variance'] * df['Prediction'] + df['Prediction Residual Weighted Variance'] * df['Measurement']) / (df['Measurement Residual Weighted Variance'] + df['Prediction Residual Weighted Variance'])\n",
    "df.loc[indices]"
   ],
   "metadata": {
    "collapsed": false,
    "pycharm": {
     "name": "#%%\n"
    }
   }
  },
  {
   "cell_type": "code",
   "execution_count": 256,
   "outputs": [
    {
     "data": {
      "text/plain": "<IPython.core.display.Javascript object>",
      "application/javascript": "/* Put everything inside the global mpl namespace */\n/* global mpl */\nwindow.mpl = {};\n\nmpl.get_websocket_type = function () {\n    if (typeof WebSocket !== 'undefined') {\n        return WebSocket;\n    } else if (typeof MozWebSocket !== 'undefined') {\n        return MozWebSocket;\n    } else {\n        alert(\n            'Your browser does not have WebSocket support. ' +\n                'Please try Chrome, Safari or Firefox ≥ 6. ' +\n                'Firefox 4 and 5 are also supported but you ' +\n                'have to enable WebSockets in about:config.'\n        );\n    }\n};\n\nmpl.figure = function (figure_id, websocket, ondownload, parent_element) {\n    this.id = figure_id;\n\n    this.ws = websocket;\n\n    this.supports_binary = this.ws.binaryType !== undefined;\n\n    if (!this.supports_binary) {\n        var warnings = document.getElementById('mpl-warnings');\n        if (warnings) {\n            warnings.style.display = 'block';\n            warnings.textContent =\n                'This browser does not support binary websocket messages. ' +\n                'Performance may be slow.';\n        }\n    }\n\n    this.imageObj = new Image();\n\n    this.context = undefined;\n    this.message = undefined;\n    this.canvas = undefined;\n    this.rubberband_canvas = undefined;\n    this.rubberband_context = undefined;\n    this.format_dropdown = undefined;\n\n    this.image_mode = 'full';\n\n    this.root = document.createElement('div');\n    this.root.setAttribute('style', 'display: inline-block');\n    this._root_extra_style(this.root);\n\n    parent_element.appendChild(this.root);\n\n    this._init_header(this);\n    this._init_canvas(this);\n    this._init_toolbar(this);\n\n    var fig = this;\n\n    this.waiting = false;\n\n    this.ws.onopen = function () {\n        fig.send_message('supports_binary', { value: fig.supports_binary });\n        fig.send_message('send_image_mode', {});\n        if (fig.ratio !== 1) {\n            fig.send_message('set_device_pixel_ratio', {\n                device_pixel_ratio: fig.ratio,\n            });\n        }\n        fig.send_message('refresh', {});\n    };\n\n    this.imageObj.onload = function () {\n        if (fig.image_mode === 'full') {\n            // Full images could contain transparency (where diff images\n            // almost always do), so we need to clear the canvas so that\n            // there is no ghosting.\n            fig.context.clearRect(0, 0, fig.canvas.width, fig.canvas.height);\n        }\n        fig.context.drawImage(fig.imageObj, 0, 0);\n    };\n\n    this.imageObj.onunload = function () {\n        fig.ws.close();\n    };\n\n    this.ws.onmessage = this._make_on_message_function(this);\n\n    this.ondownload = ondownload;\n};\n\nmpl.figure.prototype._init_header = function () {\n    var titlebar = document.createElement('div');\n    titlebar.classList =\n        'ui-dialog-titlebar ui-widget-header ui-corner-all ui-helper-clearfix';\n    var titletext = document.createElement('div');\n    titletext.classList = 'ui-dialog-title';\n    titletext.setAttribute(\n        'style',\n        'width: 100%; text-align: center; padding: 3px;'\n    );\n    titlebar.appendChild(titletext);\n    this.root.appendChild(titlebar);\n    this.header = titletext;\n};\n\nmpl.figure.prototype._canvas_extra_style = function (_canvas_div) {};\n\nmpl.figure.prototype._root_extra_style = function (_canvas_div) {};\n\nmpl.figure.prototype._init_canvas = function () {\n    var fig = this;\n\n    var canvas_div = (this.canvas_div = document.createElement('div'));\n    canvas_div.setAttribute(\n        'style',\n        'border: 1px solid #ddd;' +\n            'box-sizing: content-box;' +\n            'clear: both;' +\n            'min-height: 1px;' +\n            'min-width: 1px;' +\n            'outline: 0;' +\n            'overflow: hidden;' +\n            'position: relative;' +\n            'resize: both;'\n    );\n\n    function on_keyboard_event_closure(name) {\n        return function (event) {\n            return fig.key_event(event, name);\n        };\n    }\n\n    canvas_div.addEventListener(\n        'keydown',\n        on_keyboard_event_closure('key_press')\n    );\n    canvas_div.addEventListener(\n        'keyup',\n        on_keyboard_event_closure('key_release')\n    );\n\n    this._canvas_extra_style(canvas_div);\n    this.root.appendChild(canvas_div);\n\n    var canvas = (this.canvas = document.createElement('canvas'));\n    canvas.classList.add('mpl-canvas');\n    canvas.setAttribute('style', 'box-sizing: content-box;');\n\n    this.context = canvas.getContext('2d');\n\n    var backingStore =\n        this.context.backingStorePixelRatio ||\n        this.context.webkitBackingStorePixelRatio ||\n        this.context.mozBackingStorePixelRatio ||\n        this.context.msBackingStorePixelRatio ||\n        this.context.oBackingStorePixelRatio ||\n        this.context.backingStorePixelRatio ||\n        1;\n\n    this.ratio = (window.devicePixelRatio || 1) / backingStore;\n\n    var rubberband_canvas = (this.rubberband_canvas = document.createElement(\n        'canvas'\n    ));\n    rubberband_canvas.setAttribute(\n        'style',\n        'box-sizing: content-box; position: absolute; left: 0; top: 0; z-index: 1;'\n    );\n\n    // Apply a ponyfill if ResizeObserver is not implemented by browser.\n    if (this.ResizeObserver === undefined) {\n        if (window.ResizeObserver !== undefined) {\n            this.ResizeObserver = window.ResizeObserver;\n        } else {\n            var obs = _JSXTOOLS_RESIZE_OBSERVER({});\n            this.ResizeObserver = obs.ResizeObserver;\n        }\n    }\n\n    this.resizeObserverInstance = new this.ResizeObserver(function (entries) {\n        var nentries = entries.length;\n        for (var i = 0; i < nentries; i++) {\n            var entry = entries[i];\n            var width, height;\n            if (entry.contentBoxSize) {\n                if (entry.contentBoxSize instanceof Array) {\n                    // Chrome 84 implements new version of spec.\n                    width = entry.contentBoxSize[0].inlineSize;\n                    height = entry.contentBoxSize[0].blockSize;\n                } else {\n                    // Firefox implements old version of spec.\n                    width = entry.contentBoxSize.inlineSize;\n                    height = entry.contentBoxSize.blockSize;\n                }\n            } else {\n                // Chrome <84 implements even older version of spec.\n                width = entry.contentRect.width;\n                height = entry.contentRect.height;\n            }\n\n            // Keep the size of the canvas and rubber band canvas in sync with\n            // the canvas container.\n            if (entry.devicePixelContentBoxSize) {\n                // Chrome 84 implements new version of spec.\n                canvas.setAttribute(\n                    'width',\n                    entry.devicePixelContentBoxSize[0].inlineSize\n                );\n                canvas.setAttribute(\n                    'height',\n                    entry.devicePixelContentBoxSize[0].blockSize\n                );\n            } else {\n                canvas.setAttribute('width', width * fig.ratio);\n                canvas.setAttribute('height', height * fig.ratio);\n            }\n            canvas.setAttribute(\n                'style',\n                'width: ' + width + 'px; height: ' + height + 'px;'\n            );\n\n            rubberband_canvas.setAttribute('width', width);\n            rubberband_canvas.setAttribute('height', height);\n\n            // And update the size in Python. We ignore the initial 0/0 size\n            // that occurs as the element is placed into the DOM, which should\n            // otherwise not happen due to the minimum size styling.\n            if (fig.ws.readyState == 1 && width != 0 && height != 0) {\n                fig.request_resize(width, height);\n            }\n        }\n    });\n    this.resizeObserverInstance.observe(canvas_div);\n\n    function on_mouse_event_closure(name) {\n        return function (event) {\n            return fig.mouse_event(event, name);\n        };\n    }\n\n    rubberband_canvas.addEventListener(\n        'mousedown',\n        on_mouse_event_closure('button_press')\n    );\n    rubberband_canvas.addEventListener(\n        'mouseup',\n        on_mouse_event_closure('button_release')\n    );\n    rubberband_canvas.addEventListener(\n        'dblclick',\n        on_mouse_event_closure('dblclick')\n    );\n    // Throttle sequential mouse events to 1 every 20ms.\n    rubberband_canvas.addEventListener(\n        'mousemove',\n        on_mouse_event_closure('motion_notify')\n    );\n\n    rubberband_canvas.addEventListener(\n        'mouseenter',\n        on_mouse_event_closure('figure_enter')\n    );\n    rubberband_canvas.addEventListener(\n        'mouseleave',\n        on_mouse_event_closure('figure_leave')\n    );\n\n    canvas_div.addEventListener('wheel', function (event) {\n        if (event.deltaY < 0) {\n            event.step = 1;\n        } else {\n            event.step = -1;\n        }\n        on_mouse_event_closure('scroll')(event);\n    });\n\n    canvas_div.appendChild(canvas);\n    canvas_div.appendChild(rubberband_canvas);\n\n    this.rubberband_context = rubberband_canvas.getContext('2d');\n    this.rubberband_context.strokeStyle = '#000000';\n\n    this._resize_canvas = function (width, height, forward) {\n        if (forward) {\n            canvas_div.style.width = width + 'px';\n            canvas_div.style.height = height + 'px';\n        }\n    };\n\n    // Disable right mouse context menu.\n    this.rubberband_canvas.addEventListener('contextmenu', function (_e) {\n        event.preventDefault();\n        return false;\n    });\n\n    function set_focus() {\n        canvas.focus();\n        canvas_div.focus();\n    }\n\n    window.setTimeout(set_focus, 100);\n};\n\nmpl.figure.prototype._init_toolbar = function () {\n    var fig = this;\n\n    var toolbar = document.createElement('div');\n    toolbar.classList = 'mpl-toolbar';\n    this.root.appendChild(toolbar);\n\n    function on_click_closure(name) {\n        return function (_event) {\n            return fig.toolbar_button_onclick(name);\n        };\n    }\n\n    function on_mouseover_closure(tooltip) {\n        return function (event) {\n            if (!event.currentTarget.disabled) {\n                return fig.toolbar_button_onmouseover(tooltip);\n            }\n        };\n    }\n\n    fig.buttons = {};\n    var buttonGroup = document.createElement('div');\n    buttonGroup.classList = 'mpl-button-group';\n    for (var toolbar_ind in mpl.toolbar_items) {\n        var name = mpl.toolbar_items[toolbar_ind][0];\n        var tooltip = mpl.toolbar_items[toolbar_ind][1];\n        var image = mpl.toolbar_items[toolbar_ind][2];\n        var method_name = mpl.toolbar_items[toolbar_ind][3];\n\n        if (!name) {\n            /* Instead of a spacer, we start a new button group. */\n            if (buttonGroup.hasChildNodes()) {\n                toolbar.appendChild(buttonGroup);\n            }\n            buttonGroup = document.createElement('div');\n            buttonGroup.classList = 'mpl-button-group';\n            continue;\n        }\n\n        var button = (fig.buttons[name] = document.createElement('button'));\n        button.classList = 'mpl-widget';\n        button.setAttribute('role', 'button');\n        button.setAttribute('aria-disabled', 'false');\n        button.addEventListener('click', on_click_closure(method_name));\n        button.addEventListener('mouseover', on_mouseover_closure(tooltip));\n\n        var icon_img = document.createElement('img');\n        icon_img.src = '_images/' + image + '.png';\n        icon_img.srcset = '_images/' + image + '_large.png 2x';\n        icon_img.alt = tooltip;\n        button.appendChild(icon_img);\n\n        buttonGroup.appendChild(button);\n    }\n\n    if (buttonGroup.hasChildNodes()) {\n        toolbar.appendChild(buttonGroup);\n    }\n\n    var fmt_picker = document.createElement('select');\n    fmt_picker.classList = 'mpl-widget';\n    toolbar.appendChild(fmt_picker);\n    this.format_dropdown = fmt_picker;\n\n    for (var ind in mpl.extensions) {\n        var fmt = mpl.extensions[ind];\n        var option = document.createElement('option');\n        option.selected = fmt === mpl.default_extension;\n        option.innerHTML = fmt;\n        fmt_picker.appendChild(option);\n    }\n\n    var status_bar = document.createElement('span');\n    status_bar.classList = 'mpl-message';\n    toolbar.appendChild(status_bar);\n    this.message = status_bar;\n};\n\nmpl.figure.prototype.request_resize = function (x_pixels, y_pixels) {\n    // Request matplotlib to resize the figure. Matplotlib will then trigger a resize in the client,\n    // which will in turn request a refresh of the image.\n    this.send_message('resize', { width: x_pixels, height: y_pixels });\n};\n\nmpl.figure.prototype.send_message = function (type, properties) {\n    properties['type'] = type;\n    properties['figure_id'] = this.id;\n    this.ws.send(JSON.stringify(properties));\n};\n\nmpl.figure.prototype.send_draw_message = function () {\n    if (!this.waiting) {\n        this.waiting = true;\n        this.ws.send(JSON.stringify({ type: 'draw', figure_id: this.id }));\n    }\n};\n\nmpl.figure.prototype.handle_save = function (fig, _msg) {\n    var format_dropdown = fig.format_dropdown;\n    var format = format_dropdown.options[format_dropdown.selectedIndex].value;\n    fig.ondownload(fig, format);\n};\n\nmpl.figure.prototype.handle_resize = function (fig, msg) {\n    var size = msg['size'];\n    if (size[0] !== fig.canvas.width || size[1] !== fig.canvas.height) {\n        fig._resize_canvas(size[0], size[1], msg['forward']);\n        fig.send_message('refresh', {});\n    }\n};\n\nmpl.figure.prototype.handle_rubberband = function (fig, msg) {\n    var x0 = msg['x0'] / fig.ratio;\n    var y0 = (fig.canvas.height - msg['y0']) / fig.ratio;\n    var x1 = msg['x1'] / fig.ratio;\n    var y1 = (fig.canvas.height - msg['y1']) / fig.ratio;\n    x0 = Math.floor(x0) + 0.5;\n    y0 = Math.floor(y0) + 0.5;\n    x1 = Math.floor(x1) + 0.5;\n    y1 = Math.floor(y1) + 0.5;\n    var min_x = Math.min(x0, x1);\n    var min_y = Math.min(y0, y1);\n    var width = Math.abs(x1 - x0);\n    var height = Math.abs(y1 - y0);\n\n    fig.rubberband_context.clearRect(\n        0,\n        0,\n        fig.canvas.width / fig.ratio,\n        fig.canvas.height / fig.ratio\n    );\n\n    fig.rubberband_context.strokeRect(min_x, min_y, width, height);\n};\n\nmpl.figure.prototype.handle_figure_label = function (fig, msg) {\n    // Updates the figure title.\n    fig.header.textContent = msg['label'];\n};\n\nmpl.figure.prototype.handle_cursor = function (fig, msg) {\n    fig.rubberband_canvas.style.cursor = msg['cursor'];\n};\n\nmpl.figure.prototype.handle_message = function (fig, msg) {\n    fig.message.textContent = msg['message'];\n};\n\nmpl.figure.prototype.handle_draw = function (fig, _msg) {\n    // Request the server to send over a new figure.\n    fig.send_draw_message();\n};\n\nmpl.figure.prototype.handle_image_mode = function (fig, msg) {\n    fig.image_mode = msg['mode'];\n};\n\nmpl.figure.prototype.handle_history_buttons = function (fig, msg) {\n    for (var key in msg) {\n        if (!(key in fig.buttons)) {\n            continue;\n        }\n        fig.buttons[key].disabled = !msg[key];\n        fig.buttons[key].setAttribute('aria-disabled', !msg[key]);\n    }\n};\n\nmpl.figure.prototype.handle_navigate_mode = function (fig, msg) {\n    if (msg['mode'] === 'PAN') {\n        fig.buttons['Pan'].classList.add('active');\n        fig.buttons['Zoom'].classList.remove('active');\n    } else if (msg['mode'] === 'ZOOM') {\n        fig.buttons['Pan'].classList.remove('active');\n        fig.buttons['Zoom'].classList.add('active');\n    } else {\n        fig.buttons['Pan'].classList.remove('active');\n        fig.buttons['Zoom'].classList.remove('active');\n    }\n};\n\nmpl.figure.prototype.updated_canvas_event = function () {\n    // Called whenever the canvas gets updated.\n    this.send_message('ack', {});\n};\n\n// A function to construct a web socket function for onmessage handling.\n// Called in the figure constructor.\nmpl.figure.prototype._make_on_message_function = function (fig) {\n    return function socket_on_message(evt) {\n        if (evt.data instanceof Blob) {\n            var img = evt.data;\n            if (img.type !== 'image/png') {\n                /* FIXME: We get \"Resource interpreted as Image but\n                 * transferred with MIME type text/plain:\" errors on\n                 * Chrome.  But how to set the MIME type?  It doesn't seem\n                 * to be part of the websocket stream */\n                img.type = 'image/png';\n            }\n\n            /* Free the memory for the previous frames */\n            if (fig.imageObj.src) {\n                (window.URL || window.webkitURL).revokeObjectURL(\n                    fig.imageObj.src\n                );\n            }\n\n            fig.imageObj.src = (window.URL || window.webkitURL).createObjectURL(\n                img\n            );\n            fig.updated_canvas_event();\n            fig.waiting = false;\n            return;\n        } else if (\n            typeof evt.data === 'string' &&\n            evt.data.slice(0, 21) === 'data:image/png;base64'\n        ) {\n            fig.imageObj.src = evt.data;\n            fig.updated_canvas_event();\n            fig.waiting = false;\n            return;\n        }\n\n        var msg = JSON.parse(evt.data);\n        var msg_type = msg['type'];\n\n        // Call the  \"handle_{type}\" callback, which takes\n        // the figure and JSON message as its only arguments.\n        try {\n            var callback = fig['handle_' + msg_type];\n        } catch (e) {\n            console.log(\n                \"No handler for the '\" + msg_type + \"' message type: \",\n                msg\n            );\n            return;\n        }\n\n        if (callback) {\n            try {\n                // console.log(\"Handling '\" + msg_type + \"' message: \", msg);\n                callback(fig, msg);\n            } catch (e) {\n                console.log(\n                    \"Exception inside the 'handler_\" + msg_type + \"' callback:\",\n                    e,\n                    e.stack,\n                    msg\n                );\n            }\n        }\n    };\n};\n\n// from https://stackoverflow.com/questions/1114465/getting-mouse-location-in-canvas\nmpl.findpos = function (e) {\n    //this section is from http://www.quirksmode.org/js/events_properties.html\n    var targ;\n    if (!e) {\n        e = window.event;\n    }\n    if (e.target) {\n        targ = e.target;\n    } else if (e.srcElement) {\n        targ = e.srcElement;\n    }\n    if (targ.nodeType === 3) {\n        // defeat Safari bug\n        targ = targ.parentNode;\n    }\n\n    // pageX,Y are the mouse positions relative to the document\n    var boundingRect = targ.getBoundingClientRect();\n    var x = e.pageX - (boundingRect.left + document.body.scrollLeft);\n    var y = e.pageY - (boundingRect.top + document.body.scrollTop);\n\n    return { x: x, y: y };\n};\n\n/*\n * return a copy of an object with only non-object keys\n * we need this to avoid circular references\n * https://stackoverflow.com/a/24161582/3208463\n */\nfunction simpleKeys(original) {\n    return Object.keys(original).reduce(function (obj, key) {\n        if (typeof original[key] !== 'object') {\n            obj[key] = original[key];\n        }\n        return obj;\n    }, {});\n}\n\nmpl.figure.prototype.mouse_event = function (event, name) {\n    var canvas_pos = mpl.findpos(event);\n\n    if (name === 'button_press') {\n        this.canvas.focus();\n        this.canvas_div.focus();\n    }\n\n    var x = canvas_pos.x * this.ratio;\n    var y = canvas_pos.y * this.ratio;\n\n    this.send_message(name, {\n        x: x,\n        y: y,\n        button: event.button,\n        step: event.step,\n        guiEvent: simpleKeys(event),\n    });\n\n    /* This prevents the web browser from automatically changing to\n     * the text insertion cursor when the button is pressed.  We want\n     * to control all of the cursor setting manually through the\n     * 'cursor' event from matplotlib */\n    event.preventDefault();\n    return false;\n};\n\nmpl.figure.prototype._key_event_extra = function (_event, _name) {\n    // Handle any extra behaviour associated with a key event\n};\n\nmpl.figure.prototype.key_event = function (event, name) {\n    // Prevent repeat events\n    if (name === 'key_press') {\n        if (event.key === this._key) {\n            return;\n        } else {\n            this._key = event.key;\n        }\n    }\n    if (name === 'key_release') {\n        this._key = null;\n    }\n\n    var value = '';\n    if (event.ctrlKey && event.key !== 'Control') {\n        value += 'ctrl+';\n    }\n    else if (event.altKey && event.key !== 'Alt') {\n        value += 'alt+';\n    }\n    else if (event.shiftKey && event.key !== 'Shift') {\n        value += 'shift+';\n    }\n\n    value += 'k' + event.key;\n\n    this._key_event_extra(event, name);\n\n    this.send_message(name, { key: value, guiEvent: simpleKeys(event) });\n    return false;\n};\n\nmpl.figure.prototype.toolbar_button_onclick = function (name) {\n    if (name === 'download') {\n        this.handle_save(this, null);\n    } else {\n        this.send_message('toolbar_button', { name: name });\n    }\n};\n\nmpl.figure.prototype.toolbar_button_onmouseover = function (tooltip) {\n    this.message.textContent = tooltip;\n};\n\n///////////////// REMAINING CONTENT GENERATED BY embed_js.py /////////////////\n// prettier-ignore\nvar _JSXTOOLS_RESIZE_OBSERVER=function(A){var t,i=new WeakMap,n=new WeakMap,a=new WeakMap,r=new WeakMap,o=new Set;function s(e){if(!(this instanceof s))throw new TypeError(\"Constructor requires 'new' operator\");i.set(this,e)}function h(){throw new TypeError(\"Function is not a constructor\")}function c(e,t,i,n){e=0 in arguments?Number(arguments[0]):0,t=1 in arguments?Number(arguments[1]):0,i=2 in arguments?Number(arguments[2]):0,n=3 in arguments?Number(arguments[3]):0,this.right=(this.x=this.left=e)+(this.width=i),this.bottom=(this.y=this.top=t)+(this.height=n),Object.freeze(this)}function d(){t=requestAnimationFrame(d);var s=new WeakMap,p=new Set;o.forEach((function(t){r.get(t).forEach((function(i){var r=t instanceof window.SVGElement,o=a.get(t),d=r?0:parseFloat(o.paddingTop),f=r?0:parseFloat(o.paddingRight),l=r?0:parseFloat(o.paddingBottom),u=r?0:parseFloat(o.paddingLeft),g=r?0:parseFloat(o.borderTopWidth),m=r?0:parseFloat(o.borderRightWidth),w=r?0:parseFloat(o.borderBottomWidth),b=u+f,F=d+l,v=(r?0:parseFloat(o.borderLeftWidth))+m,W=g+w,y=r?0:t.offsetHeight-W-t.clientHeight,E=r?0:t.offsetWidth-v-t.clientWidth,R=b+v,z=F+W,M=r?t.width:parseFloat(o.width)-R-E,O=r?t.height:parseFloat(o.height)-z-y;if(n.has(t)){var k=n.get(t);if(k[0]===M&&k[1]===O)return}n.set(t,[M,O]);var S=Object.create(h.prototype);S.target=t,S.contentRect=new c(u,d,M,O),s.has(i)||(s.set(i,[]),p.add(i)),s.get(i).push(S)}))})),p.forEach((function(e){i.get(e).call(e,s.get(e),e)}))}return s.prototype.observe=function(i){if(i instanceof window.Element){r.has(i)||(r.set(i,new Set),o.add(i),a.set(i,window.getComputedStyle(i)));var n=r.get(i);n.has(this)||n.add(this),cancelAnimationFrame(t),t=requestAnimationFrame(d)}},s.prototype.unobserve=function(i){if(i instanceof window.Element&&r.has(i)){var n=r.get(i);n.has(this)&&(n.delete(this),n.size||(r.delete(i),o.delete(i))),n.size||r.delete(i),o.size||cancelAnimationFrame(t)}},A.DOMRectReadOnly=c,A.ResizeObserver=s,A.ResizeObserverEntry=h,A}; // eslint-disable-line\nmpl.toolbar_items = [[\"Home\", \"Reset original view\", \"fa fa-home icon-home\", \"home\"], [\"Back\", \"Back to previous view\", \"fa fa-arrow-left icon-arrow-left\", \"back\"], [\"Forward\", \"Forward to next view\", \"fa fa-arrow-right icon-arrow-right\", \"forward\"], [\"\", \"\", \"\", \"\"], [\"Pan\", \"Left button pans, Right button zooms\\nx/y fixes axis, CTRL fixes aspect\", \"fa fa-arrows icon-move\", \"pan\"], [\"Zoom\", \"Zoom to rectangle\\nx/y fixes axis\", \"fa fa-square-o icon-check-empty\", \"zoom\"], [\"\", \"\", \"\", \"\"], [\"Download\", \"Download plot\", \"fa fa-floppy-o icon-save\", \"download\"]];\n\nmpl.extensions = [\"eps\", \"jpeg\", \"pgf\", \"pdf\", \"png\", \"ps\", \"raw\", \"svg\", \"tif\"];\n\nmpl.default_extension = \"png\";/* global mpl */\n\nvar comm_websocket_adapter = function (comm) {\n    // Create a \"websocket\"-like object which calls the given IPython comm\n    // object with the appropriate methods. Currently this is a non binary\n    // socket, so there is still some room for performance tuning.\n    var ws = {};\n\n    ws.binaryType = comm.kernel.ws.binaryType;\n    ws.readyState = comm.kernel.ws.readyState;\n    function updateReadyState(_event) {\n        if (comm.kernel.ws) {\n            ws.readyState = comm.kernel.ws.readyState;\n        } else {\n            ws.readyState = 3; // Closed state.\n        }\n    }\n    comm.kernel.ws.addEventListener('open', updateReadyState);\n    comm.kernel.ws.addEventListener('close', updateReadyState);\n    comm.kernel.ws.addEventListener('error', updateReadyState);\n\n    ws.close = function () {\n        comm.close();\n    };\n    ws.send = function (m) {\n        //console.log('sending', m);\n        comm.send(m);\n    };\n    // Register the callback with on_msg.\n    comm.on_msg(function (msg) {\n        //console.log('receiving', msg['content']['data'], msg);\n        var data = msg['content']['data'];\n        if (data['blob'] !== undefined) {\n            data = {\n                data: new Blob(msg['buffers'], { type: data['blob'] }),\n            };\n        }\n        // Pass the mpl event to the overridden (by mpl) onmessage function.\n        ws.onmessage(data);\n    });\n    return ws;\n};\n\nmpl.mpl_figure_comm = function (comm, msg) {\n    // This is the function which gets called when the mpl process\n    // starts-up an IPython Comm through the \"matplotlib\" channel.\n\n    var id = msg.content.data.id;\n    // Get hold of the div created by the display call when the Comm\n    // socket was opened in Python.\n    var element = document.getElementById(id);\n    var ws_proxy = comm_websocket_adapter(comm);\n\n    function ondownload(figure, _format) {\n        window.open(figure.canvas.toDataURL());\n    }\n\n    var fig = new mpl.figure(id, ws_proxy, ondownload, element);\n\n    // Call onopen now - mpl needs it, as it is assuming we've passed it a real\n    // web socket which is closed, not our websocket->open comm proxy.\n    ws_proxy.onopen();\n\n    fig.parent_element = element;\n    fig.cell_info = mpl.find_output_cell(\"<div id='\" + id + \"'></div>\");\n    if (!fig.cell_info) {\n        console.error('Failed to find cell for figure', id, fig);\n        return;\n    }\n    fig.cell_info[0].output_area.element.on(\n        'cleared',\n        { fig: fig },\n        fig._remove_fig_handler\n    );\n};\n\nmpl.figure.prototype.handle_close = function (fig, msg) {\n    var width = fig.canvas.width / fig.ratio;\n    fig.cell_info[0].output_area.element.off(\n        'cleared',\n        fig._remove_fig_handler\n    );\n    fig.resizeObserverInstance.unobserve(fig.canvas_div);\n\n    // Update the output cell to use the data from the current canvas.\n    fig.push_to_output();\n    var dataURL = fig.canvas.toDataURL();\n    // Re-enable the keyboard manager in IPython - without this line, in FF,\n    // the notebook keyboard shortcuts fail.\n    IPython.keyboard_manager.enable();\n    fig.parent_element.innerHTML =\n        '<img src=\"' + dataURL + '\" width=\"' + width + '\">';\n    fig.close_ws(fig, msg);\n};\n\nmpl.figure.prototype.close_ws = function (fig, msg) {\n    fig.send_message('closing', msg);\n    // fig.ws.close()\n};\n\nmpl.figure.prototype.push_to_output = function (_remove_interactive) {\n    // Turn the data on the canvas into data in the output cell.\n    var width = this.canvas.width / this.ratio;\n    var dataURL = this.canvas.toDataURL();\n    this.cell_info[1]['text/html'] =\n        '<img src=\"' + dataURL + '\" width=\"' + width + '\">';\n};\n\nmpl.figure.prototype.updated_canvas_event = function () {\n    // Tell IPython that the notebook contents must change.\n    IPython.notebook.set_dirty(true);\n    this.send_message('ack', {});\n    var fig = this;\n    // Wait a second, then push the new image to the DOM so\n    // that it is saved nicely (might be nice to debounce this).\n    setTimeout(function () {\n        fig.push_to_output();\n    }, 1000);\n};\n\nmpl.figure.prototype._init_toolbar = function () {\n    var fig = this;\n\n    var toolbar = document.createElement('div');\n    toolbar.classList = 'btn-toolbar';\n    this.root.appendChild(toolbar);\n\n    function on_click_closure(name) {\n        return function (_event) {\n            return fig.toolbar_button_onclick(name);\n        };\n    }\n\n    function on_mouseover_closure(tooltip) {\n        return function (event) {\n            if (!event.currentTarget.disabled) {\n                return fig.toolbar_button_onmouseover(tooltip);\n            }\n        };\n    }\n\n    fig.buttons = {};\n    var buttonGroup = document.createElement('div');\n    buttonGroup.classList = 'btn-group';\n    var button;\n    for (var toolbar_ind in mpl.toolbar_items) {\n        var name = mpl.toolbar_items[toolbar_ind][0];\n        var tooltip = mpl.toolbar_items[toolbar_ind][1];\n        var image = mpl.toolbar_items[toolbar_ind][2];\n        var method_name = mpl.toolbar_items[toolbar_ind][3];\n\n        if (!name) {\n            /* Instead of a spacer, we start a new button group. */\n            if (buttonGroup.hasChildNodes()) {\n                toolbar.appendChild(buttonGroup);\n            }\n            buttonGroup = document.createElement('div');\n            buttonGroup.classList = 'btn-group';\n            continue;\n        }\n\n        button = fig.buttons[name] = document.createElement('button');\n        button.classList = 'btn btn-default';\n        button.href = '#';\n        button.title = name;\n        button.innerHTML = '<i class=\"fa ' + image + ' fa-lg\"></i>';\n        button.addEventListener('click', on_click_closure(method_name));\n        button.addEventListener('mouseover', on_mouseover_closure(tooltip));\n        buttonGroup.appendChild(button);\n    }\n\n    if (buttonGroup.hasChildNodes()) {\n        toolbar.appendChild(buttonGroup);\n    }\n\n    // Add the status bar.\n    var status_bar = document.createElement('span');\n    status_bar.classList = 'mpl-message pull-right';\n    toolbar.appendChild(status_bar);\n    this.message = status_bar;\n\n    // Add the close button to the window.\n    var buttongrp = document.createElement('div');\n    buttongrp.classList = 'btn-group inline pull-right';\n    button = document.createElement('button');\n    button.classList = 'btn btn-mini btn-primary';\n    button.href = '#';\n    button.title = 'Stop Interaction';\n    button.innerHTML = '<i class=\"fa fa-power-off icon-remove icon-large\"></i>';\n    button.addEventListener('click', function (_evt) {\n        fig.handle_close(fig, {});\n    });\n    button.addEventListener(\n        'mouseover',\n        on_mouseover_closure('Stop Interaction')\n    );\n    buttongrp.appendChild(button);\n    var titlebar = this.root.querySelector('.ui-dialog-titlebar');\n    titlebar.insertBefore(buttongrp, titlebar.firstChild);\n};\n\nmpl.figure.prototype._remove_fig_handler = function (event) {\n    var fig = event.data.fig;\n    if (event.target !== this) {\n        // Ignore bubbled events from children.\n        return;\n    }\n    fig.close_ws(fig, {});\n};\n\nmpl.figure.prototype._root_extra_style = function (el) {\n    el.style.boxSizing = 'content-box'; // override notebook setting of border-box.\n};\n\nmpl.figure.prototype._canvas_extra_style = function (el) {\n    // this is important to make the div 'focusable\n    el.setAttribute('tabindex', 0);\n    // reach out to IPython and tell the keyboard manager to turn it's self\n    // off when our div gets focus\n\n    // location in version 3\n    if (IPython.notebook.keyboard_manager) {\n        IPython.notebook.keyboard_manager.register_events(el);\n    } else {\n        // location in version 2\n        IPython.keyboard_manager.register_events(el);\n    }\n};\n\nmpl.figure.prototype._key_event_extra = function (event, _name) {\n    // Check for shift+enter\n    if (event.shiftKey && event.which === 13) {\n        this.canvas_div.blur();\n        // select the cell after this one\n        var index = IPython.notebook.find_cell_index(this.cell_info[0]);\n        IPython.notebook.select(index + 1);\n    }\n};\n\nmpl.figure.prototype.handle_save = function (fig, _msg) {\n    fig.ondownload(fig, null);\n};\n\nmpl.find_output_cell = function (html_output) {\n    // Return the cell and output element which can be found *uniquely* in the notebook.\n    // Note - this is a bit hacky, but it is done because the \"notebook_saving.Notebook\"\n    // IPython event is triggered only after the cells have been serialised, which for\n    // our purposes (turning an active figure into a static one), is too late.\n    var cells = IPython.notebook.get_cells();\n    var ncells = cells.length;\n    for (var i = 0; i < ncells; i++) {\n        var cell = cells[i];\n        if (cell.cell_type === 'code') {\n            for (var j = 0; j < cell.output_area.outputs.length; j++) {\n                var data = cell.output_area.outputs[j];\n                if (data.data) {\n                    // IPython >= 3 moved mimebundle to data attribute of output\n                    data = data.data;\n                }\n                if (data['text/html'] === html_output) {\n                    return [cell, data, j];\n                }\n            }\n        }\n    }\n};\n\n// Register the function which deals with the matplotlib target/channel.\n// The kernel may be null if the page has been refreshed.\nif (IPython.notebook.kernel !== null) {\n    IPython.notebook.kernel.comm_manager.register_target(\n        'matplotlib',\n        mpl.mpl_figure_comm\n    );\n}\n"
     },
     "metadata": {},
     "output_type": "display_data"
    },
    {
     "data": {
      "text/plain": "<IPython.core.display.HTML object>",
      "text/html": "<div id='7bc90d0e-557d-457b-99d7-7898ffb51953'></div>"
     },
     "metadata": {},
     "output_type": "display_data"
    },
    {
     "name": "stderr",
     "output_type": "stream",
     "text": [
      "/home/m.ghodrati@rasad.local/.local/lib/python3.10/site-packages/numpy/core/_methods.py:44: RuntimeWarning: invalid value encountered in reduce\n",
      "  return umr_minimum(a, axis, None, out, keepdims, initial, where)\n",
      "/home/m.ghodrati@rasad.local/.local/lib/python3.10/site-packages/numpy/core/_methods.py:40: RuntimeWarning: invalid value encountered in reduce\n",
      "  return umr_maximum(a, axis, None, out, keepdims, initial, where)\n"
     ]
    }
   ],
   "source": [
    "%matplotlib notebook\n",
    "\n",
    "plt.xticks(rotation=90)\n",
    "plt.plot(\n",
    "    indices,\n",
    "    df.loc[indices, 'Weighted Price Average'],\n",
    "    color='black'\n",
    ")\n",
    "\n",
    "# plot measurement errors\n",
    "plt.vlines(\n",
    "    x=indices,\n",
    "    ymin=df.loc[indices, 'Weighted Price Average'],\n",
    "    ymax=df.loc[indices, 'Measurement'],\n",
    "    color='red'\n",
    ")\n",
    "plt.scatter(\n",
    "    indices,\n",
    "    df.loc[indices, 'Measurement'],\n",
    "    color='red'\n",
    ")\n",
    "\n",
    "# plot model approximation errors\n",
    "plt.vlines(\n",
    "    x=indices,\n",
    "    ymin=df.loc[indices, 'Weighted Price Average'],\n",
    "    ymax=df.loc[indices, 'Prediction'],\n",
    "    color='blue'\n",
    ")\n",
    "plt.scatter(\n",
    "    indices,\n",
    "    df.loc[indices, 'Prediction'],\n",
    "    color='blue'\n",
    ")\n",
    "\n",
    "# plot model approximation errors\n",
    "plt.vlines(\n",
    "    x=indices,\n",
    "    ymin=df.loc[indices, 'Weighted Price Average'],\n",
    "    ymax=df.loc[indices, 'Estimate'],\n",
    "    color='green'\n",
    ")\n",
    "plt.scatter(\n",
    "    indices,\n",
    "    df.loc[indices, 'Estimate'],\n",
    "    color='green',\n",
    "    marker='x'\n",
    ")\n",
    "plt.show()"
   ],
   "metadata": {
    "collapsed": false,
    "pycharm": {
     "name": "#%%\n"
    }
   }
  },
  {
   "cell_type": "code",
   "execution_count": 257,
   "outputs": [
    {
     "name": "stdout",
     "output_type": "stream",
     "text": [
      "Measurement:\t 3.9620555791375396 \n",
      " Prediction:\t 37.69602812842886 \n",
      "   Estimate:\t 4.072499219785586 R_square: 0.2165311978397625 \n",
      "   Base std:\t 5.198036231380998\n"
     ]
    }
   ],
   "source": [
    "print(\n",
    "    \"Measurement:\\t\",\n",
    "    (df.loc[indices, 'Measurement'] - df.loc[indices, 'Weighted Price Average']).std(),\n",
    "    \"\\n Prediction:\\t\",\n",
    "    (df.loc[indices, 'Prediction'] - df.loc[indices, 'Weighted Price Average']).std(),\n",
    "    \"\\n   Estimate:\\t\",\n",
    "    (df.loc[indices, 'Estimate'] - df.loc[indices, 'Weighted Price Average']).std(),\n",
    "    \"R_square:\",\n",
    "    1 - np.sqrt((df.loc[indices, 'Estimate'] - df.loc[indices, 'Weighted Price Average']).var() /\n",
    "        (df.shift(1).loc[indices, 'Weighted Price Average'] - df.loc[indices, 'Weighted Price Average']).var()),\n",
    "    \"\\n   Base std:\\t\",\n",
    "    (df.shift(1).loc[indices, 'Weighted Price Average'] - df.loc[indices, 'Weighted Price Average']).std()\n",
    ")"
   ],
   "metadata": {
    "collapsed": false,
    "pycharm": {
     "name": "#%%\n"
    }
   }
  },
  {
   "cell_type": "code",
   "execution_count": 68,
   "outputs": [
    {
     "name": "stdout",
     "output_type": "stream",
     "text": [
      "(1, 4) (4, 4)\n",
      "[[-0.02957994  0.01394971 -0.0416536   0.00888947]\n",
      " [ 0.01574652 -0.04165376  0.0088895  -0.00441657]\n",
      " [-0.05292536  0.00889026 -0.00450278  0.00277905]\n",
      " [ 0.0129032  -0.00464327  0.00286794 -0.00361711]]\n"
     ]
    },
    {
     "ename": "ValueError",
     "evalue": "could not broadcast input array from shape (4,) into shape (1,)",
     "output_type": "error",
     "traceback": [
      "\u001B[1;31m---------------------------------------------------------------------------\u001B[0m",
      "\u001B[1;31mValueError\u001B[0m                                Traceback (most recent call last)",
      "\u001B[1;32mC:\\Users\\TOROBC~1\\AppData\\Local\\Temp/ipykernel_17264/124467119.py\u001B[0m in \u001B[0;36m<module>\u001B[1;34m\u001B[0m\n\u001B[0;32m     32\u001B[0m \u001B[1;33m\u001B[0m\u001B[0m\n\u001B[0;32m     33\u001B[0m     \u001B[0mprint\u001B[0m\u001B[1;33m(\u001B[0m\u001B[0mfiltered_state_means\u001B[0m\u001B[1;33m)\u001B[0m\u001B[1;33m\u001B[0m\u001B[1;33m\u001B[0m\u001B[0m\n\u001B[1;32m---> 34\u001B[1;33m     \u001B[0mz_hat\u001B[0m\u001B[1;33m[\u001B[0m\u001B[0mn\u001B[0m\u001B[1;33m:\u001B[0m\u001B[0mn\u001B[0m\u001B[1;33m+\u001B[0m\u001B[0mn_test\u001B[0m\u001B[1;33m]\u001B[0m \u001B[1;33m=\u001B[0m \u001B[0mfiltered_state_means\u001B[0m\u001B[1;33m[\u001B[0m\u001B[1;33m:\u001B[0m\u001B[1;33m,\u001B[0m \u001B[1;33m-\u001B[0m\u001B[1;36m1\u001B[0m\u001B[1;33m]\u001B[0m\u001B[1;33m\u001B[0m\u001B[1;33m\u001B[0m\u001B[0m\n\u001B[0m\u001B[0;32m     35\u001B[0m     \u001B[1;31m# errors['filtered'][n] = 0\u001B[0m\u001B[1;33m\u001B[0m\u001B[1;33m\u001B[0m\u001B[1;33m\u001B[0m\u001B[0m\n\u001B[0;32m     36\u001B[0m \u001B[1;33m\u001B[0m\u001B[0m\n",
      "\u001B[1;31mValueError\u001B[0m: could not broadcast input array from shape (4,) into shape (1,)"
     ]
    }
   ],
   "source": [
    "def get_linear_dynamics_with_lsm(df, n, ls_frame_size, dynamics_memory):\n",
    "    m = max(dynamics_memory-1, n-ls_frame_size)\n",
    "    if n <= dynamics_memory:\n",
    "        return None\n",
    "    A = np.zeros([n-m, dynamics_memory])\n",
    "    for i in range(dynamics_memory):\n",
    "        A[:, i] = z[m-i:n-i]\n",
    "    b = np.array(z[m+1:n+1], dtype='float64')\n",
    "    theta, _, _, _ = np.linalg.lstsq(A, b, rcond=-1)\n",
    "    F = np.zeros([dynamics_memory, dynamics_memory])\n",
    "    F[-1, :] = np.array(list(reversed(theta)))\n",
    "    F[0:dynamics_memory-1, 1:] = np.eye(dynamics_memory-1)\n",
    "    return F\n",
    "\n",
    "z = df['Return'].values\n",
    "z_hat = df['Return'].values\n",
    "\n",
    "n_train = 240  # 4 hours\n",
    "memory = 20    # 20 minutes\n",
    "n_test = 10    # 10 minutes\n",
    "for n in range(n_train, len(z), n_test):\n",
    "    F = get_linear_dynamics_with_lsm(z, n, n_train, memory)\n",
    "    kf = KalmanFilter(transition_matrices=F)\n",
    "    measurements = np.asarray([list(z[n-memory+i:n+i]) for i in range(n_test)])\n",
    "    print(measurements.shape, kf.transition_matrices.shape)\n",
    "    kf = kf.em(measurements, n_iter=5)\n",
    "    (filtered_state_means, filtered_state_covariances) = kf.filter(measurements)\n",
    "\n",
    "    print(filtered_state_means)\n",
    "    z_hat[n:n+n_test] = filtered_state_means[:, -1]\n",
    "    # errors['filtered'][n] = 0\n",
    "\n",
    "z_hat"
   ],
   "metadata": {
    "collapsed": false,
    "pycharm": {
     "name": "#%%\n"
    }
   }
  },
  {
   "cell_type": "code",
   "execution_count": 58,
   "outputs": [
    {
     "data": {
      "text/plain": "array([-51.53871788,  -9.48461319,  -7.86086927,   6.62900904,\n         1.31533311,  -2.09186571,  -3.8094132 , -34.04218302,\n       -21.89790975, -14.92398836])"
     },
     "execution_count": 58,
     "metadata": {},
     "output_type": "execute_result"
    }
   ],
   "source": [
    "type(np.squeeze(np.asarray(F)))\n",
    "# type(F)\n",
    "F = np.random.randn(10, 10)\n",
    "np.dot(F, np.asarray(list(range(10))))"
   ],
   "metadata": {
    "collapsed": false,
    "pycharm": {
     "name": "#%%\n"
    }
   }
  },
  {
   "cell_type": "code",
   "execution_count": 36,
   "outputs": [
    {
     "data": {
      "text/plain": "(2, 2)"
     },
     "execution_count": 36,
     "metadata": {},
     "output_type": "execute_result"
    }
   ],
   "source": [
    "\n",
    "import numpy as np\n",
    "kf = KalmanFilter(transition_matrices = [[1, 1], [0, 1]], observation_matrices = np.eye(2))\n",
    "measurements = np.asarray([[1,0], [0,0], [0,1]])  # 3 observations\n",
    "kf = kf.em(measurements, n_iter=5)\n",
    "kf.transition_matrices.shape\n",
    "# (filtered_state_means, filtered_state_covariances) = kf.filter(measurements)"
   ],
   "metadata": {
    "collapsed": false,
    "pycharm": {
     "name": "#%%\n"
    }
   }
  },
  {
   "cell_type": "code",
   "execution_count": 32,
   "outputs": [
    {
     "data": {
      "text/plain": "array([[ 0.738534  , -0.08539035],\n       [ 0.24035819,  0.02275462],\n       [ 0.02956649,  0.8233288 ]])"
     },
     "execution_count": 32,
     "metadata": {},
     "output_type": "execute_result"
    }
   ],
   "source": [
    "filtered_state_means"
   ],
   "metadata": {
    "collapsed": false,
    "pycharm": {
     "name": "#%%\n"
    }
   }
  },
  {
   "cell_type": "code",
   "execution_count": 62,
   "outputs": [
    {
     "data": {
      "text/plain": "<Figure size 432x288 with 1 Axes>",
      "image/png": "[encoded data removed]"
     },
     "metadata": {
      "needs_background": "light"
     },
     "output_type": "display_data"
    }
   ],
   "source": [
    "plt.hist(errors[frame_size:len(z)], bins=200)\n",
    "plt.title(errors[frame_size:len(z)].std())\n",
    "plt.show()"
   ],
   "metadata": {
    "collapsed": false,
    "pycharm": {
     "name": "#%%\n"
    }
   }
  },
  {
   "cell_type": "code",
   "execution_count": 60,
   "outputs": [
    {
     "data": {
      "text/plain": "array([[11.71, 11.4 , -0.31],\n       [11.4 , 11.37, -0.03],\n       [-0.31, -0.03,  0.28]])"
     },
     "execution_count": 60,
     "metadata": {},
     "output_type": "execute_result"
    }
   ],
   "source": [
    "x = np.array([-2.1, -1,  4.3])\n",
    "\n",
    "y = np.array([0,  1,  0.2])\n",
    "\n",
    "X = np.stack((x, x+y, y), axis=0)\n",
    "\n",
    "np.cov(X)"
   ],
   "metadata": {
    "collapsed": false,
    "pycharm": {
     "name": "#%%\n"
    }
   }
  },
  {
   "cell_type": "code",
   "execution_count": 4,
   "outputs": [
    {
     "data": {
      "text/plain": "<Figure size 432x288 with 1 Axes>",
      "image/png": "[encoded data removed]"
     },
     "metadata": {
      "needs_background": "light"
     },
     "output_type": "display_data"
    }
   ],
   "source": [
    "from scipy.stats import pearsonr\n",
    "result = []\n",
    "data = df.dropna().copy()\n",
    "data = data[(data['Feature 2'] >= 3) & (data['No. Trades'] > 100)]\n",
    "for i in range(period):\n",
    "    for j in range(4):\n",
    "        result.append(pearsonr(data[f'Return {i+1} min'], data[f'Feature {j+1}']))\n",
    "result = np.array(result)\n",
    "result = result.reshape(-1, 8)\n",
    "for j in range(4):\n",
    "    plt.plot(result[:, 2*j], label=f'Feature {j+1}')\n",
    "plt.legend()\n",
    "plt.title(f'n = {len(data)}')\n",
    "plt.show()"
   ],
   "metadata": {
    "collapsed": false,
    "pycharm": {
     "name": "#%%\n"
    }
   }
  },
  {
   "cell_type": "code",
   "execution_count": 6,
   "outputs": [],
   "source": [
    "# t_train_start = datetime(2018, 1, 1, 1)\n",
    "# t_train_duration = timedelta(hours=6)\n",
    "# x_train = x.loc[t_train_start:t_train_start+t_train_duration-timedelta(minutes=1)]\n",
    "# A ="
   ],
   "metadata": {
    "collapsed": false,
    "pycharm": {
     "name": "#%%\n"
    }
   }
  },
  {
   "cell_type": "code",
   "execution_count": null,
   "outputs": [],
   "source": [],
   "metadata": {
    "collapsed": false,
    "pycharm": {
     "name": "#%%\n"
    }
   }
  }
 ],
 "metadata": {
  "kernelspec": {
   "display_name": "Python 3",
   "language": "python",
   "name": "python3"
  },
  "language_info": {
   "codemirror_mode": {
    "name": "ipython",
    "version": 2
   },
   "file_extension": ".py",
   "mimetype": "text/x-python",
   "name": "python",
   "nbconvert_exporter": "python",
   "pygments_lexer": "ipython2",
   "version": "2.7.6"
  }
 },
 "nbformat": 4,
 "nbformat_minor": 0
}