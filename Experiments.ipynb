{
 "cells": [
  {
   "cell_type": "code",
   "execution_count": 9,
   "outputs": [
    {
     "name": "stdout",
     "output_type": "stream",
     "text": [
      " Request 1 took 2.072 seconds...\n",
      " Request 2 took 2.265 seconds...\n",
      " Request 3 took 2.388 seconds...\n",
      " Request 4 took 2.257 seconds...\n",
      " Request 5 took 2.373 seconds...\n",
      " Request 6 took 2.188 seconds...\n",
      " Request 7 took 2.120 seconds...\n",
      " Request 8 took 2.341 seconds...\n",
      " Request 9 took 2.184 seconds...\n",
      " Request 10 took 2.371 seconds...\n",
      " Request 11 took 1.777 seconds...\n"
     ]
    }
   ],
   "source": [
    "from datetime import datetime, timedelta\n",
    "from utils import get_prices\n",
    "import numpy as np\n",
    "import pandas as pd\n",
    "import matplotlib.pyplot as plt\n",
    "\n",
    "\n",
    "EPSILON = 1e-10\n",
    "\n",
    "# if __name__ == \"__main__\":\n",
    "\n",
    "start_time = '1514764800'\n",
    "end_time = '1523404800'\n",
    "\n",
    "df_ = get_prices(\n",
    "    'btc', 'usdt',\n",
    "    datetime(2020, 1, 1),\n",
    "    duration=timedelta(days=7),\n",
    "    proxy_port='13070',\n",
    "    verbose=2)\n",
    "\n",
    "# df_ = pd.read_csv('data/BTCUSDT[' + start_time + '000_' + end_time + '000].csv')\n",
    "# df_.drop(['Unnamed: 0'], inplace=True, axis=1)\n",
    "df_['Time'] = pd.to_datetime(df_['Time'])\n",
    "df_.set_index('Time', inplace=True, drop=True)\n",
    "\n",
    "times_index = pd.date_range(start=pd.to_datetime(start_time, unit='s'),\n",
    "                            end=pd.to_datetime(end_time, unit='s'),\n",
    "                            periods=(int(end_time) - int(start_time) + 1) / 60 + 1)\n",
    "\n",
    "df = pd.DataFrame(None, columns=df_.columns, index=times_index[:-1])\n",
    "\n",
    "selected_indices = list(set(df_.index).intersection(set(times_index)))\n",
    "df.loc[selected_indices, df_.columns] = df_.loc[selected_indices].copy()"
   ],
   "metadata": {
    "collapsed": false,
    "pycharm": {
     "name": "#%%\n"
    }
   }
  },
  {
   "cell_type": "code",
   "execution_count": 10,
   "outputs": [
    {
     "data": {
      "text/plain": "                    Market Open High  Low Close Volume Value No. Trades  \\\n2018-01-01 00:00:00    NaN  NaN  NaN  NaN   NaN    NaN   NaN        NaN   \n2018-01-01 00:01:00    NaN  NaN  NaN  NaN   NaN    NaN   NaN        NaN   \n2018-01-01 00:02:00    NaN  NaN  NaN  NaN   NaN    NaN   NaN        NaN   \n2018-01-01 00:03:00    NaN  NaN  NaN  NaN   NaN    NaN   NaN        NaN   \n2018-01-01 00:04:00    NaN  NaN  NaN  NaN   NaN    NaN   NaN        NaN   \n...                    ...  ...  ...  ...   ...    ...   ...        ...   \n2018-04-10 23:55:00    NaN  NaN  NaN  NaN   NaN    NaN   NaN        NaN   \n2018-04-10 23:56:00    NaN  NaN  NaN  NaN   NaN    NaN   NaN        NaN   \n2018-04-10 23:57:00    NaN  NaN  NaN  NaN   NaN    NaN   NaN        NaN   \n2018-04-10 23:58:00    NaN  NaN  NaN  NaN   NaN    NaN   NaN        NaN   \n2018-04-10 23:59:00    NaN  NaN  NaN  NaN   NaN    NaN   NaN        NaN   \n\n                    Taker Buy Volume Taker Buy Value Feature 1  Feature 2  \\\n2018-01-01 00:00:00              NaN             NaN       NaN        NaN   \n2018-01-01 00:01:00              NaN             NaN       NaN        NaN   \n2018-01-01 00:02:00              NaN             NaN       NaN        NaN   \n2018-01-01 00:03:00              NaN             NaN       NaN        NaN   \n2018-01-01 00:04:00              NaN             NaN       NaN        NaN   \n...                              ...             ...       ...        ...   \n2018-04-10 23:55:00              NaN             NaN       NaN        NaN   \n2018-04-10 23:56:00              NaN             NaN       NaN        NaN   \n2018-04-10 23:57:00              NaN             NaN       NaN        NaN   \n2018-04-10 23:58:00              NaN             NaN       NaN        NaN   \n2018-04-10 23:59:00              NaN             NaN       NaN        NaN   \n\n                     Feature 3 Feature 4  \n2018-01-01 00:00:00        NaN       NaN  \n2018-01-01 00:01:00        NaN       NaN  \n2018-01-01 00:02:00        NaN       NaN  \n2018-01-01 00:03:00        NaN       NaN  \n2018-01-01 00:04:00        NaN       NaN  \n...                        ...       ...  \n2018-04-10 23:55:00        NaN       NaN  \n2018-04-10 23:56:00        NaN       NaN  \n2018-04-10 23:57:00        NaN       NaN  \n2018-04-10 23:58:00        NaN       NaN  \n2018-04-10 23:59:00        NaN       NaN  \n\n[144000 rows x 14 columns]",
      "text/html": "<div>\n<style scoped>\n    .dataframe tbody tr th:only-of-type {\n        vertical-align: middle;\n    }\n\n    .dataframe tbody tr th {\n        vertical-align: top;\n    }\n\n    .dataframe thead th {\n        text-align: right;\n    }\n</style>\n<table border=\"1\" class=\"dataframe\">\n  <thead>\n    <tr style=\"text-align: right;\">\n      <th></th>\n      <th>Market</th>\n      <th>Open</th>\n      <th>High</th>\n      <th>Low</th>\n      <th>Close</th>\n      <th>Volume</th>\n      <th>Value</th>\n      <th>No. Trades</th>\n      <th>Taker Buy Volume</th>\n      <th>Taker Buy Value</th>\n      <th>Feature 1</th>\n      <th>Feature 2</th>\n      <th>Feature 3</th>\n      <th>Feature 4</th>\n    </tr>\n  </thead>\n  <tbody>\n    <tr>\n      <th>2018-01-01 00:00:00</th>\n      <td>NaN</td>\n      <td>NaN</td>\n      <td>NaN</td>\n      <td>NaN</td>\n      <td>NaN</td>\n      <td>NaN</td>\n      <td>NaN</td>\n      <td>NaN</td>\n      <td>NaN</td>\n      <td>NaN</td>\n      <td>NaN</td>\n      <td>NaN</td>\n      <td>NaN</td>\n      <td>NaN</td>\n    </tr>\n    <tr>\n      <th>2018-01-01 00:01:00</th>\n      <td>NaN</td>\n      <td>NaN</td>\n      <td>NaN</td>\n      <td>NaN</td>\n      <td>NaN</td>\n      <td>NaN</td>\n      <td>NaN</td>\n      <td>NaN</td>\n      <td>NaN</td>\n      <td>NaN</td>\n      <td>NaN</td>\n      <td>NaN</td>\n      <td>NaN</td>\n      <td>NaN</td>\n    </tr>\n    <tr>\n      <th>2018-01-01 00:02:00</th>\n      <td>NaN</td>\n      <td>NaN</td>\n      <td>NaN</td>\n      <td>NaN</td>\n      <td>NaN</td>\n      <td>NaN</td>\n      <td>NaN</td>\n      <td>NaN</td>\n      <td>NaN</td>\n      <td>NaN</td>\n      <td>NaN</td>\n      <td>NaN</td>\n      <td>NaN</td>\n      <td>NaN</td>\n    </tr>\n    <tr>\n      <th>2018-01-01 00:03:00</th>\n      <td>NaN</td>\n      <td>NaN</td>\n      <td>NaN</td>\n      <td>NaN</td>\n      <td>NaN</td>\n      <td>NaN</td>\n      <td>NaN</td>\n      <td>NaN</td>\n      <td>NaN</td>\n      <td>NaN</td>\n      <td>NaN</td>\n      <td>NaN</td>\n      <td>NaN</td>\n      <td>NaN</td>\n    </tr>\n    <tr>\n      <th>2018-01-01 00:04:00</th>\n      <td>NaN</td>\n      <td>NaN</td>\n      <td>NaN</td>\n      <td>NaN</td>\n      <td>NaN</td>\n      <td>NaN</td>\n      <td>NaN</td>\n      <td>NaN</td>\n      <td>NaN</td>\n      <td>NaN</td>\n      <td>NaN</td>\n      <td>NaN</td>\n      <td>NaN</td>\n      <td>NaN</td>\n    </tr>\n    <tr>\n      <th>...</th>\n      <td>...</td>\n      <td>...</td>\n      <td>...</td>\n      <td>...</td>\n      <td>...</td>\n      <td>...</td>\n      <td>...</td>\n      <td>...</td>\n      <td>...</td>\n      <td>...</td>\n      <td>...</td>\n      <td>...</td>\n      <td>...</td>\n      <td>...</td>\n    </tr>\n    <tr>\n      <th>2018-04-10 23:55:00</th>\n      <td>NaN</td>\n      <td>NaN</td>\n      <td>NaN</td>\n      <td>NaN</td>\n      <td>NaN</td>\n      <td>NaN</td>\n      <td>NaN</td>\n      <td>NaN</td>\n      <td>NaN</td>\n      <td>NaN</td>\n      <td>NaN</td>\n      <td>NaN</td>\n      <td>NaN</td>\n      <td>NaN</td>\n    </tr>\n    <tr>\n      <th>2018-04-10 23:56:00</th>\n      <td>NaN</td>\n      <td>NaN</td>\n      <td>NaN</td>\n      <td>NaN</td>\n      <td>NaN</td>\n      <td>NaN</td>\n      <td>NaN</td>\n      <td>NaN</td>\n      <td>NaN</td>\n      <td>NaN</td>\n      <td>NaN</td>\n      <td>NaN</td>\n      <td>NaN</td>\n      <td>NaN</td>\n    </tr>\n    <tr>\n      <th>2018-04-10 23:57:00</th>\n      <td>NaN</td>\n      <td>NaN</td>\n      <td>NaN</td>\n      <td>NaN</td>\n      <td>NaN</td>\n      <td>NaN</td>\n      <td>NaN</td>\n      <td>NaN</td>\n      <td>NaN</td>\n      <td>NaN</td>\n      <td>NaN</td>\n      <td>NaN</td>\n      <td>NaN</td>\n      <td>NaN</td>\n    </tr>\n    <tr>\n      <th>2018-04-10 23:58:00</th>\n      <td>NaN</td>\n      <td>NaN</td>\n      <td>NaN</td>\n      <td>NaN</td>\n      <td>NaN</td>\n      <td>NaN</td>\n      <td>NaN</td>\n      <td>NaN</td>\n      <td>NaN</td>\n      <td>NaN</td>\n      <td>NaN</td>\n      <td>NaN</td>\n      <td>NaN</td>\n      <td>NaN</td>\n    </tr>\n    <tr>\n      <th>2018-04-10 23:59:00</th>\n      <td>NaN</td>\n      <td>NaN</td>\n      <td>NaN</td>\n      <td>NaN</td>\n      <td>NaN</td>\n      <td>NaN</td>\n      <td>NaN</td>\n      <td>NaN</td>\n      <td>NaN</td>\n      <td>NaN</td>\n      <td>NaN</td>\n      <td>NaN</td>\n      <td>NaN</td>\n      <td>NaN</td>\n    </tr>\n  </tbody>\n</table>\n<p>144000 rows × 14 columns</p>\n</div>"
     },
     "execution_count": 10,
     "metadata": {},
     "output_type": "execute_result"
    }
   ],
   "source": [
    "window = int(timedelta(hours=1) / timedelta(minutes=1))\n",
    "period = 10\n",
    "\n",
    "df['Feature 1'] = df['Taker Buy Volume'] / (df['Volume'] + EPSILON) * 100\n",
    "df['Feature 2'] = (df['Volume'] + EPSILON).pct_change()\n",
    "df['Feature 3'] = df['Close'].pct_change() * 1000\n",
    "tmp = df['High'].rolling(window).max()\n",
    "df['Feature 4'] = (tmp-df['Open']) / (tmp-df['Low'].rolling(window).min()) * 100\n",
    "\n",
    "# for i in range(period):\n",
    "#     df[f'Return {i+1} min'] = (df['Close'].shift(-i-1) / df['Close'] - 1) * 100\n",
    "df"
   ],
   "metadata": {
    "collapsed": false,
    "pycharm": {
     "name": "#%%\n"
    }
   }
  },
  {
   "cell_type": "code",
   "execution_count": 5,
   "outputs": [],
   "source": [
    "df[df['Feature 2'] > 3, ['Feature 1', 'Feature 3', 'Feature 4', 'Volume', 'Taker Buy Volume']].to_csv('data/data.csv')"
   ],
   "metadata": {
    "collapsed": false,
    "pycharm": {
     "name": "#%%\n"
    }
   }
  },
  {
   "cell_type": "code",
   "execution_count": 4,
   "outputs": [
    {
     "data": {
      "text/plain": "<Figure size 432x288 with 1 Axes>",
      "image/png": "[encoded data removed]"
     },
     "metadata": {
      "needs_background": "light"
     },
     "output_type": "display_data"
    }
   ],
   "source": [
    "from scipy.stats import pearsonr\n",
    "result = []\n",
    "data = df.dropna().copy()\n",
    "data = data[(data['Feature 2'] >= 3) & (data['No. Trades'] > 100)]\n",
    "for i in range(period):\n",
    "    for j in range(4):\n",
    "        result.append(pearsonr(data[f'Return {i+1} min'], data[f'Feature {j+1}']))\n",
    "result = np.array(result)\n",
    "result = result.reshape(-1, 8)\n",
    "for j in range(4):\n",
    "    plt.plot(result[:, 2*j], label=f'Feature {j+1}')\n",
    "plt.legend()\n",
    "plt.title(f'n = {len(data)}')\n",
    "plt.show()"
   ],
   "metadata": {
    "collapsed": false,
    "pycharm": {
     "name": "#%%\n"
    }
   }
  },
  {
   "cell_type": "code",
   "execution_count": 6,
   "outputs": [],
   "source": [
    "# t_train_start = datetime(2018, 1, 1, 1)\n",
    "# t_train_duration = timedelta(hours=6)\n",
    "# x_train = x.loc[t_train_start:t_train_start+t_train_duration-timedelta(minutes=1)]\n",
    "# A ="
   ],
   "metadata": {
    "collapsed": false,
    "pycharm": {
     "name": "#%%\n"
    }
   }
  },
  {
   "cell_type": "code",
   "execution_count": null,
   "outputs": [],
   "source": [],
   "metadata": {
    "collapsed": false,
    "pycharm": {
     "name": "#%%\n"
    }
   }
  }
 ],
 "metadata": {
  "kernelspec": {
   "display_name": "Python 3",
   "language": "python",
   "name": "python3"
  },
  "language_info": {
   "codemirror_mode": {
    "name": "ipython",
    "version": 2
   },
   "file_extension": ".py",
   "mimetype": "text/x-python",
   "name": "python",
   "nbconvert_exporter": "python",
   "pygments_lexer": "ipython2",
   "version": "2.7.6"
  }
 },
 "nbformat": 4,
 "nbformat_minor": 0
}