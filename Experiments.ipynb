{
 "cells": [
  {
   "cell_type": "code",
   "execution_count": 35,
   "outputs": [],
   "source": [
    "from datetime import datetime, timedelta\n",
    "from utils import get_prices\n",
    "import pandas as pd\n",
    "\n",
    "\n",
    "EPSILON = 1e-10\n",
    "\n",
    "# if __name__ == \"__main__\":\n",
    "\n",
    "start_time = '1514764800'\n",
    "end_time = '1523404800'\n",
    "\n",
    "# get_prices('btc', 'usdt',\n",
    "#            datetime(2018, 1, 1),\n",
    "#            duration=timedelta(days=2),\n",
    "#            proxy_port='59742',\n",
    "#            verbose=2)\n",
    "\n",
    "df_ = pd.read_csv('data/BTCUSDT[' + start_time + '000_' + end_time + '000].csv')\n",
    "df_.drop(['Unnamed: 0'], inplace=True, axis=1)\n",
    "df_['Time'] = pd.to_datetime(df_['Time'])\n",
    "df_.set_index('Time', inplace=True, drop=True)\n",
    "\n",
    "times_index = pd.date_range(start=pd.to_datetime(start_time, unit='s'),\n",
    "                            end=pd.to_datetime(end_time, unit='s'),\n",
    "                            periods=(int(end_time) - int(start_time) + 1) / 60 + 1)\n",
    "\n",
    "df = pd.DataFrame(None, columns=df_.columns, index=times_index[:-1])\n",
    "\n",
    "selected_indices = list(set(df_.index).intersection(set(times_index)))\n",
    "df.loc[selected_indices, df_.columns] = df_.loc[selected_indices].copy()"
   ],
   "metadata": {
    "collapsed": false,
    "pycharm": {
     "name": "#%%\n"
    }
   }
  },
  {
   "cell_type": "code",
   "execution_count": 36,
   "outputs": [
    {
     "data": {
      "text/plain": "                      Market      Open      High       Low     Close  \\\n2018-01-01 00:00:00  BTCUSDT  13715.65  13715.65   13681.0  13707.92   \n2018-01-01 00:01:00  BTCUSDT  13707.91  13707.91  13666.11  13694.92   \n2018-01-01 00:02:00  BTCUSDT   13682.0  13694.94   13680.0   13680.0   \n2018-01-01 00:03:00  BTCUSDT  13679.98  13679.98   13601.0  13645.99   \n2018-01-01 00:04:00  BTCUSDT  13645.98   13646.0  13576.28   13600.0   \n...                      ...       ...       ...       ...       ...   \n2018-04-10 23:55:00  BTCUSDT    6827.0    6837.0    6827.0    6837.0   \n2018-04-10 23:56:00  BTCUSDT   6835.02    6839.0   6833.61    6839.0   \n2018-04-10 23:57:00  BTCUSDT   6837.35    6842.0   6835.01   6835.02   \n2018-04-10 23:58:00  BTCUSDT    6842.0    6844.9   6835.03    6844.2   \n2018-04-10 23:59:00  BTCUSDT   6842.02    6845.0    6839.0    6843.9   \n\n                        Volume          Value No. Trades Taker Buy Volume  \\\n2018-01-01 00:00:00   2.844266   38931.004413         32         2.002554   \n2018-01-01 00:01:00   2.113138   28910.982501         29         0.264134   \n2018-01-01 00:02:00   1.346411    18431.84269         46         0.753332   \n2018-01-01 00:03:00  11.589417  157962.177508        137         5.507146   \n2018-01-01 00:04:00  15.724566  213978.120703        191         9.739792   \n...                        ...            ...        ...              ...   \n2018-04-10 23:55:00    7.29528   49844.093534        141         5.167686   \n2018-04-10 23:56:00   5.410635    36996.62508        106         4.080443   \n2018-04-10 23:57:00  20.635987  141131.726927        110        16.446863   \n2018-04-10 23:58:00   5.883241   40253.990341         87         2.605464   \n2018-04-10 23:59:00  12.477939   85399.095091        103         7.957451   \n\n                    Taker Buy Value  Feature 1  Feature 2  Feature 3  \\\n2018-01-01 00:00:00    27414.354115  70.406706        NaN        NaN   \n2018-01-01 00:01:00      3613.88418   12.49961  -0.257053  -0.948357   \n2018-01-01 00:02:00    10313.331785  55.951117  -0.362838  -1.089455   \n2018-01-01 00:03:00    75118.445437  47.518749   7.607637  -2.486111   \n2018-01-01 00:04:00   132561.881525  61.939973   0.356804  -3.370221   \n...                             ...        ...        ...        ...   \n2018-04-10 23:55:00    35312.022948   70.83602  -0.532374   1.464772   \n2018-04-10 23:56:00    27901.723566  75.415233  -0.258338   0.292526   \n2018-04-10 23:57:00   112486.809612   79.69991   2.813968  -0.581956   \n2018-04-10 23:58:00    17831.988083  44.286202  -0.714904   1.343083   \n2018-04-10 23:59:00    54461.250487  63.772158   1.120929  -0.043833   \n\n                     Feature 4  \n2018-01-01 00:00:00        NaN  \n2018-01-01 00:01:00        NaN  \n2018-01-01 00:02:00        NaN  \n2018-01-01 00:03:00        NaN  \n2018-01-01 00:04:00        NaN  \n...                        ...  \n2018-04-10 23:55:00  18.058064  \n2018-04-10 23:56:00   7.114286  \n2018-04-10 23:57:00   6.458333  \n2018-04-10 23:58:00   3.871829  \n2018-04-10 23:59:00   3.973333  \n\n[144000 rows x 14 columns]",
      "text/html": "<div>\n<style scoped>\n    .dataframe tbody tr th:only-of-type {\n        vertical-align: middle;\n    }\n\n    .dataframe tbody tr th {\n        vertical-align: top;\n    }\n\n    .dataframe thead th {\n        text-align: right;\n    }\n</style>\n<table border=\"1\" class=\"dataframe\">\n  <thead>\n    <tr style=\"text-align: right;\">\n      <th></th>\n      <th>Market</th>\n      <th>Open</th>\n      <th>High</th>\n      <th>Low</th>\n      <th>Close</th>\n      <th>Volume</th>\n      <th>Value</th>\n      <th>No. Trades</th>\n      <th>Taker Buy Volume</th>\n      <th>Taker Buy Value</th>\n      <th>Feature 1</th>\n      <th>Feature 2</th>\n      <th>Feature 3</th>\n      <th>Feature 4</th>\n    </tr>\n  </thead>\n  <tbody>\n    <tr>\n      <th>2018-01-01 00:00:00</th>\n      <td>BTCUSDT</td>\n      <td>13715.65</td>\n      <td>13715.65</td>\n      <td>13681.0</td>\n      <td>13707.92</td>\n      <td>2.844266</td>\n      <td>38931.004413</td>\n      <td>32</td>\n      <td>2.002554</td>\n      <td>27414.354115</td>\n      <td>70.406706</td>\n      <td>NaN</td>\n      <td>NaN</td>\n      <td>NaN</td>\n    </tr>\n    <tr>\n      <th>2018-01-01 00:01:00</th>\n      <td>BTCUSDT</td>\n      <td>13707.91</td>\n      <td>13707.91</td>\n      <td>13666.11</td>\n      <td>13694.92</td>\n      <td>2.113138</td>\n      <td>28910.982501</td>\n      <td>29</td>\n      <td>0.264134</td>\n      <td>3613.88418</td>\n      <td>12.49961</td>\n      <td>-0.257053</td>\n      <td>-0.948357</td>\n      <td>NaN</td>\n    </tr>\n    <tr>\n      <th>2018-01-01 00:02:00</th>\n      <td>BTCUSDT</td>\n      <td>13682.0</td>\n      <td>13694.94</td>\n      <td>13680.0</td>\n      <td>13680.0</td>\n      <td>1.346411</td>\n      <td>18431.84269</td>\n      <td>46</td>\n      <td>0.753332</td>\n      <td>10313.331785</td>\n      <td>55.951117</td>\n      <td>-0.362838</td>\n      <td>-1.089455</td>\n      <td>NaN</td>\n    </tr>\n    <tr>\n      <th>2018-01-01 00:03:00</th>\n      <td>BTCUSDT</td>\n      <td>13679.98</td>\n      <td>13679.98</td>\n      <td>13601.0</td>\n      <td>13645.99</td>\n      <td>11.589417</td>\n      <td>157962.177508</td>\n      <td>137</td>\n      <td>5.507146</td>\n      <td>75118.445437</td>\n      <td>47.518749</td>\n      <td>7.607637</td>\n      <td>-2.486111</td>\n      <td>NaN</td>\n    </tr>\n    <tr>\n      <th>2018-01-01 00:04:00</th>\n      <td>BTCUSDT</td>\n      <td>13645.98</td>\n      <td>13646.0</td>\n      <td>13576.28</td>\n      <td>13600.0</td>\n      <td>15.724566</td>\n      <td>213978.120703</td>\n      <td>191</td>\n      <td>9.739792</td>\n      <td>132561.881525</td>\n      <td>61.939973</td>\n      <td>0.356804</td>\n      <td>-3.370221</td>\n      <td>NaN</td>\n    </tr>\n    <tr>\n      <th>...</th>\n      <td>...</td>\n      <td>...</td>\n      <td>...</td>\n      <td>...</td>\n      <td>...</td>\n      <td>...</td>\n      <td>...</td>\n      <td>...</td>\n      <td>...</td>\n      <td>...</td>\n      <td>...</td>\n      <td>...</td>\n      <td>...</td>\n      <td>...</td>\n    </tr>\n    <tr>\n      <th>2018-04-10 23:55:00</th>\n      <td>BTCUSDT</td>\n      <td>6827.0</td>\n      <td>6837.0</td>\n      <td>6827.0</td>\n      <td>6837.0</td>\n      <td>7.29528</td>\n      <td>49844.093534</td>\n      <td>141</td>\n      <td>5.167686</td>\n      <td>35312.022948</td>\n      <td>70.83602</td>\n      <td>-0.532374</td>\n      <td>1.464772</td>\n      <td>18.058064</td>\n    </tr>\n    <tr>\n      <th>2018-04-10 23:56:00</th>\n      <td>BTCUSDT</td>\n      <td>6835.02</td>\n      <td>6839.0</td>\n      <td>6833.61</td>\n      <td>6839.0</td>\n      <td>5.410635</td>\n      <td>36996.62508</td>\n      <td>106</td>\n      <td>4.080443</td>\n      <td>27901.723566</td>\n      <td>75.415233</td>\n      <td>-0.258338</td>\n      <td>0.292526</td>\n      <td>7.114286</td>\n    </tr>\n    <tr>\n      <th>2018-04-10 23:57:00</th>\n      <td>BTCUSDT</td>\n      <td>6837.35</td>\n      <td>6842.0</td>\n      <td>6835.01</td>\n      <td>6835.02</td>\n      <td>20.635987</td>\n      <td>141131.726927</td>\n      <td>110</td>\n      <td>16.446863</td>\n      <td>112486.809612</td>\n      <td>79.69991</td>\n      <td>2.813968</td>\n      <td>-0.581956</td>\n      <td>6.458333</td>\n    </tr>\n    <tr>\n      <th>2018-04-10 23:58:00</th>\n      <td>BTCUSDT</td>\n      <td>6842.0</td>\n      <td>6844.9</td>\n      <td>6835.03</td>\n      <td>6844.2</td>\n      <td>5.883241</td>\n      <td>40253.990341</td>\n      <td>87</td>\n      <td>2.605464</td>\n      <td>17831.988083</td>\n      <td>44.286202</td>\n      <td>-0.714904</td>\n      <td>1.343083</td>\n      <td>3.871829</td>\n    </tr>\n    <tr>\n      <th>2018-04-10 23:59:00</th>\n      <td>BTCUSDT</td>\n      <td>6842.02</td>\n      <td>6845.0</td>\n      <td>6839.0</td>\n      <td>6843.9</td>\n      <td>12.477939</td>\n      <td>85399.095091</td>\n      <td>103</td>\n      <td>7.957451</td>\n      <td>54461.250487</td>\n      <td>63.772158</td>\n      <td>1.120929</td>\n      <td>-0.043833</td>\n      <td>3.973333</td>\n    </tr>\n  </tbody>\n</table>\n<p>144000 rows × 14 columns</p>\n</div>"
     },
     "execution_count": 36,
     "metadata": {},
     "output_type": "execute_result"
    }
   ],
   "source": [
    "window = int(timedelta(hours=1) / timedelta(minutes=1))\n",
    "df['Feature 1'] = df['Taker Buy Volume'] / (df['Volume'] + EPSILON) * 100\n",
    "df['Feature 2'] = df['Volume'].pct_change()\n",
    "df['Feature 3'] = df['Close'].pct_change() * 1000\n",
    "tmp = df['High'].rolling(window).max()\n",
    "df['Feature 4'] = (tmp-df['Open']) / (tmp-df['Low'].rolling(window).min()) * 100\n",
    "df"
   ],
   "metadata": {
    "collapsed": false,
    "pycharm": {
     "name": "#%%\n"
    }
   }
  },
  {
   "cell_type": "code",
   "execution_count": 37,
   "outputs": [
    {
     "data": {
      "text/plain": "                     Feature 1  Feature 2  Feature 3  Feature 4\n2018-01-01 00:59:00  76.095922  -0.504054   4.260812  61.041059\n2018-01-01 01:00:00  61.400943  -0.809107   1.098380  58.109776\n2018-01-01 01:01:00   9.540385   1.592045  -0.951722  42.362595\n2018-01-01 01:02:00  42.997339   0.092650   0.000000  58.062298\n2018-01-01 01:03:00  61.821167   0.205052  -0.745696  54.971464\n...                        ...        ...        ...        ...\n2018-04-10 23:55:00   70.83602  -0.532374   1.464772  18.058064\n2018-04-10 23:56:00  75.415233  -0.258338   0.292526   7.114286\n2018-04-10 23:57:00   79.69991   2.813968  -0.581956   6.458333\n2018-04-10 23:58:00  44.286202  -0.714904   1.343083   3.871829\n2018-04-10 23:59:00  63.772158   1.120929  -0.043833   3.973333\n\n[140361 rows x 4 columns]",
      "text/html": "<div>\n<style scoped>\n    .dataframe tbody tr th:only-of-type {\n        vertical-align: middle;\n    }\n\n    .dataframe tbody tr th {\n        vertical-align: top;\n    }\n\n    .dataframe thead th {\n        text-align: right;\n    }\n</style>\n<table border=\"1\" class=\"dataframe\">\n  <thead>\n    <tr style=\"text-align: right;\">\n      <th></th>\n      <th>Feature 1</th>\n      <th>Feature 2</th>\n      <th>Feature 3</th>\n      <th>Feature 4</th>\n    </tr>\n  </thead>\n  <tbody>\n    <tr>\n      <th>2018-01-01 00:59:00</th>\n      <td>76.095922</td>\n      <td>-0.504054</td>\n      <td>4.260812</td>\n      <td>61.041059</td>\n    </tr>\n    <tr>\n      <th>2018-01-01 01:00:00</th>\n      <td>61.400943</td>\n      <td>-0.809107</td>\n      <td>1.098380</td>\n      <td>58.109776</td>\n    </tr>\n    <tr>\n      <th>2018-01-01 01:01:00</th>\n      <td>9.540385</td>\n      <td>1.592045</td>\n      <td>-0.951722</td>\n      <td>42.362595</td>\n    </tr>\n    <tr>\n      <th>2018-01-01 01:02:00</th>\n      <td>42.997339</td>\n      <td>0.092650</td>\n      <td>0.000000</td>\n      <td>58.062298</td>\n    </tr>\n    <tr>\n      <th>2018-01-01 01:03:00</th>\n      <td>61.821167</td>\n      <td>0.205052</td>\n      <td>-0.745696</td>\n      <td>54.971464</td>\n    </tr>\n    <tr>\n      <th>...</th>\n      <td>...</td>\n      <td>...</td>\n      <td>...</td>\n      <td>...</td>\n    </tr>\n    <tr>\n      <th>2018-04-10 23:55:00</th>\n      <td>70.83602</td>\n      <td>-0.532374</td>\n      <td>1.464772</td>\n      <td>18.058064</td>\n    </tr>\n    <tr>\n      <th>2018-04-10 23:56:00</th>\n      <td>75.415233</td>\n      <td>-0.258338</td>\n      <td>0.292526</td>\n      <td>7.114286</td>\n    </tr>\n    <tr>\n      <th>2018-04-10 23:57:00</th>\n      <td>79.69991</td>\n      <td>2.813968</td>\n      <td>-0.581956</td>\n      <td>6.458333</td>\n    </tr>\n    <tr>\n      <th>2018-04-10 23:58:00</th>\n      <td>44.286202</td>\n      <td>-0.714904</td>\n      <td>1.343083</td>\n      <td>3.871829</td>\n    </tr>\n    <tr>\n      <th>2018-04-10 23:59:00</th>\n      <td>63.772158</td>\n      <td>1.120929</td>\n      <td>-0.043833</td>\n      <td>3.973333</td>\n    </tr>\n  </tbody>\n</table>\n<p>140361 rows × 4 columns</p>\n</div>"
     },
     "execution_count": 37,
     "metadata": {},
     "output_type": "execute_result"
    }
   ],
   "source": [
    "x = df.dropna()[[f'Feature {i}' for i in range(1, 5)]]\n",
    "x"
   ],
   "metadata": {
    "collapsed": false,
    "pycharm": {
     "name": "#%%\n"
    }
   }
  },
  {
   "cell_type": "code",
   "execution_count": 39,
   "outputs": [
    {
     "data": {
      "text/plain": "                     Feature 1  Feature 2  Feature 3  Feature 4\n2018-01-01 01:00:00  61.400943  -0.809107   1.098380  58.109776\n2018-01-01 01:01:00   9.540385   1.592045  -0.951722  42.362595\n2018-01-01 01:02:00  42.997339   0.092650   0.000000  58.062298\n2018-01-01 01:03:00  61.821167   0.205052  -0.745696  54.971464\n2018-01-01 01:04:00   69.96112   0.878513  -0.742555  58.440487\n...                        ...        ...        ...        ...\n2018-01-01 06:55:00  25.549727  -0.110769  -0.572097   8.619377\n2018-01-01 06:56:00  41.886676  -0.323589  -0.138021  11.415225\n2018-01-01 06:57:00  47.810175   0.915613   1.155178   7.427586\n2018-01-01 06:58:00  53.652098  -0.669015   1.449201   3.451724\n2018-01-01 06:59:00  30.171256   1.317845  -1.418118   6.548276\n\n[360 rows x 4 columns]",
      "text/html": "<div>\n<style scoped>\n    .dataframe tbody tr th:only-of-type {\n        vertical-align: middle;\n    }\n\n    .dataframe tbody tr th {\n        vertical-align: top;\n    }\n\n    .dataframe thead th {\n        text-align: right;\n    }\n</style>\n<table border=\"1\" class=\"dataframe\">\n  <thead>\n    <tr style=\"text-align: right;\">\n      <th></th>\n      <th>Feature 1</th>\n      <th>Feature 2</th>\n      <th>Feature 3</th>\n      <th>Feature 4</th>\n    </tr>\n  </thead>\n  <tbody>\n    <tr>\n      <th>2018-01-01 01:00:00</th>\n      <td>61.400943</td>\n      <td>-0.809107</td>\n      <td>1.098380</td>\n      <td>58.109776</td>\n    </tr>\n    <tr>\n      <th>2018-01-01 01:01:00</th>\n      <td>9.540385</td>\n      <td>1.592045</td>\n      <td>-0.951722</td>\n      <td>42.362595</td>\n    </tr>\n    <tr>\n      <th>2018-01-01 01:02:00</th>\n      <td>42.997339</td>\n      <td>0.092650</td>\n      <td>0.000000</td>\n      <td>58.062298</td>\n    </tr>\n    <tr>\n      <th>2018-01-01 01:03:00</th>\n      <td>61.821167</td>\n      <td>0.205052</td>\n      <td>-0.745696</td>\n      <td>54.971464</td>\n    </tr>\n    <tr>\n      <th>2018-01-01 01:04:00</th>\n      <td>69.96112</td>\n      <td>0.878513</td>\n      <td>-0.742555</td>\n      <td>58.440487</td>\n    </tr>\n    <tr>\n      <th>...</th>\n      <td>...</td>\n      <td>...</td>\n      <td>...</td>\n      <td>...</td>\n    </tr>\n    <tr>\n      <th>2018-01-01 06:55:00</th>\n      <td>25.549727</td>\n      <td>-0.110769</td>\n      <td>-0.572097</td>\n      <td>8.619377</td>\n    </tr>\n    <tr>\n      <th>2018-01-01 06:56:00</th>\n      <td>41.886676</td>\n      <td>-0.323589</td>\n      <td>-0.138021</td>\n      <td>11.415225</td>\n    </tr>\n    <tr>\n      <th>2018-01-01 06:57:00</th>\n      <td>47.810175</td>\n      <td>0.915613</td>\n      <td>1.155178</td>\n      <td>7.427586</td>\n    </tr>\n    <tr>\n      <th>2018-01-01 06:58:00</th>\n      <td>53.652098</td>\n      <td>-0.669015</td>\n      <td>1.449201</td>\n      <td>3.451724</td>\n    </tr>\n    <tr>\n      <th>2018-01-01 06:59:00</th>\n      <td>30.171256</td>\n      <td>1.317845</td>\n      <td>-1.418118</td>\n      <td>6.548276</td>\n    </tr>\n  </tbody>\n</table>\n<p>360 rows × 4 columns</p>\n</div>"
     },
     "execution_count": 39,
     "metadata": {},
     "output_type": "execute_result"
    }
   ],
   "source": [
    "t_train_start = datetime(2018, 1, 1, 1)\n",
    "t_train_duration = timedelta(hours=6)\n",
    "x_train = x.loc[t_train_start:t_train_start+t_train_duration-timedelta(minutes=1)]\n",
    "A = "
   ],
   "metadata": {
    "collapsed": false,
    "pycharm": {
     "name": "#%%\n"
    }
   }
  },
  {
   "cell_type": "code",
   "execution_count": 33,
   "outputs": [
    {
     "data": {
      "text/plain": "                      Market      Open      High       Low     Close  \\\n2018-01-01 00:59:00  BTCUSDT  13522.98  13574.05  13471.62  13529.01   \n2018-01-01 01:00:00  BTCUSDT  13528.99  13571.74   13527.9  13543.87   \n2018-01-01 01:01:00  BTCUSDT   13570.0   13570.0  13521.99  13530.98   \n2018-01-01 01:02:00  BTCUSDT  13521.99  13530.98  13481.82  13530.98   \n2018-01-01 01:03:00  BTCUSDT  13530.98  13530.98  13486.53  13520.89   \n...                      ...       ...       ...       ...       ...   \n2018-04-10 23:55:00  BTCUSDT    6827.0    6837.0    6827.0    6837.0   \n2018-04-10 23:56:00  BTCUSDT   6835.02    6839.0   6833.61    6839.0   \n2018-04-10 23:57:00  BTCUSDT   6837.35    6842.0   6835.01   6835.02   \n2018-04-10 23:58:00  BTCUSDT    6842.0    6844.9   6835.03    6844.2   \n2018-04-10 23:59:00  BTCUSDT   6842.02    6845.0    6839.0    6843.9   \n\n                        Volume          Value No. Trades Taker Buy Volume  \\\n2018-01-01 00:59:00   8.045008  108840.254007        110         6.121923   \n2018-01-01 01:00:00   1.535737   20808.440065         48         0.942957   \n2018-01-01 01:01:00   3.980699   53935.697003         76         0.379774   \n2018-01-01 01:02:00   4.349511   58824.596544         65         1.870174   \n2018-01-01 01:03:00   5.241386   70777.902377         58         3.240286   \n...                        ...            ...        ...              ...   \n2018-04-10 23:55:00    7.29528   49844.093534        141         5.167686   \n2018-04-10 23:56:00   5.410635    36996.62508        106         4.080443   \n2018-04-10 23:57:00  20.635987  141131.726927        110        16.446863   \n2018-04-10 23:58:00   5.883241   40253.990341         87         2.605464   \n2018-04-10 23:59:00  12.477939   85399.095091        103         7.957451   \n\n                    Taker Buy Value  Feature 1  Feature 2  Feature 3  \\\n2018-01-01 00:59:00    82836.820623  76.095922  -0.504054   4.260812   \n2018-01-01 01:00:00    12780.025236  61.400943  -0.809107   1.098380   \n2018-01-01 01:01:00     5145.352856   9.540385   1.592045  -0.951722   \n2018-01-01 01:02:00    25303.113683  42.997339   0.092650   0.000000   \n2018-01-01 01:03:00    43765.342085  61.821167   0.205052  -0.745696   \n...                             ...        ...        ...        ...   \n2018-04-10 23:55:00    35312.022948   70.83602  -0.532374   1.464772   \n2018-04-10 23:56:00    27901.723566  75.415233  -0.258338   0.292526   \n2018-04-10 23:57:00   112486.809612   79.69991   2.813968  -0.581956   \n2018-04-10 23:58:00    17831.988083  44.286202  -0.714904   1.343083   \n2018-04-10 23:59:00    54461.250487  63.772158   1.120929  -0.043833   \n\n                     Feature 4  \n2018-01-01 00:59:00  61.041059  \n2018-01-01 01:00:00  58.109776  \n2018-01-01 01:01:00  42.362595  \n2018-01-01 01:02:00  58.062298  \n2018-01-01 01:03:00  54.971464  \n...                        ...  \n2018-04-10 23:55:00  18.058064  \n2018-04-10 23:56:00   7.114286  \n2018-04-10 23:57:00   6.458333  \n2018-04-10 23:58:00   3.871829  \n2018-04-10 23:59:00   3.973333  \n\n[140361 rows x 14 columns]",
      "text/html": "<div>\n<style scoped>\n    .dataframe tbody tr th:only-of-type {\n        vertical-align: middle;\n    }\n\n    .dataframe tbody tr th {\n        vertical-align: top;\n    }\n\n    .dataframe thead th {\n        text-align: right;\n    }\n</style>\n<table border=\"1\" class=\"dataframe\">\n  <thead>\n    <tr style=\"text-align: right;\">\n      <th></th>\n      <th>Market</th>\n      <th>Open</th>\n      <th>High</th>\n      <th>Low</th>\n      <th>Close</th>\n      <th>Volume</th>\n      <th>Value</th>\n      <th>No. Trades</th>\n      <th>Taker Buy Volume</th>\n      <th>Taker Buy Value</th>\n      <th>Feature 1</th>\n      <th>Feature 2</th>\n      <th>Feature 3</th>\n      <th>Feature 4</th>\n    </tr>\n  </thead>\n  <tbody>\n    <tr>\n      <th>2018-01-01 00:59:00</th>\n      <td>BTCUSDT</td>\n      <td>13522.98</td>\n      <td>13574.05</td>\n      <td>13471.62</td>\n      <td>13529.01</td>\n      <td>8.045008</td>\n      <td>108840.254007</td>\n      <td>110</td>\n      <td>6.121923</td>\n      <td>82836.820623</td>\n      <td>76.095922</td>\n      <td>-0.504054</td>\n      <td>4.260812</td>\n      <td>61.041059</td>\n    </tr>\n    <tr>\n      <th>2018-01-01 01:00:00</th>\n      <td>BTCUSDT</td>\n      <td>13528.99</td>\n      <td>13571.74</td>\n      <td>13527.9</td>\n      <td>13543.87</td>\n      <td>1.535737</td>\n      <td>20808.440065</td>\n      <td>48</td>\n      <td>0.942957</td>\n      <td>12780.025236</td>\n      <td>61.400943</td>\n      <td>-0.809107</td>\n      <td>1.098380</td>\n      <td>58.109776</td>\n    </tr>\n    <tr>\n      <th>2018-01-01 01:01:00</th>\n      <td>BTCUSDT</td>\n      <td>13570.0</td>\n      <td>13570.0</td>\n      <td>13521.99</td>\n      <td>13530.98</td>\n      <td>3.980699</td>\n      <td>53935.697003</td>\n      <td>76</td>\n      <td>0.379774</td>\n      <td>5145.352856</td>\n      <td>9.540385</td>\n      <td>1.592045</td>\n      <td>-0.951722</td>\n      <td>42.362595</td>\n    </tr>\n    <tr>\n      <th>2018-01-01 01:02:00</th>\n      <td>BTCUSDT</td>\n      <td>13521.99</td>\n      <td>13530.98</td>\n      <td>13481.82</td>\n      <td>13530.98</td>\n      <td>4.349511</td>\n      <td>58824.596544</td>\n      <td>65</td>\n      <td>1.870174</td>\n      <td>25303.113683</td>\n      <td>42.997339</td>\n      <td>0.092650</td>\n      <td>0.000000</td>\n      <td>58.062298</td>\n    </tr>\n    <tr>\n      <th>2018-01-01 01:03:00</th>\n      <td>BTCUSDT</td>\n      <td>13530.98</td>\n      <td>13530.98</td>\n      <td>13486.53</td>\n      <td>13520.89</td>\n      <td>5.241386</td>\n      <td>70777.902377</td>\n      <td>58</td>\n      <td>3.240286</td>\n      <td>43765.342085</td>\n      <td>61.821167</td>\n      <td>0.205052</td>\n      <td>-0.745696</td>\n      <td>54.971464</td>\n    </tr>\n    <tr>\n      <th>...</th>\n      <td>...</td>\n      <td>...</td>\n      <td>...</td>\n      <td>...</td>\n      <td>...</td>\n      <td>...</td>\n      <td>...</td>\n      <td>...</td>\n      <td>...</td>\n      <td>...</td>\n      <td>...</td>\n      <td>...</td>\n      <td>...</td>\n      <td>...</td>\n    </tr>\n    <tr>\n      <th>2018-04-10 23:55:00</th>\n      <td>BTCUSDT</td>\n      <td>6827.0</td>\n      <td>6837.0</td>\n      <td>6827.0</td>\n      <td>6837.0</td>\n      <td>7.29528</td>\n      <td>49844.093534</td>\n      <td>141</td>\n      <td>5.167686</td>\n      <td>35312.022948</td>\n      <td>70.83602</td>\n      <td>-0.532374</td>\n      <td>1.464772</td>\n      <td>18.058064</td>\n    </tr>\n    <tr>\n      <th>2018-04-10 23:56:00</th>\n      <td>BTCUSDT</td>\n      <td>6835.02</td>\n      <td>6839.0</td>\n      <td>6833.61</td>\n      <td>6839.0</td>\n      <td>5.410635</td>\n      <td>36996.62508</td>\n      <td>106</td>\n      <td>4.080443</td>\n      <td>27901.723566</td>\n      <td>75.415233</td>\n      <td>-0.258338</td>\n      <td>0.292526</td>\n      <td>7.114286</td>\n    </tr>\n    <tr>\n      <th>2018-04-10 23:57:00</th>\n      <td>BTCUSDT</td>\n      <td>6837.35</td>\n      <td>6842.0</td>\n      <td>6835.01</td>\n      <td>6835.02</td>\n      <td>20.635987</td>\n      <td>141131.726927</td>\n      <td>110</td>\n      <td>16.446863</td>\n      <td>112486.809612</td>\n      <td>79.69991</td>\n      <td>2.813968</td>\n      <td>-0.581956</td>\n      <td>6.458333</td>\n    </tr>\n    <tr>\n      <th>2018-04-10 23:58:00</th>\n      <td>BTCUSDT</td>\n      <td>6842.0</td>\n      <td>6844.9</td>\n      <td>6835.03</td>\n      <td>6844.2</td>\n      <td>5.883241</td>\n      <td>40253.990341</td>\n      <td>87</td>\n      <td>2.605464</td>\n      <td>17831.988083</td>\n      <td>44.286202</td>\n      <td>-0.714904</td>\n      <td>1.343083</td>\n      <td>3.871829</td>\n    </tr>\n    <tr>\n      <th>2018-04-10 23:59:00</th>\n      <td>BTCUSDT</td>\n      <td>6842.02</td>\n      <td>6845.0</td>\n      <td>6839.0</td>\n      <td>6843.9</td>\n      <td>12.477939</td>\n      <td>85399.095091</td>\n      <td>103</td>\n      <td>7.957451</td>\n      <td>54461.250487</td>\n      <td>63.772158</td>\n      <td>1.120929</td>\n      <td>-0.043833</td>\n      <td>3.973333</td>\n    </tr>\n  </tbody>\n</table>\n<p>140361 rows × 14 columns</p>\n</div>"
     },
     "execution_count": 33,
     "metadata": {},
     "output_type": "execute_result"
    }
   ],
   "source": [
    "# df.dropna(inplace=True)\n",
    "# df"
   ],
   "metadata": {
    "collapsed": false,
    "pycharm": {
     "name": "#%%\n"
    }
   }
  },
  {
   "cell_type": "code",
   "execution_count": 34,
   "outputs": [
    {
     "data": {
      "text/plain": "array([[76.09592184276143, -0.504053747821106, 4.2608121820628675,\n        61.04105943479927],\n       [61.40094299600772, -0.8091068399186179, 1.0983804432105337,\n        58.10977590126674],\n       [9.54038474123413, 1.5920447316174582, -0.951722070575145,\n        42.362594513952594],\n       ...,\n       [79.69990967681993, 2.81396767662206, -0.5819564263780386,\n        6.458333333332828],\n       [44.28620211131439, -0.7149038231125073, 1.3430831219221062,\n        3.8718291054734983],\n       [63.772158206064546, 1.120929433283457, -0.043832734285986774,\n        3.9733333333327514]], dtype=object)"
     },
     "execution_count": 34,
     "metadata": {},
     "output_type": "execute_result"
    }
   ],
   "source": [],
   "metadata": {
    "collapsed": false,
    "pycharm": {
     "name": "#%%\n"
    }
   }
  },
  {
   "cell_type": "code",
   "execution_count": null,
   "outputs": [],
   "source": [],
   "metadata": {
    "collapsed": false,
    "pycharm": {
     "name": "#%%\n"
    }
   }
  }
 ],
 "metadata": {
  "kernelspec": {
   "display_name": "Python 3",
   "language": "python",
   "name": "python3"
  },
  "language_info": {
   "codemirror_mode": {
    "name": "ipython",
    "version": 2
   },
   "file_extension": ".py",
   "mimetype": "text/x-python",
   "name": "python",
   "nbconvert_exporter": "python",
   "pygments_lexer": "ipython2",
   "version": "2.7.6"
  }
 },
 "nbformat": 4,
 "nbformat_minor": 0
}