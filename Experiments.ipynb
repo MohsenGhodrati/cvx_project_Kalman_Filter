{
 "cells": [
  {
   "cell_type": "code",
   "execution_count": 1,
   "outputs": [
    {
     "data": {
      "text/plain": "                      Market     Open     High      Low    Close     Volume  \\\n2019-11-27 00:00:00  BTCUSDT  7154.75  7157.17  7140.93  7143.75   50.60209   \n2019-11-27 00:01:00  BTCUSDT  7143.68  7147.86  7140.54  7145.65  23.730561   \n2019-11-27 00:02:00  BTCUSDT  7144.64  7153.89  7144.63   7151.6  19.483032   \n2019-11-27 00:03:00  BTCUSDT  7152.05  7153.89  7148.79  7151.31   24.30841   \n2019-11-27 00:04:00  BTCUSDT  7152.07  7164.59  7150.99  7162.89  46.076171   \n...                      ...      ...      ...      ...      ...        ...   \n2020-02-03 23:55:00  BTCUSDT  9307.21  9307.73  9299.21  9299.22  21.421539   \n2020-02-03 23:56:00  BTCUSDT  9299.28  9305.88  9298.32  9303.07  22.548824   \n2020-02-03 23:57:00  BTCUSDT   9303.1  9303.58  9300.04  9301.45  13.845829   \n2020-02-03 23:58:00  BTCUSDT  9302.13  9307.02  9301.28  9303.42  13.548862   \n2020-02-03 23:59:00  BTCUSDT   9302.5  9303.37  9291.34  9292.24  55.913389   \n\n                             Value No. Trades Taker Buy Volume Taker Buy Value  \n2019-11-27 00:00:00  361769.135911        385        25.821743   184606.826394  \n2019-11-27 00:01:00  169533.383641        222        16.156826   115429.347803  \n2019-11-27 00:02:00  139284.673628        180        14.570335   104167.055035  \n2019-11-27 00:03:00  173835.703832        157         9.768423    69859.228982  \n2019-11-27 00:04:00  329899.961909        290        37.453687   268154.818917  \n...                            ...        ...              ...             ...  \n2020-02-03 23:55:00  199333.709068        222         9.042252     84149.16618  \n2020-02-03 23:56:00  209730.383157        205        17.150674   159517.416949  \n2020-02-03 23:57:00  128797.438535        218          5.10378    47477.145602  \n2020-02-03 23:58:00   126055.88925        183         8.918618    82976.801269  \n2020-02-03 23:59:00  519658.923902        313        29.456082   273736.004166  \n\n[99360 rows x 10 columns]",
      "text/html": "<div>\n<style scoped>\n    .dataframe tbody tr th:only-of-type {\n        vertical-align: middle;\n    }\n\n    .dataframe tbody tr th {\n        vertical-align: top;\n    }\n\n    .dataframe thead th {\n        text-align: right;\n    }\n</style>\n<table border=\"1\" class=\"dataframe\">\n  <thead>\n    <tr style=\"text-align: right;\">\n      <th></th>\n      <th>Market</th>\n      <th>Open</th>\n      <th>High</th>\n      <th>Low</th>\n      <th>Close</th>\n      <th>Volume</th>\n      <th>Value</th>\n      <th>No. Trades</th>\n      <th>Taker Buy Volume</th>\n      <th>Taker Buy Value</th>\n    </tr>\n  </thead>\n  <tbody>\n    <tr>\n      <th>2019-11-27 00:00:00</th>\n      <td>BTCUSDT</td>\n      <td>7154.75</td>\n      <td>7157.17</td>\n      <td>7140.93</td>\n      <td>7143.75</td>\n      <td>50.60209</td>\n      <td>361769.135911</td>\n      <td>385</td>\n      <td>25.821743</td>\n      <td>184606.826394</td>\n    </tr>\n    <tr>\n      <th>2019-11-27 00:01:00</th>\n      <td>BTCUSDT</td>\n      <td>7143.68</td>\n      <td>7147.86</td>\n      <td>7140.54</td>\n      <td>7145.65</td>\n      <td>23.730561</td>\n      <td>169533.383641</td>\n      <td>222</td>\n      <td>16.156826</td>\n      <td>115429.347803</td>\n    </tr>\n    <tr>\n      <th>2019-11-27 00:02:00</th>\n      <td>BTCUSDT</td>\n      <td>7144.64</td>\n      <td>7153.89</td>\n      <td>7144.63</td>\n      <td>7151.6</td>\n      <td>19.483032</td>\n      <td>139284.673628</td>\n      <td>180</td>\n      <td>14.570335</td>\n      <td>104167.055035</td>\n    </tr>\n    <tr>\n      <th>2019-11-27 00:03:00</th>\n      <td>BTCUSDT</td>\n      <td>7152.05</td>\n      <td>7153.89</td>\n      <td>7148.79</td>\n      <td>7151.31</td>\n      <td>24.30841</td>\n      <td>173835.703832</td>\n      <td>157</td>\n      <td>9.768423</td>\n      <td>69859.228982</td>\n    </tr>\n    <tr>\n      <th>2019-11-27 00:04:00</th>\n      <td>BTCUSDT</td>\n      <td>7152.07</td>\n      <td>7164.59</td>\n      <td>7150.99</td>\n      <td>7162.89</td>\n      <td>46.076171</td>\n      <td>329899.961909</td>\n      <td>290</td>\n      <td>37.453687</td>\n      <td>268154.818917</td>\n    </tr>\n    <tr>\n      <th>...</th>\n      <td>...</td>\n      <td>...</td>\n      <td>...</td>\n      <td>...</td>\n      <td>...</td>\n      <td>...</td>\n      <td>...</td>\n      <td>...</td>\n      <td>...</td>\n      <td>...</td>\n    </tr>\n    <tr>\n      <th>2020-02-03 23:55:00</th>\n      <td>BTCUSDT</td>\n      <td>9307.21</td>\n      <td>9307.73</td>\n      <td>9299.21</td>\n      <td>9299.22</td>\n      <td>21.421539</td>\n      <td>199333.709068</td>\n      <td>222</td>\n      <td>9.042252</td>\n      <td>84149.16618</td>\n    </tr>\n    <tr>\n      <th>2020-02-03 23:56:00</th>\n      <td>BTCUSDT</td>\n      <td>9299.28</td>\n      <td>9305.88</td>\n      <td>9298.32</td>\n      <td>9303.07</td>\n      <td>22.548824</td>\n      <td>209730.383157</td>\n      <td>205</td>\n      <td>17.150674</td>\n      <td>159517.416949</td>\n    </tr>\n    <tr>\n      <th>2020-02-03 23:57:00</th>\n      <td>BTCUSDT</td>\n      <td>9303.1</td>\n      <td>9303.58</td>\n      <td>9300.04</td>\n      <td>9301.45</td>\n      <td>13.845829</td>\n      <td>128797.438535</td>\n      <td>218</td>\n      <td>5.10378</td>\n      <td>47477.145602</td>\n    </tr>\n    <tr>\n      <th>2020-02-03 23:58:00</th>\n      <td>BTCUSDT</td>\n      <td>9302.13</td>\n      <td>9307.02</td>\n      <td>9301.28</td>\n      <td>9303.42</td>\n      <td>13.548862</td>\n      <td>126055.88925</td>\n      <td>183</td>\n      <td>8.918618</td>\n      <td>82976.801269</td>\n    </tr>\n    <tr>\n      <th>2020-02-03 23:59:00</th>\n      <td>BTCUSDT</td>\n      <td>9302.5</td>\n      <td>9303.37</td>\n      <td>9291.34</td>\n      <td>9292.24</td>\n      <td>55.913389</td>\n      <td>519658.923902</td>\n      <td>313</td>\n      <td>29.456082</td>\n      <td>273736.004166</td>\n    </tr>\n  </tbody>\n</table>\n<p>99360 rows × 10 columns</p>\n</div>"
     },
     "execution_count": 1,
     "metadata": {},
     "output_type": "execute_result"
    }
   ],
   "source": [
    "from datetime import timedelta, datetime\n",
    "import numpy as np\n",
    "import pandas as pd\n",
    "import matplotlib.pyplot as plt\n",
    "from utils import get_prices\n",
    "\n",
    "\n",
    "EPSILON = 1e-10\n",
    "RETURN_SCALE = 100\n",
    "\n",
    "# if __name__ == \"__main__\":\n",
    "\n",
    "start_time = '1574812800'\n",
    "end_time = '1580774400'\n",
    "\n",
    "# df_ = get_prices(\n",
    "#     'btc', 'usdt',\n",
    "#     datetime(2019, 11, 27),\n",
    "#     duration=timedelta(days=69),\n",
    "#     proxy_port='8815',\n",
    "#     verbose=2)\n",
    "\n",
    "df_ = pd.read_csv('data/BTCUSDT[' + start_time + '000_' + end_time + '000].csv')\n",
    "df_.drop(['Unnamed: 0'], inplace=True, axis=1)\n",
    "df_['Time'] = pd.to_datetime(df_['Time'])\n",
    "df_.set_index('Time', inplace=True, drop=True)\n",
    "\n",
    "times_index = pd.date_range(\n",
    "    start=pd.to_datetime(start_time, unit='s'),\n",
    "    end=pd.to_datetime(end_time, unit='s'),\n",
    "    periods=(int(end_time) - int(start_time) + 1) / 60 + 1)\n",
    "\n",
    "df = pd.DataFrame(None, columns=df_.columns, index=times_index[:-1])\n",
    "\n",
    "selected_indices = list(set(df_.index).intersection(set(times_index)))\n",
    "df.loc[selected_indices, df_.columns] = df_.loc[selected_indices].copy()\n",
    "df"
   ],
   "metadata": {
    "collapsed": false,
    "pycharm": {
     "name": "#%%\n"
    }
   }
  },
  {
   "cell_type": "code",
   "execution_count": 54,
   "outputs": [
    {
     "data": {
      "text/plain": "                        Open     High      Low    Close      Volume  \\\n2019-11-27 00:00:00  7154.75  7164.59  7140.54  7162.89  164.200264   \n2019-11-27 00:05:00   7164.4  7169.00  7152.92  7157.86  115.531698   \n2019-11-27 00:10:00  7157.32  7160.19  7144.93  7151.68  112.780186   \n2019-11-27 00:15:00  7152.16  7152.20  7138.93  7142.66  157.903923   \n2019-11-27 00:20:00  7142.63  7148.81  7138.94  7146.63   71.999481   \n...                      ...      ...      ...      ...         ...   \n2020-02-03 23:35:00  9298.38  9300.35  9277.07  9294.66  148.543688   \n2020-02-03 23:40:00  9294.66  9307.69  9294.01  9304.29   90.220836   \n2020-02-03 23:45:00   9304.0  9319.99  9295.98  9316.82  139.875918   \n2020-02-03 23:50:00  9316.15  9316.88  9303.73  9306.52   95.824739   \n2020-02-03 23:55:00  9307.21  9307.73  9291.34  9292.24  127.278443   \n\n                              Value No. Trades Taker Buy Volume  \\\n2019-11-27 00:00:00  1174322.858921       1234       103.771014   \n2019-11-27 00:05:00   827553.413765        904        73.404774   \n2019-11-27 00:10:00   806537.314318        914        57.210353   \n2019-11-27 00:15:00  1128196.518585        833         70.53854   \n2019-11-27 00:20:00    514385.20938        638        42.162902   \n...                             ...        ...              ...   \n2020-02-03 23:35:00  1379949.554079       1348        82.834562   \n2020-02-03 23:40:00   839207.947381        908        64.413847   \n2020-02-03 23:45:00  1301847.098326       1874        68.115588   \n2020-02-03 23:50:00   892149.993958       1331        45.580965   \n2020-02-03 23:55:00  1183576.343912       1141        69.671406   \n\n                    Taker Buy Value Average Price  Average Price Change  \n2019-11-27 00:00:00   742217.277131   7151.772051                   NaN  \n2019-11-27 00:05:00   525826.737982   7162.998797              0.001570  \n2019-11-27 00:10:00    409185.53799   7151.409684             -0.001618  \n2019-11-27 00:15:00   503984.524916   7144.828939             -0.000920  \n2019-11-27 00:20:00   301241.148857   7144.290518             -0.000075  \n...                             ...           ...                   ...  \n2020-02-03 23:35:00   769549.767916   9289.856558             -0.000593  \n2020-02-03 23:40:00   599153.526012   9301.708836              0.001276  \n2020-02-03 23:45:00   633991.892739   9307.156778              0.000586  \n2020-02-03 23:50:00   424366.578549   9310.226182              0.000330  \n2020-02-03 23:55:00   647856.534166     9299.1108             -0.001194  \n\n[19872 rows x 11 columns]",
      "text/html": "<div>\n<style scoped>\n    .dataframe tbody tr th:only-of-type {\n        vertical-align: middle;\n    }\n\n    .dataframe tbody tr th {\n        vertical-align: top;\n    }\n\n    .dataframe thead th {\n        text-align: right;\n    }\n</style>\n<table border=\"1\" class=\"dataframe\">\n  <thead>\n    <tr style=\"text-align: right;\">\n      <th></th>\n      <th>Open</th>\n      <th>High</th>\n      <th>Low</th>\n      <th>Close</th>\n      <th>Volume</th>\n      <th>Value</th>\n      <th>No. Trades</th>\n      <th>Taker Buy Volume</th>\n      <th>Taker Buy Value</th>\n      <th>Average Price</th>\n      <th>Average Price Change</th>\n    </tr>\n  </thead>\n  <tbody>\n    <tr>\n      <th>2019-11-27 00:00:00</th>\n      <td>7154.75</td>\n      <td>7164.59</td>\n      <td>7140.54</td>\n      <td>7162.89</td>\n      <td>164.200264</td>\n      <td>1174322.858921</td>\n      <td>1234</td>\n      <td>103.771014</td>\n      <td>742217.277131</td>\n      <td>7151.772051</td>\n      <td>NaN</td>\n    </tr>\n    <tr>\n      <th>2019-11-27 00:05:00</th>\n      <td>7164.4</td>\n      <td>7169.00</td>\n      <td>7152.92</td>\n      <td>7157.86</td>\n      <td>115.531698</td>\n      <td>827553.413765</td>\n      <td>904</td>\n      <td>73.404774</td>\n      <td>525826.737982</td>\n      <td>7162.998797</td>\n      <td>0.001570</td>\n    </tr>\n    <tr>\n      <th>2019-11-27 00:10:00</th>\n      <td>7157.32</td>\n      <td>7160.19</td>\n      <td>7144.93</td>\n      <td>7151.68</td>\n      <td>112.780186</td>\n      <td>806537.314318</td>\n      <td>914</td>\n      <td>57.210353</td>\n      <td>409185.53799</td>\n      <td>7151.409684</td>\n      <td>-0.001618</td>\n    </tr>\n    <tr>\n      <th>2019-11-27 00:15:00</th>\n      <td>7152.16</td>\n      <td>7152.20</td>\n      <td>7138.93</td>\n      <td>7142.66</td>\n      <td>157.903923</td>\n      <td>1128196.518585</td>\n      <td>833</td>\n      <td>70.53854</td>\n      <td>503984.524916</td>\n      <td>7144.828939</td>\n      <td>-0.000920</td>\n    </tr>\n    <tr>\n      <th>2019-11-27 00:20:00</th>\n      <td>7142.63</td>\n      <td>7148.81</td>\n      <td>7138.94</td>\n      <td>7146.63</td>\n      <td>71.999481</td>\n      <td>514385.20938</td>\n      <td>638</td>\n      <td>42.162902</td>\n      <td>301241.148857</td>\n      <td>7144.290518</td>\n      <td>-0.000075</td>\n    </tr>\n    <tr>\n      <th>...</th>\n      <td>...</td>\n      <td>...</td>\n      <td>...</td>\n      <td>...</td>\n      <td>...</td>\n      <td>...</td>\n      <td>...</td>\n      <td>...</td>\n      <td>...</td>\n      <td>...</td>\n      <td>...</td>\n    </tr>\n    <tr>\n      <th>2020-02-03 23:35:00</th>\n      <td>9298.38</td>\n      <td>9300.35</td>\n      <td>9277.07</td>\n      <td>9294.66</td>\n      <td>148.543688</td>\n      <td>1379949.554079</td>\n      <td>1348</td>\n      <td>82.834562</td>\n      <td>769549.767916</td>\n      <td>9289.856558</td>\n      <td>-0.000593</td>\n    </tr>\n    <tr>\n      <th>2020-02-03 23:40:00</th>\n      <td>9294.66</td>\n      <td>9307.69</td>\n      <td>9294.01</td>\n      <td>9304.29</td>\n      <td>90.220836</td>\n      <td>839207.947381</td>\n      <td>908</td>\n      <td>64.413847</td>\n      <td>599153.526012</td>\n      <td>9301.708836</td>\n      <td>0.001276</td>\n    </tr>\n    <tr>\n      <th>2020-02-03 23:45:00</th>\n      <td>9304.0</td>\n      <td>9319.99</td>\n      <td>9295.98</td>\n      <td>9316.82</td>\n      <td>139.875918</td>\n      <td>1301847.098326</td>\n      <td>1874</td>\n      <td>68.115588</td>\n      <td>633991.892739</td>\n      <td>9307.156778</td>\n      <td>0.000586</td>\n    </tr>\n    <tr>\n      <th>2020-02-03 23:50:00</th>\n      <td>9316.15</td>\n      <td>9316.88</td>\n      <td>9303.73</td>\n      <td>9306.52</td>\n      <td>95.824739</td>\n      <td>892149.993958</td>\n      <td>1331</td>\n      <td>45.580965</td>\n      <td>424366.578549</td>\n      <td>9310.226182</td>\n      <td>0.000330</td>\n    </tr>\n    <tr>\n      <th>2020-02-03 23:55:00</th>\n      <td>9307.21</td>\n      <td>9307.73</td>\n      <td>9291.34</td>\n      <td>9292.24</td>\n      <td>127.278443</td>\n      <td>1183576.343912</td>\n      <td>1141</td>\n      <td>69.671406</td>\n      <td>647856.534166</td>\n      <td>9299.1108</td>\n      <td>-0.001194</td>\n    </tr>\n  </tbody>\n</table>\n<p>19872 rows × 11 columns</p>\n</div>"
     },
     "execution_count": 54,
     "metadata": {},
     "output_type": "execute_result"
    }
   ],
   "source": [
    "timeframe = timedelta(minutes=5)\n",
    "\n",
    "df = df.resample(timeframe).agg({\n",
    "    'Open': 'first',\n",
    "    'High': 'max',\n",
    "    'Low': 'min',\n",
    "    'Close': 'last',\n",
    "    'Volume': 'sum',\n",
    "    'Value': 'sum',\n",
    "    'No. Trades': 'sum',\n",
    "    'Taker Buy Volume': 'sum',\n",
    "    'Taker Buy Value': 'sum'\n",
    "})\n",
    "df['Average Price'] = df['Value'] / df['Volume']\n",
    "df['Average Price Change'] = df['Average Price'].pct_change()\n",
    "df"
   ],
   "metadata": {
    "collapsed": false,
    "pycharm": {
     "name": "#%%\n"
    }
   }
  },
  {
   "cell_type": "code",
   "execution_count": 3,
   "outputs": [
    {
     "data": {
      "text/plain": "                    taker buy portion  volume change\n2019-11-27 00:00:00         63.197836            NaN\n2019-11-27 00:05:00          63.53648     -29.639761\n2019-11-27 00:10:00         50.727309      -2.381608\n2019-11-27 00:15:00          44.67181      40.010341\n2019-11-27 00:20:00         58.560008     -54.402981\n...                               ...            ...\n2020-02-03 23:35:00         55.764444     158.284931\n2020-02-03 23:40:00         71.395755     -39.263097\n2020-02-03 23:45:00         48.697152      55.037267\n2020-02-03 23:50:00         47.567012     -31.493040\n2020-02-03 23:55:00         54.739361      32.824200\n\n[19872 rows x 2 columns]",
      "text/html": "<div>\n<style scoped>\n    .dataframe tbody tr th:only-of-type {\n        vertical-align: middle;\n    }\n\n    .dataframe tbody tr th {\n        vertical-align: top;\n    }\n\n    .dataframe thead th {\n        text-align: right;\n    }\n</style>\n<table border=\"1\" class=\"dataframe\">\n  <thead>\n    <tr style=\"text-align: right;\">\n      <th></th>\n      <th>taker buy portion</th>\n      <th>volume change</th>\n    </tr>\n  </thead>\n  <tbody>\n    <tr>\n      <th>2019-11-27 00:00:00</th>\n      <td>63.197836</td>\n      <td>NaN</td>\n    </tr>\n    <tr>\n      <th>2019-11-27 00:05:00</th>\n      <td>63.53648</td>\n      <td>-29.639761</td>\n    </tr>\n    <tr>\n      <th>2019-11-27 00:10:00</th>\n      <td>50.727309</td>\n      <td>-2.381608</td>\n    </tr>\n    <tr>\n      <th>2019-11-27 00:15:00</th>\n      <td>44.67181</td>\n      <td>40.010341</td>\n    </tr>\n    <tr>\n      <th>2019-11-27 00:20:00</th>\n      <td>58.560008</td>\n      <td>-54.402981</td>\n    </tr>\n    <tr>\n      <th>...</th>\n      <td>...</td>\n      <td>...</td>\n    </tr>\n    <tr>\n      <th>2020-02-03 23:35:00</th>\n      <td>55.764444</td>\n      <td>158.284931</td>\n    </tr>\n    <tr>\n      <th>2020-02-03 23:40:00</th>\n      <td>71.395755</td>\n      <td>-39.263097</td>\n    </tr>\n    <tr>\n      <th>2020-02-03 23:45:00</th>\n      <td>48.697152</td>\n      <td>55.037267</td>\n    </tr>\n    <tr>\n      <th>2020-02-03 23:50:00</th>\n      <td>47.567012</td>\n      <td>-31.493040</td>\n    </tr>\n    <tr>\n      <th>2020-02-03 23:55:00</th>\n      <td>54.739361</td>\n      <td>32.824200</td>\n    </tr>\n  </tbody>\n</table>\n<p>19872 rows × 2 columns</p>\n</div>"
     },
     "execution_count": 3,
     "metadata": {},
     "output_type": "execute_result"
    }
   ],
   "source": [
    "features = pd.DataFrame(index=df.index)\n",
    "features['taker buy portion'] = df['Taker Buy Volume'] / (df['Volume'] + EPSILON) * 100\n",
    "features['volume change'] = (df['Volume'] + EPSILON).pct_change() * 100\n",
    "#\n",
    "# a = df['Taker Buy Value'] / (df['Taker Buy Volume'] + EPSILON)\n",
    "#\n",
    "# b = (df['Value'] - df['Taker Buy Value']) / (df['Volume'] - df['Taker Buy Volume'] + EPSILON)\n",
    "# df['Feature 3'] = (a - b) / df['Open'] * RETURN_SCALE * 100\n",
    "#\n",
    "# def historical_high_to_low_ratio(window):\n",
    "#     tmp = df['High'].rolling(window).max()\n",
    "#     return (tmp-df['Close']) / (tmp-df['Low'].rolling(window).min() + EPSILON) * 100\n",
    "#\n",
    "# for i, t in enumerate([1, 6, 24]):\n",
    "#     window = int(timedelta(hours=t) / timeframe)\n",
    "#     df[f'Feature {4+i}'] = historical_high_to_low_ratio(window)\n",
    "#\n",
    "# period = 10\n",
    "# for i in range(period):\n",
    "#     df[f'Return {i+1} min'] = (df['Close'].shift(-i-1) / df['Close'] - 1) * 100\n",
    "features"
   ],
   "metadata": {
    "collapsed": false,
    "pycharm": {
     "name": "#%%\n"
    }
   }
  },
  {
   "cell_type": "code",
   "execution_count": 4,
   "outputs": [],
   "source": [
    "# returns = df['Close'].pct_change() * 100 * RETURN_SCALE\n",
    "# returns[0] = (df.iloc[0]['Close'] / df.iloc[0]['Open'] - 1) * 100 * RETURN_SCALE\n",
    "# df['Return'] = returns\n",
    "# df"
   ],
   "metadata": {
    "collapsed": false,
    "pycharm": {
     "name": "#%%\n"
    }
   }
  },
  {
   "cell_type": "code",
   "execution_count": 5,
   "outputs": [],
   "source": [
    "# m = 100\n",
    "# plt.figure(figsize=(20, 10))\n",
    "# plt.xticks(rotation=90)\n",
    "# plt.plot(\n",
    "#     df.iloc[0:m].index,\n",
    "#     df['Weighted Price Average'][0:m],\n",
    "#     color='black')\n",
    "# x_limits = plt.xlim()\n",
    "# x_width = x_limits[1] - x_limits[0]\n",
    "# plt.bar(\n",
    "#     x=df.iloc[0:m].index,\n",
    "#     height=df['Close'].shift(1)[0:m]-df['Weighted Price Average'][0:m],\n",
    "#     width=0.1*(x_width / m),\n",
    "#     bottom=df['Weighted Price Average'][0:m],\n",
    "#     color='red')\n",
    "# plt.scatter(\n",
    "#     df.iloc[0:m].index,\n",
    "#     df['Close'].shift(1)[0:m],\n",
    "#     color='red'\n",
    "# )\n",
    "# plt.show()"
   ],
   "metadata": {
    "collapsed": false,
    "pycharm": {
     "name": "#%%\n"
    }
   }
  },
  {
   "cell_type": "code",
   "execution_count": 6,
   "outputs": [],
   "source": [
    "# real_return = df['Weighted Price Average'].pct_change() * 100 * RETURN_SCALE\n",
    "# real_return[0] = (df.iloc[0]['Weighted Price Average'] / df.iloc[0]['Open'] - 1) * 100 * RETURN_SCALE\n",
    "# df['Real Return'] = real_return\n",
    "# df"
   ],
   "metadata": {
    "collapsed": false,
    "pycharm": {
     "name": "#%%\n"
    }
   }
  },
  {
   "cell_type": "code",
   "execution_count": 50,
   "outputs": [],
   "source": [
    "# from scipy.stats import pearsonr\n",
    "# tmp = [(1., 0), ]\n",
    "# for i in range(360):\n",
    "#     if i == 0:\n",
    "#         x = (df['Average Price'].shift(-1) / df['Average Price'] - 1) * 100 * RETURN_SCALE\n",
    "#     else:\n",
    "#         y = (df['Average Price'].shift(-i-1) / df['Average Price'] - 1) * 100 * RETURN_SCALE\n",
    "#         intersection = sorted(list(set(x.dropna().index).intersection(set(y.dropna().index))))\n",
    "#         tmp.append(pearsonr(x.loc[intersection], y.loc[intersection]))\n",
    "# tmp = np.array(tmp)"
   ],
   "metadata": {
    "collapsed": false,
    "pycharm": {
     "name": "#%%\n"
    }
   }
  },
  {
   "cell_type": "code",
   "execution_count": 7,
   "outputs": [],
   "source": [
    "# %matplotlib inline\n",
    "# plt.figure(figsize=(10, 3), dpi=120)\n",
    "# plt.plot(np.log2(tmp[:, 0]))\n",
    "# plt.title('BTC Price Change Memory')\n",
    "# txt = \"correlation diagram (in binary logarithmic scale) of BTC price return with cummulative price return up to some future point\"\n",
    "# plt.gcf().text(0.5, -0.1, txt, wrap=False, horizontalalignment='center', fontsize=8)\n",
    "# plt.xlabel('time elapsed (minutes)')\n",
    "# plt.ylabel('correlation (logarithmic)')\n",
    "# plt.xticks(np.arange(25) * 15, fontsize=5)\n",
    "# plt.yticks(np.arange(0, -5, -1))\n",
    "# plt.grid()\n",
    "# for i in range(-1, -5, -1):\n",
    "#     point = np.where(np.log2(tmp[:, 0]) >= i)[0][-1]\n",
    "#     plt.scatter(point, np.log2(tmp[point, 0]), marker='x', label=str(point))\n",
    "# plt.legend()\n",
    "# plt.savefig(\"Correlation.png\")\n",
    "# plt.show()"
   ],
   "metadata": {
    "collapsed": false,
    "pycharm": {
     "name": "#%%\n"
    }
   }
  },
  {
   "cell_type": "code",
   "execution_count": 34,
   "outputs": [
    {
     "data": {
      "text/plain": "2019-11-27 00:00:00    0.001570\n2019-11-27 00:05:00   -0.001618\n2019-11-27 00:10:00   -0.000920\n2019-11-27 00:15:00   -0.000075\n2019-11-27 00:20:00   -0.001357\n                         ...   \n2020-02-03 23:35:00    0.001276\n2020-02-03 23:40:00    0.000586\n2020-02-03 23:45:00    0.000330\n2020-02-03 23:50:00   -0.001194\n2020-02-03 23:55:00         NaN\nFreq: 5T, Name: Average Price Change from last 0 candle so far, Length: 19872, dtype: float64"
     },
     "execution_count": 34,
     "metadata": {},
     "output_type": "execute_result"
    }
   ],
   "source": [
    "X.iloc[:, 0]"
   ],
   "metadata": {
    "collapsed": false,
    "pycharm": {
     "name": "#%%\n"
    }
   }
  },
  {
   "cell_type": "code",
   "execution_count": 118,
   "outputs": [
    {
     "data": {
      "text/plain": "                    Prediction Measurement Model Noise Bias   Reality\n2019-12-01 00:00:00   0.000336    0.000081         0.000061 -0.001031\n2019-12-01 00:05:00  -0.000323   -0.001297         0.000065 -0.002840\n2019-12-01 00:10:00   0.000426   -0.000948         0.000076 -0.000342\n2019-12-01 00:15:00   0.000149   -0.002222         0.000075 -0.001469\n2019-12-01 00:20:00   -0.00003   -0.001464         0.000078 -0.000018\n...                        ...         ...              ...       ...\n2020-01-31 23:35:00    0.00086    0.000349         0.000009  0.000035\n2020-01-31 23:40:00  -0.000337    0.000749         0.000018 -0.003235\n2020-01-31 23:45:00  -0.000478   -0.000477         0.000031 -0.001554\n2020-01-31 23:50:00  -0.000031   -0.004007         0.000036  0.000073\n2020-01-31 23:55:00   0.000237   -0.001363         0.000037  0.001486\n\n[17856 rows x 4 columns]",
      "text/html": "<div>\n<style scoped>\n    .dataframe tbody tr th:only-of-type {\n        vertical-align: middle;\n    }\n\n    .dataframe tbody tr th {\n        vertical-align: top;\n    }\n\n    .dataframe thead th {\n        text-align: right;\n    }\n</style>\n<table border=\"1\" class=\"dataframe\">\n  <thead>\n    <tr style=\"text-align: right;\">\n      <th></th>\n      <th>Prediction</th>\n      <th>Measurement</th>\n      <th>Model Noise Bias</th>\n      <th>Reality</th>\n    </tr>\n  </thead>\n  <tbody>\n    <tr>\n      <th>2019-12-01 00:00:00</th>\n      <td>0.000336</td>\n      <td>0.000081</td>\n      <td>0.000061</td>\n      <td>-0.001031</td>\n    </tr>\n    <tr>\n      <th>2019-12-01 00:05:00</th>\n      <td>-0.000323</td>\n      <td>-0.001297</td>\n      <td>0.000065</td>\n      <td>-0.002840</td>\n    </tr>\n    <tr>\n      <th>2019-12-01 00:10:00</th>\n      <td>0.000426</td>\n      <td>-0.000948</td>\n      <td>0.000076</td>\n      <td>-0.000342</td>\n    </tr>\n    <tr>\n      <th>2019-12-01 00:15:00</th>\n      <td>0.000149</td>\n      <td>-0.002222</td>\n      <td>0.000075</td>\n      <td>-0.001469</td>\n    </tr>\n    <tr>\n      <th>2019-12-01 00:20:00</th>\n      <td>-0.00003</td>\n      <td>-0.001464</td>\n      <td>0.000078</td>\n      <td>-0.000018</td>\n    </tr>\n    <tr>\n      <th>...</th>\n      <td>...</td>\n      <td>...</td>\n      <td>...</td>\n      <td>...</td>\n    </tr>\n    <tr>\n      <th>2020-01-31 23:35:00</th>\n      <td>0.00086</td>\n      <td>0.000349</td>\n      <td>0.000009</td>\n      <td>0.000035</td>\n    </tr>\n    <tr>\n      <th>2020-01-31 23:40:00</th>\n      <td>-0.000337</td>\n      <td>0.000749</td>\n      <td>0.000018</td>\n      <td>-0.003235</td>\n    </tr>\n    <tr>\n      <th>2020-01-31 23:45:00</th>\n      <td>-0.000478</td>\n      <td>-0.000477</td>\n      <td>0.000031</td>\n      <td>-0.001554</td>\n    </tr>\n    <tr>\n      <th>2020-01-31 23:50:00</th>\n      <td>-0.000031</td>\n      <td>-0.004007</td>\n      <td>0.000036</td>\n      <td>0.000073</td>\n    </tr>\n    <tr>\n      <th>2020-01-31 23:55:00</th>\n      <td>0.000237</td>\n      <td>-0.001363</td>\n      <td>0.000037</td>\n      <td>0.001486</td>\n    </tr>\n  </tbody>\n</table>\n<p>17856 rows × 4 columns</p>\n</div>"
     },
     "execution_count": 118,
     "metadata": {},
     "output_type": "execute_result"
    }
   ],
   "source": [
    "k = 255\n",
    "m = 60\n",
    "r = len(features.columns)\n",
    "\n",
    "results = pd.DataFrame(index=df.index)\n",
    "results['Prediction'] = None\n",
    "results['Measurement'] = None\n",
    "results['Model Noise Bias'] = None\n",
    "\n",
    "X = pd.DataFrame(index=df.index)\n",
    "for i in range(m):\n",
    "    X[f'Average Price Change from last {i} candle so far'] = \\\n",
    "        df['Average Price'].pct_change(1 if i == 0 else i).shift(-1 if i == 0 else 0)\n",
    "\n",
    "THETA = []\n",
    "\n",
    "period_start = datetime(2019, 12, 1)\n",
    "period_start_iloc = np.where(df.index == period_start)[0][0]\n",
    "period_end = datetime(2020, 2, 1)#period_start + timeframe\n",
    "period_end_iloc = np.where(df.index == period_end)[0][0]\n",
    "\n",
    "residuals = []\n",
    "for n in np.arange(period_start_iloc, period_end_iloc):\n",
    "    A = np.zeros([k, m])\n",
    "    A[:, range(m)] = X.iloc[(n-2)-(k-1):(n-2)+1].to_numpy()\n",
    "    b = X.iloc[(n-1)-(k-1):(n-1)+1, 0].values\n",
    "    theta, _, _, _ = np.linalg.lstsq(A, b, rcond=-1)\n",
    "    THETA.append(theta)\n",
    "    pos = results.index[n]\n",
    "    results.loc[pos, 'Model Noise Bias'] = (np.dot(A, theta) - b).mean()\n",
    "    results.loc[pos, 'Prediction'] = np.dot(theta, X.iloc[n-1].values) + results.loc[pos, 'Model Noise Bias']\n",
    "    results.loc[pos, 'Measurement'] = df.iloc[n]['Open'] / df.iloc[n-1]['Open'] - 1\n",
    "\n",
    "indices = df.index[period_start_iloc:period_end_iloc]\n",
    "results = results.loc[indices]\n",
    "results['Reality'] = df['Average Price Change'].shift(-1).loc[indices].values\n",
    "results"
   ],
   "metadata": {
    "collapsed": false,
    "pycharm": {
     "name": "#%%\n"
    }
   }
  },
  {
   "cell_type": "code",
   "execution_count": 119,
   "outputs": [
    {
     "data": {
      "text/plain": "50.39202508960573"
     },
     "execution_count": 119,
     "metadata": {},
     "output_type": "execute_result"
    }
   ],
   "source": [
    "t = np.bincount(np.sign(results['Prediction']) == np.sign(results['Reality']))\n",
    "t[1] / (t[0]+t[1]) * 100"
   ],
   "metadata": {
    "collapsed": false,
    "pycharm": {
     "name": "#%%\n"
    }
   }
  },
  {
   "cell_type": "code",
   "execution_count": 120,
   "outputs": [
    {
     "name": "stdout",
     "output_type": "stream",
     "text": [
      "STANDARD ERRORS\n",
      "  > Prediction:  0.00168\n",
      "  > Measurement: 0.00229\n",
      "  > Reality:     0.00186\n"
     ]
    }
   ],
   "source": [
    "print('STANDARD ERRORS')\n",
    "for c_label in ['Prediction', 'Measurement']:\n",
    "    print('  > {:13s}{:.5f}'.format(c_label + ':', (results[c_label] - results['Reality']).std()))\n",
    "print('  > {:13s}{:.5f}'.format('Reality:', (results['Reality']-df['Average Price Change'].loc[indices].values).std()))"
   ],
   "metadata": {
    "collapsed": false,
    "pycharm": {
     "name": "#%%\n"
    }
   }
  },
  {
   "cell_type": "code",
   "execution_count": 115,
   "outputs": [],
   "source": [
    "# k = 255\n",
    "# m = 60\n",
    "# r = len(features.columns)\n",
    "#\n",
    "# results = pd.DataFrame(index=df.index)\n",
    "# results['Prediction'] = None\n",
    "# results['Measurement'] = None\n",
    "#\n",
    "# X = pd.DataFrame(index=df.index)\n",
    "# for i in range(m+1):\n",
    "#     X[f'Average Price Change from last {i} candle so far'] = \\\n",
    "#         df['Average Price'].pct_change(1 if i == 0 else i).shift(-1 if i == 0 else 0)\n",
    "#\n",
    "# # alpha = 1.05\n",
    "# # W = np.diag(alpha ** np.arange(k) / np.sum(alpha ** np.arange(k)))\n",
    "# # W = np.diag(np.arange(k) / np.sum(np.arange(k)))\n",
    "#\n",
    "# THETA = []\n",
    "#\n",
    "# period_start = datetime(2019, 12, 1)\n",
    "# period_start_iloc = np.where(df.index == period_start)[0][0]\n",
    "# period_end = datetime(2020, 1, 31)\n",
    "# period_end_iloc = np.where(df.index == period_end)[0][0]\n",
    "#\n",
    "# for n in np.arange(period_start_iloc, period_end_iloc):\n",
    "#     A = np.zeros([k, m+r])\n",
    "#     A[:, m:m+r] = features.iloc[(n-2)-(k-1):(n-2)+1].to_numpy()\n",
    "#     for i in range(m):\n",
    "#         A[:, i] = df.iloc[(n-2)-(k-1)-i:(n-2)-i+1]['Average Price Change']\n",
    "#     b = df.iloc[(n-1)-(k-1):(n-1)+1]['Real Return'].values\n",
    "#     # theta, _, _, _ = np.linalg.lstsq(np.dot(W, A), np.dot(W, b), rcond=-1)\n",
    "#     theta, _, _, _ = np.linalg.lstsq(A, b, rcond=-1)\n",
    "#     THETA.append(theta)\n",
    "#\n",
    "#     prediction = np.dot(theta, np.concatenate([df.iloc[n-1:n-m-1:-1]['Real Return'].values,\n",
    "#                                                df.iloc[n-1][[f'Feature {i+1}' for i in range(r)]].values]).ravel())\n",
    "#     df.loc[df.index[n], 'Prediction'] = (1 + prediction / (100 * RETURN_SCALE)) * df.iloc[n-1]['Weighted Price Average']\n",
    "#     df.loc[df.index[n], 'Measurement'] = df.iloc[n]['Open']\n",
    "#\n",
    "# df"
   ],
   "metadata": {
    "collapsed": false,
    "pycharm": {
     "name": "#%%\n"
    }
   }
  },
  {
   "cell_type": "code",
   "execution_count": 10,
   "outputs": [
    {
     "name": "stdout",
     "output_type": "stream",
     "text": [
      "123.06694298085853 492.4141440553021 198.6163289608532\n"
     ]
    },
    {
     "data": {
      "text/plain": "                        Open     High      Low    Close       Volume  \\\n2020-01-04 00:00:00   7345.0  7350.00  7320.58  7330.83   418.917101   \n2020-01-04 00:10:00  7330.83  7331.29  7315.72  7316.78   164.888036   \n2020-01-04 00:20:00  7316.58  7323.97  7309.38  7316.39    129.53026   \n2020-01-04 00:30:00  7316.97  7317.00  7289.98   7309.5   271.228827   \n2020-01-04 00:40:00   7309.5  7311.27  7290.80  7300.37   130.422169   \n...                      ...      ...      ...      ...          ...   \n2020-01-07 23:10:00  8042.26  8080.54  8040.80  8066.41   458.817809   \n2020-01-07 23:20:00  8066.72  8082.33  8065.17  8078.61   242.486847   \n2020-01-07 23:30:00   8078.0  8150.57  8078.00   8135.0   787.688054   \n2020-01-07 23:40:00  8135.22  8207.68  8122.84  8171.74  1503.897763   \n2020-01-07 23:50:00  8172.02  8180.78  8131.70  8145.28   720.770474   \n\n                               Value No. Trades Taker Buy Volume  \\\n2020-01-04 00:00:00   3074573.290919       3731       237.725142   \n2020-01-04 00:10:00   1207308.260648       2024        81.797801   \n2020-01-04 00:20:00    947827.639843       1517        65.816654   \n2020-01-04 00:30:00   1980347.532591       2655       132.694839   \n2020-01-04 00:40:00    952359.125111       1502        70.040453   \n...                              ...        ...              ...   \n2020-01-07 23:10:00   3699697.185584       4886       245.031574   \n2020-01-07 23:20:00   1957859.392795       3268       116.949477   \n2020-01-07 23:30:00   6389870.063615       7012       465.850505   \n2020-01-07 23:40:00  12291193.941555      12266       877.420526   \n2020-01-07 23:50:00   5881181.284828       6340        315.77526   \n\n                    Taker Buy Value  Feature 1   Feature 2 Feature 3  \\\n2020-01-04 00:00:00  1744694.439191  56.747538   44.553229 -0.664888   \n2020-01-04 00:10:00   598915.347786  49.608087  -60.639459 -0.237919   \n2020-01-04 00:20:00    481649.50508  50.811798  -21.443506  1.741051   \n2020-01-04 00:30:00   969073.185792  48.923575  109.394181  4.363111   \n2020-01-04 00:40:00   511433.584821  53.702874  -51.914341 -0.448713   \n...                             ...        ...         ...       ...   \n2020-01-07 23:10:00  1975469.708868  53.404983   70.100041 -3.843946   \n2020-01-07 23:20:00   944280.590955  48.229204  -47.149644  0.421437   \n2020-01-07 23:30:00  3778540.045392  59.141497  224.837435  -3.41288   \n2020-01-07 23:40:00  7172993.879398  58.343097   90.925552  6.493125   \n2020-01-07 23:50:00  2576787.586417  43.810793  -52.073173  1.347822   \n\n                     Feature 4  Feature 5  Feature 6 Weighted Price Average  \\\n2020-01-04 00:00:00  40.188679  35.300566  13.890554            7339.335834   \n2020-01-04 00:10:00  77.634961  48.136305  16.521837            7321.988241   \n2020-01-04 00:20:00  82.742491    48.4926  16.594876            7317.422507   \n2020-01-04 00:30:00  67.477507  52.996486  17.885235            7301.390322   \n2020-01-04 00:40:00  82.689104  60.035647  19.595101            7302.126106   \n...                        ...        ...        ...                    ...   \n2020-01-07 23:10:00  10.480641  41.901578  26.188374            8063.543117   \n2020-01-07 23:20:00   4.401325  37.697291  23.560706            8074.084912   \n2020-01-07 23:30:00  11.558162  19.718729  11.415279            8112.183537   \n2020-01-07 23:40:00  18.736315  12.459266    7.42608            8172.891964   \n2020-01-07 23:50:00  33.372553  21.632115  12.893361            8159.575755   \n\n                     Real Return   Prediction Measurement  \n2020-01-04 00:00:00    16.422020  7347.756081      7345.0  \n2020-01-04 00:10:00   -23.636462  7343.780819     7330.83  \n2020-01-04 00:20:00    -6.235648  7296.818844     7316.58  \n2020-01-04 00:30:00   -21.909606  7314.828266     7316.97  \n2020-01-04 00:40:00     1.007732   7309.46634      7309.5  \n...                          ...          ...         ...  \n2020-01-07 23:10:00    29.024274  8047.747718     8042.26  \n2020-01-07 23:20:00    13.073404  8125.094296     8066.72  \n2020-01-07 23:30:00    47.186306  8079.294288      8078.0  \n2020-01-07 23:40:00    74.836112  8148.784292     8135.22  \n2020-01-07 23:50:00   -16.293141  8171.606417     8172.02  \n\n[576 rows x 19 columns]",
      "text/html": "<div>\n<style scoped>\n    .dataframe tbody tr th:only-of-type {\n        vertical-align: middle;\n    }\n\n    .dataframe tbody tr th {\n        vertical-align: top;\n    }\n\n    .dataframe thead th {\n        text-align: right;\n    }\n</style>\n<table border=\"1\" class=\"dataframe\">\n  <thead>\n    <tr style=\"text-align: right;\">\n      <th></th>\n      <th>Open</th>\n      <th>High</th>\n      <th>Low</th>\n      <th>Close</th>\n      <th>Volume</th>\n      <th>Value</th>\n      <th>No. Trades</th>\n      <th>Taker Buy Volume</th>\n      <th>Taker Buy Value</th>\n      <th>Feature 1</th>\n      <th>Feature 2</th>\n      <th>Feature 3</th>\n      <th>Feature 4</th>\n      <th>Feature 5</th>\n      <th>Feature 6</th>\n      <th>Weighted Price Average</th>\n      <th>Real Return</th>\n      <th>Prediction</th>\n      <th>Measurement</th>\n    </tr>\n  </thead>\n  <tbody>\n    <tr>\n      <th>2020-01-04 00:00:00</th>\n      <td>7345.0</td>\n      <td>7350.00</td>\n      <td>7320.58</td>\n      <td>7330.83</td>\n      <td>418.917101</td>\n      <td>3074573.290919</td>\n      <td>3731</td>\n      <td>237.725142</td>\n      <td>1744694.439191</td>\n      <td>56.747538</td>\n      <td>44.553229</td>\n      <td>-0.664888</td>\n      <td>40.188679</td>\n      <td>35.300566</td>\n      <td>13.890554</td>\n      <td>7339.335834</td>\n      <td>16.422020</td>\n      <td>7347.756081</td>\n      <td>7345.0</td>\n    </tr>\n    <tr>\n      <th>2020-01-04 00:10:00</th>\n      <td>7330.83</td>\n      <td>7331.29</td>\n      <td>7315.72</td>\n      <td>7316.78</td>\n      <td>164.888036</td>\n      <td>1207308.260648</td>\n      <td>2024</td>\n      <td>81.797801</td>\n      <td>598915.347786</td>\n      <td>49.608087</td>\n      <td>-60.639459</td>\n      <td>-0.237919</td>\n      <td>77.634961</td>\n      <td>48.136305</td>\n      <td>16.521837</td>\n      <td>7321.988241</td>\n      <td>-23.636462</td>\n      <td>7343.780819</td>\n      <td>7330.83</td>\n    </tr>\n    <tr>\n      <th>2020-01-04 00:20:00</th>\n      <td>7316.58</td>\n      <td>7323.97</td>\n      <td>7309.38</td>\n      <td>7316.39</td>\n      <td>129.53026</td>\n      <td>947827.639843</td>\n      <td>1517</td>\n      <td>65.816654</td>\n      <td>481649.50508</td>\n      <td>50.811798</td>\n      <td>-21.443506</td>\n      <td>1.741051</td>\n      <td>82.742491</td>\n      <td>48.4926</td>\n      <td>16.594876</td>\n      <td>7317.422507</td>\n      <td>-6.235648</td>\n      <td>7296.818844</td>\n      <td>7316.58</td>\n    </tr>\n    <tr>\n      <th>2020-01-04 00:30:00</th>\n      <td>7316.97</td>\n      <td>7317.00</td>\n      <td>7289.98</td>\n      <td>7309.5</td>\n      <td>271.228827</td>\n      <td>1980347.532591</td>\n      <td>2655</td>\n      <td>132.694839</td>\n      <td>969073.185792</td>\n      <td>48.923575</td>\n      <td>109.394181</td>\n      <td>4.363111</td>\n      <td>67.477507</td>\n      <td>52.996486</td>\n      <td>17.885235</td>\n      <td>7301.390322</td>\n      <td>-21.909606</td>\n      <td>7314.828266</td>\n      <td>7316.97</td>\n    </tr>\n    <tr>\n      <th>2020-01-04 00:40:00</th>\n      <td>7309.5</td>\n      <td>7311.27</td>\n      <td>7290.80</td>\n      <td>7300.37</td>\n      <td>130.422169</td>\n      <td>952359.125111</td>\n      <td>1502</td>\n      <td>70.040453</td>\n      <td>511433.584821</td>\n      <td>53.702874</td>\n      <td>-51.914341</td>\n      <td>-0.448713</td>\n      <td>82.689104</td>\n      <td>60.035647</td>\n      <td>19.595101</td>\n      <td>7302.126106</td>\n      <td>1.007732</td>\n      <td>7309.46634</td>\n      <td>7309.5</td>\n    </tr>\n    <tr>\n      <th>...</th>\n      <td>...</td>\n      <td>...</td>\n      <td>...</td>\n      <td>...</td>\n      <td>...</td>\n      <td>...</td>\n      <td>...</td>\n      <td>...</td>\n      <td>...</td>\n      <td>...</td>\n      <td>...</td>\n      <td>...</td>\n      <td>...</td>\n      <td>...</td>\n      <td>...</td>\n      <td>...</td>\n      <td>...</td>\n      <td>...</td>\n      <td>...</td>\n    </tr>\n    <tr>\n      <th>2020-01-07 23:10:00</th>\n      <td>8042.26</td>\n      <td>8080.54</td>\n      <td>8040.80</td>\n      <td>8066.41</td>\n      <td>458.817809</td>\n      <td>3699697.185584</td>\n      <td>4886</td>\n      <td>245.031574</td>\n      <td>1975469.708868</td>\n      <td>53.404983</td>\n      <td>70.100041</td>\n      <td>-3.843946</td>\n      <td>10.480641</td>\n      <td>41.901578</td>\n      <td>26.188374</td>\n      <td>8063.543117</td>\n      <td>29.024274</td>\n      <td>8047.747718</td>\n      <td>8042.26</td>\n    </tr>\n    <tr>\n      <th>2020-01-07 23:20:00</th>\n      <td>8066.72</td>\n      <td>8082.33</td>\n      <td>8065.17</td>\n      <td>8078.61</td>\n      <td>242.486847</td>\n      <td>1957859.392795</td>\n      <td>3268</td>\n      <td>116.949477</td>\n      <td>944280.590955</td>\n      <td>48.229204</td>\n      <td>-47.149644</td>\n      <td>0.421437</td>\n      <td>4.401325</td>\n      <td>37.697291</td>\n      <td>23.560706</td>\n      <td>8074.084912</td>\n      <td>13.073404</td>\n      <td>8125.094296</td>\n      <td>8066.72</td>\n    </tr>\n    <tr>\n      <th>2020-01-07 23:30:00</th>\n      <td>8078.0</td>\n      <td>8150.57</td>\n      <td>8078.00</td>\n      <td>8135.0</td>\n      <td>787.688054</td>\n      <td>6389870.063615</td>\n      <td>7012</td>\n      <td>465.850505</td>\n      <td>3778540.045392</td>\n      <td>59.141497</td>\n      <td>224.837435</td>\n      <td>-3.41288</td>\n      <td>11.558162</td>\n      <td>19.718729</td>\n      <td>11.415279</td>\n      <td>8112.183537</td>\n      <td>47.186306</td>\n      <td>8079.294288</td>\n      <td>8078.0</td>\n    </tr>\n    <tr>\n      <th>2020-01-07 23:40:00</th>\n      <td>8135.22</td>\n      <td>8207.68</td>\n      <td>8122.84</td>\n      <td>8171.74</td>\n      <td>1503.897763</td>\n      <td>12291193.941555</td>\n      <td>12266</td>\n      <td>877.420526</td>\n      <td>7172993.879398</td>\n      <td>58.343097</td>\n      <td>90.925552</td>\n      <td>6.493125</td>\n      <td>18.736315</td>\n      <td>12.459266</td>\n      <td>7.42608</td>\n      <td>8172.891964</td>\n      <td>74.836112</td>\n      <td>8148.784292</td>\n      <td>8135.22</td>\n    </tr>\n    <tr>\n      <th>2020-01-07 23:50:00</th>\n      <td>8172.02</td>\n      <td>8180.78</td>\n      <td>8131.70</td>\n      <td>8145.28</td>\n      <td>720.770474</td>\n      <td>5881181.284828</td>\n      <td>6340</td>\n      <td>315.77526</td>\n      <td>2576787.586417</td>\n      <td>43.810793</td>\n      <td>-52.073173</td>\n      <td>1.347822</td>\n      <td>33.372553</td>\n      <td>21.632115</td>\n      <td>12.893361</td>\n      <td>8159.575755</td>\n      <td>-16.293141</td>\n      <td>8171.606417</td>\n      <td>8172.02</td>\n    </tr>\n  </tbody>\n</table>\n<p>576 rows × 19 columns</p>\n</div>"
     },
     "execution_count": 10,
     "metadata": {},
     "output_type": "execute_result"
    }
   ],
   "source": [
    "indices = (df['Measurement'] - df['Weighted Price Average']).dropna().index\n",
    "\n",
    "print(\n",
    "    (df.loc[indices, 'Measurement'] - df.loc[indices, 'Weighted Price Average']).var(),\n",
    "    (df.loc[indices, 'Prediction'] - df.loc[indices, 'Weighted Price Average']).var(),\n",
    "    (df.shift(1).loc[indices, 'Weighted Price Average'] - df.loc[indices, 'Weighted Price Average']).var()\n",
    ")\n",
    "\n",
    "df.loc[indices]"
   ],
   "metadata": {
    "collapsed": false,
    "pycharm": {
     "name": "#%%\n"
    }
   }
  },
  {
   "cell_type": "code",
   "execution_count": 116,
   "outputs": [
    {
     "data": {
      "text/plain": "         0         1         2         3         4        5         6   \\\n0  0.053919  0.116053 -0.024767 -0.128096 -0.027949 -0.08625  0.240047   \n\n         7         8        9   ...        50        51        52        53  \\\n0 -0.161918 -0.062895  0.07192  ...  0.052092 -0.143212 -0.024265  0.118672   \n\n         54        55        56        57        58        59  \n0 -0.112394  0.102904 -0.039609  0.040958  0.189687 -0.184956  \n\n[1 rows x 60 columns]",
      "text/html": "<div>\n<style scoped>\n    .dataframe tbody tr th:only-of-type {\n        vertical-align: middle;\n    }\n\n    .dataframe tbody tr th {\n        vertical-align: top;\n    }\n\n    .dataframe thead th {\n        text-align: right;\n    }\n</style>\n<table border=\"1\" class=\"dataframe\">\n  <thead>\n    <tr style=\"text-align: right;\">\n      <th></th>\n      <th>0</th>\n      <th>1</th>\n      <th>2</th>\n      <th>3</th>\n      <th>4</th>\n      <th>5</th>\n      <th>6</th>\n      <th>7</th>\n      <th>8</th>\n      <th>9</th>\n      <th>...</th>\n      <th>50</th>\n      <th>51</th>\n      <th>52</th>\n      <th>53</th>\n      <th>54</th>\n      <th>55</th>\n      <th>56</th>\n      <th>57</th>\n      <th>58</th>\n      <th>59</th>\n    </tr>\n  </thead>\n  <tbody>\n    <tr>\n      <th>0</th>\n      <td>0.053919</td>\n      <td>0.116053</td>\n      <td>-0.024767</td>\n      <td>-0.128096</td>\n      <td>-0.027949</td>\n      <td>-0.08625</td>\n      <td>0.240047</td>\n      <td>-0.161918</td>\n      <td>-0.062895</td>\n      <td>0.07192</td>\n      <td>...</td>\n      <td>0.052092</td>\n      <td>-0.143212</td>\n      <td>-0.024265</td>\n      <td>0.118672</td>\n      <td>-0.112394</td>\n      <td>0.102904</td>\n      <td>-0.039609</td>\n      <td>0.040958</td>\n      <td>0.189687</td>\n      <td>-0.184956</td>\n    </tr>\n  </tbody>\n</table>\n<p>1 rows × 60 columns</p>\n</div>"
     },
     "execution_count": 116,
     "metadata": {},
     "output_type": "execute_result"
    }
   ],
   "source": [
    "THETA = pd.DataFrame(THETA)#, index=indices)\n",
    "THETA"
   ],
   "metadata": {
    "collapsed": false,
    "pycharm": {
     "name": "#%%\n"
    }
   }
  },
  {
   "cell_type": "code",
   "execution_count": 117,
   "outputs": [
    {
     "data": {
      "text/plain": "<Figure size 432x288 with 2 Axes>",
      "image/png": "[encoded data removed]"
     },
     "metadata": {
      "needs_background": "light"
     },
     "output_type": "display_data"
    }
   ],
   "source": [
    "%matplotlib inline\n",
    "\n",
    "import seaborn as sns\n",
    "sns.heatmap(THETA)\n",
    "plt.show()"
   ],
   "metadata": {
    "collapsed": false,
    "pycharm": {
     "name": "#%%\n"
    }
   }
  },
  {
   "cell_type": "code",
   "execution_count": 13,
   "outputs": [
    {
     "data": {
      "text/plain": "                        Open     High      Low    Close       Volume  \\\n2020-01-04 00:00:00   7345.0  7350.00  7320.58  7330.83   418.917101   \n2020-01-04 00:10:00  7330.83  7331.29  7315.72  7316.78   164.888036   \n2020-01-04 00:20:00  7316.58  7323.97  7309.38  7316.39    129.53026   \n2020-01-04 00:30:00  7316.97  7317.00  7289.98   7309.5   271.228827   \n2020-01-04 00:40:00   7309.5  7311.27  7290.80  7300.37   130.422169   \n...                      ...      ...      ...      ...          ...   \n2020-01-07 23:10:00  8042.26  8080.54  8040.80  8066.41   458.817809   \n2020-01-07 23:20:00  8066.72  8082.33  8065.17  8078.61   242.486847   \n2020-01-07 23:30:00   8078.0  8150.57  8078.00   8135.0   787.688054   \n2020-01-07 23:40:00  8135.22  8207.68  8122.84  8171.74  1503.897763   \n2020-01-07 23:50:00  8172.02  8180.78  8131.70  8145.28   720.770474   \n\n                               Value No. Trades Taker Buy Volume  \\\n2020-01-04 00:00:00   3074573.290919       3731       237.725142   \n2020-01-04 00:10:00   1207308.260648       2024        81.797801   \n2020-01-04 00:20:00    947827.639843       1517        65.816654   \n2020-01-04 00:30:00   1980347.532591       2655       132.694839   \n2020-01-04 00:40:00    952359.125111       1502        70.040453   \n...                              ...        ...              ...   \n2020-01-07 23:10:00   3699697.185584       4886       245.031574   \n2020-01-07 23:20:00   1957859.392795       3268       116.949477   \n2020-01-07 23:30:00   6389870.063615       7012       465.850505   \n2020-01-07 23:40:00  12291193.941555      12266       877.420526   \n2020-01-07 23:50:00   5881181.284828       6340        315.77526   \n\n                    Taker Buy Value  Feature 1  ...  Real Return   Prediction  \\\n2020-01-04 00:00:00  1744694.439191  56.747538  ...    16.422020  7347.756081   \n2020-01-04 00:10:00   598915.347786  49.608087  ...   -23.636462  7343.780819   \n2020-01-04 00:20:00    481649.50508  50.811798  ...    -6.235648  7296.818844   \n2020-01-04 00:30:00   969073.185792  48.923575  ...   -21.909606  7314.828266   \n2020-01-04 00:40:00   511433.584821  53.702874  ...     1.007732   7309.46634   \n...                             ...        ...  ...          ...          ...   \n2020-01-07 23:10:00  1975469.708868  53.404983  ...    29.024274  8047.747718   \n2020-01-07 23:20:00   944280.590955  48.229204  ...    13.073404  8125.094296   \n2020-01-07 23:30:00  3778540.045392  59.141497  ...    47.186306  8079.294288   \n2020-01-07 23:40:00  7172993.879398  58.343097  ...    74.836112  8148.784292   \n2020-01-07 23:50:00  2576787.586417  43.810793  ...   -16.293141  8171.606417   \n\n                    Measurement Measurement Residual Prediction Residual  \\\n2020-01-04 00:00:00      7345.0             5.664166            8.420247   \n2020-01-04 00:10:00     7330.83             8.841759           21.792578   \n2020-01-04 00:20:00     7316.58            -0.842507          -20.603663   \n2020-01-04 00:30:00     7316.97            15.579678           13.437943   \n2020-01-04 00:40:00      7309.5             7.373894            7.340234   \n...                         ...                  ...                 ...   \n2020-01-07 23:10:00     8042.26           -21.283117          -15.795399   \n2020-01-07 23:20:00     8066.72            -7.364912           51.009384   \n2020-01-07 23:30:00      8078.0           -34.183537          -32.889248   \n2020-01-07 23:40:00     8135.22           -37.671964          -24.107672   \n2020-01-07 23:50:00     8172.02            12.444245           12.030661   \n\n                    Measurement Residual Weighted Variance  \\\n2020-01-04 00:00:00                                    NaN   \n2020-01-04 00:10:00                                    NaN   \n2020-01-04 00:20:00                                    NaN   \n2020-01-04 00:30:00                                    NaN   \n2020-01-04 00:40:00                                    NaN   \n...                                                    ...   \n2020-01-07 23:10:00                             447.789899   \n2020-01-07 23:20:00                             415.953939   \n2020-01-07 23:30:00                             510.200855   \n2020-01-07 23:40:00                             593.036108   \n2020-01-07 23:50:00                             477.124160   \n\n                     Prediction Residual Weighted Variance Kalman Gain  \\\n2020-01-04 00:00:00                                    NaN         NaN   \n2020-01-04 00:10:00                                    NaN         NaN   \n2020-01-04 00:20:00                                    NaN         NaN   \n2020-01-04 00:30:00                                    NaN         NaN   \n2020-01-04 00:40:00                                    NaN         NaN   \n...                                                    ...         ...   \n2020-01-07 23:10:00                            4167.936517    0.902986   \n2020-01-07 23:20:00                            2760.304970    0.869043   \n2020-01-07 23:30:00                            2431.515391    0.826564   \n2020-01-07 23:40:00                            1479.582776    0.713871   \n2020-01-07 23:50:00                            1047.811621    0.687119   \n\n                        Estimate Estimate Uncertainty  \n2020-01-04 00:00:00          NaN                  NaN  \n2020-01-04 00:10:00          NaN                  NaN  \n2020-01-04 00:20:00          NaN                  NaN  \n2020-01-04 00:30:00          NaN                  NaN  \n2020-01-04 00:40:00          NaN                  NaN  \n...                          ...                  ...  \n2020-01-07 23:10:00  8042.792385           404.348027  \n2020-01-07 23:20:00  8074.364534           361.481780  \n2020-01-07 23:30:00  8078.224477           421.713424  \n2020-01-07 23:40:00  8139.101136           423.351354  \n2020-01-07 23:50:00  8171.890597           327.840848  \n\n[576 rows x 26 columns]",
      "text/html": "<div>\n<style scoped>\n    .dataframe tbody tr th:only-of-type {\n        vertical-align: middle;\n    }\n\n    .dataframe tbody tr th {\n        vertical-align: top;\n    }\n\n    .dataframe thead th {\n        text-align: right;\n    }\n</style>\n<table border=\"1\" class=\"dataframe\">\n  <thead>\n    <tr style=\"text-align: right;\">\n      <th></th>\n      <th>Open</th>\n      <th>High</th>\n      <th>Low</th>\n      <th>Close</th>\n      <th>Volume</th>\n      <th>Value</th>\n      <th>No. Trades</th>\n      <th>Taker Buy Volume</th>\n      <th>Taker Buy Value</th>\n      <th>Feature 1</th>\n      <th>...</th>\n      <th>Real Return</th>\n      <th>Prediction</th>\n      <th>Measurement</th>\n      <th>Measurement Residual</th>\n      <th>Prediction Residual</th>\n      <th>Measurement Residual Weighted Variance</th>\n      <th>Prediction Residual Weighted Variance</th>\n      <th>Kalman Gain</th>\n      <th>Estimate</th>\n      <th>Estimate Uncertainty</th>\n    </tr>\n  </thead>\n  <tbody>\n    <tr>\n      <th>2020-01-04 00:00:00</th>\n      <td>7345.0</td>\n      <td>7350.00</td>\n      <td>7320.58</td>\n      <td>7330.83</td>\n      <td>418.917101</td>\n      <td>3074573.290919</td>\n      <td>3731</td>\n      <td>237.725142</td>\n      <td>1744694.439191</td>\n      <td>56.747538</td>\n      <td>...</td>\n      <td>16.422020</td>\n      <td>7347.756081</td>\n      <td>7345.0</td>\n      <td>5.664166</td>\n      <td>8.420247</td>\n      <td>NaN</td>\n      <td>NaN</td>\n      <td>NaN</td>\n      <td>NaN</td>\n      <td>NaN</td>\n    </tr>\n    <tr>\n      <th>2020-01-04 00:10:00</th>\n      <td>7330.83</td>\n      <td>7331.29</td>\n      <td>7315.72</td>\n      <td>7316.78</td>\n      <td>164.888036</td>\n      <td>1207308.260648</td>\n      <td>2024</td>\n      <td>81.797801</td>\n      <td>598915.347786</td>\n      <td>49.608087</td>\n      <td>...</td>\n      <td>-23.636462</td>\n      <td>7343.780819</td>\n      <td>7330.83</td>\n      <td>8.841759</td>\n      <td>21.792578</td>\n      <td>NaN</td>\n      <td>NaN</td>\n      <td>NaN</td>\n      <td>NaN</td>\n      <td>NaN</td>\n    </tr>\n    <tr>\n      <th>2020-01-04 00:20:00</th>\n      <td>7316.58</td>\n      <td>7323.97</td>\n      <td>7309.38</td>\n      <td>7316.39</td>\n      <td>129.53026</td>\n      <td>947827.639843</td>\n      <td>1517</td>\n      <td>65.816654</td>\n      <td>481649.50508</td>\n      <td>50.811798</td>\n      <td>...</td>\n      <td>-6.235648</td>\n      <td>7296.818844</td>\n      <td>7316.58</td>\n      <td>-0.842507</td>\n      <td>-20.603663</td>\n      <td>NaN</td>\n      <td>NaN</td>\n      <td>NaN</td>\n      <td>NaN</td>\n      <td>NaN</td>\n    </tr>\n    <tr>\n      <th>2020-01-04 00:30:00</th>\n      <td>7316.97</td>\n      <td>7317.00</td>\n      <td>7289.98</td>\n      <td>7309.5</td>\n      <td>271.228827</td>\n      <td>1980347.532591</td>\n      <td>2655</td>\n      <td>132.694839</td>\n      <td>969073.185792</td>\n      <td>48.923575</td>\n      <td>...</td>\n      <td>-21.909606</td>\n      <td>7314.828266</td>\n      <td>7316.97</td>\n      <td>15.579678</td>\n      <td>13.437943</td>\n      <td>NaN</td>\n      <td>NaN</td>\n      <td>NaN</td>\n      <td>NaN</td>\n      <td>NaN</td>\n    </tr>\n    <tr>\n      <th>2020-01-04 00:40:00</th>\n      <td>7309.5</td>\n      <td>7311.27</td>\n      <td>7290.80</td>\n      <td>7300.37</td>\n      <td>130.422169</td>\n      <td>952359.125111</td>\n      <td>1502</td>\n      <td>70.040453</td>\n      <td>511433.584821</td>\n      <td>53.702874</td>\n      <td>...</td>\n      <td>1.007732</td>\n      <td>7309.46634</td>\n      <td>7309.5</td>\n      <td>7.373894</td>\n      <td>7.340234</td>\n      <td>NaN</td>\n      <td>NaN</td>\n      <td>NaN</td>\n      <td>NaN</td>\n      <td>NaN</td>\n    </tr>\n    <tr>\n      <th>...</th>\n      <td>...</td>\n      <td>...</td>\n      <td>...</td>\n      <td>...</td>\n      <td>...</td>\n      <td>...</td>\n      <td>...</td>\n      <td>...</td>\n      <td>...</td>\n      <td>...</td>\n      <td>...</td>\n      <td>...</td>\n      <td>...</td>\n      <td>...</td>\n      <td>...</td>\n      <td>...</td>\n      <td>...</td>\n      <td>...</td>\n      <td>...</td>\n      <td>...</td>\n      <td>...</td>\n    </tr>\n    <tr>\n      <th>2020-01-07 23:10:00</th>\n      <td>8042.26</td>\n      <td>8080.54</td>\n      <td>8040.80</td>\n      <td>8066.41</td>\n      <td>458.817809</td>\n      <td>3699697.185584</td>\n      <td>4886</td>\n      <td>245.031574</td>\n      <td>1975469.708868</td>\n      <td>53.404983</td>\n      <td>...</td>\n      <td>29.024274</td>\n      <td>8047.747718</td>\n      <td>8042.26</td>\n      <td>-21.283117</td>\n      <td>-15.795399</td>\n      <td>447.789899</td>\n      <td>4167.936517</td>\n      <td>0.902986</td>\n      <td>8042.792385</td>\n      <td>404.348027</td>\n    </tr>\n    <tr>\n      <th>2020-01-07 23:20:00</th>\n      <td>8066.72</td>\n      <td>8082.33</td>\n      <td>8065.17</td>\n      <td>8078.61</td>\n      <td>242.486847</td>\n      <td>1957859.392795</td>\n      <td>3268</td>\n      <td>116.949477</td>\n      <td>944280.590955</td>\n      <td>48.229204</td>\n      <td>...</td>\n      <td>13.073404</td>\n      <td>8125.094296</td>\n      <td>8066.72</td>\n      <td>-7.364912</td>\n      <td>51.009384</td>\n      <td>415.953939</td>\n      <td>2760.304970</td>\n      <td>0.869043</td>\n      <td>8074.364534</td>\n      <td>361.481780</td>\n    </tr>\n    <tr>\n      <th>2020-01-07 23:30:00</th>\n      <td>8078.0</td>\n      <td>8150.57</td>\n      <td>8078.00</td>\n      <td>8135.0</td>\n      <td>787.688054</td>\n      <td>6389870.063615</td>\n      <td>7012</td>\n      <td>465.850505</td>\n      <td>3778540.045392</td>\n      <td>59.141497</td>\n      <td>...</td>\n      <td>47.186306</td>\n      <td>8079.294288</td>\n      <td>8078.0</td>\n      <td>-34.183537</td>\n      <td>-32.889248</td>\n      <td>510.200855</td>\n      <td>2431.515391</td>\n      <td>0.826564</td>\n      <td>8078.224477</td>\n      <td>421.713424</td>\n    </tr>\n    <tr>\n      <th>2020-01-07 23:40:00</th>\n      <td>8135.22</td>\n      <td>8207.68</td>\n      <td>8122.84</td>\n      <td>8171.74</td>\n      <td>1503.897763</td>\n      <td>12291193.941555</td>\n      <td>12266</td>\n      <td>877.420526</td>\n      <td>7172993.879398</td>\n      <td>58.343097</td>\n      <td>...</td>\n      <td>74.836112</td>\n      <td>8148.784292</td>\n      <td>8135.22</td>\n      <td>-37.671964</td>\n      <td>-24.107672</td>\n      <td>593.036108</td>\n      <td>1479.582776</td>\n      <td>0.713871</td>\n      <td>8139.101136</td>\n      <td>423.351354</td>\n    </tr>\n    <tr>\n      <th>2020-01-07 23:50:00</th>\n      <td>8172.02</td>\n      <td>8180.78</td>\n      <td>8131.70</td>\n      <td>8145.28</td>\n      <td>720.770474</td>\n      <td>5881181.284828</td>\n      <td>6340</td>\n      <td>315.77526</td>\n      <td>2576787.586417</td>\n      <td>43.810793</td>\n      <td>...</td>\n      <td>-16.293141</td>\n      <td>8171.606417</td>\n      <td>8172.02</td>\n      <td>12.444245</td>\n      <td>12.030661</td>\n      <td>477.124160</td>\n      <td>1047.811621</td>\n      <td>0.687119</td>\n      <td>8171.890597</td>\n      <td>327.840848</td>\n    </tr>\n  </tbody>\n</table>\n<p>576 rows × 26 columns</p>\n</div>"
     },
     "execution_count": 13,
     "metadata": {},
     "output_type": "execute_result"
    }
   ],
   "source": [
    "df['Measurement Residual'] = df['Measurement'] - df['Weighted Price Average']\n",
    "df['Prediction Residual'] = df['Prediction'] - df['Weighted Price Average']\n",
    "df['Measurement Residual Weighted Variance'] = df['Measurement Residual'].rolling(12).var()\n",
    "df['Prediction Residual Weighted Variance'] = df['Prediction Residual'].rolling(6).var()\n",
    "df['Kalman Gain'] = df['Prediction Residual Weighted Variance'] / \\\n",
    "                    (df['Measurement Residual Weighted Variance'] + df['Prediction Residual Weighted Variance'])\n",
    "df['Estimate'] = df['Kalman Gain'] * df['Measurement'] + (1 - df['Kalman Gain']) * df['Prediction']\n",
    "df['Estimate Uncertainty'] = df['Kalman Gain'] ** 2 * df['Measurement Residual Weighted Variance'] + \\\n",
    "                             (1 - df['Kalman Gain']) ** 2 * df['Prediction Residual Weighted Variance']\n",
    "df.loc[indices]"
   ],
   "metadata": {
    "collapsed": false,
    "pycharm": {
     "name": "#%%\n"
    }
   }
  },
  {
   "cell_type": "code",
   "execution_count": 14,
   "outputs": [
    {
     "data": {
      "text/plain": "<IPython.core.display.Javascript object>",
      "application/javascript": "/* Put everything inside the global mpl namespace */\n/* global mpl */\nwindow.mpl = {};\n\nmpl.get_websocket_type = function () {\n    if (typeof WebSocket !== 'undefined') {\n        return WebSocket;\n    } else if (typeof MozWebSocket !== 'undefined') {\n        return MozWebSocket;\n    } else {\n        alert(\n            'Your browser does not have WebSocket support. ' +\n                'Please try Chrome, Safari or Firefox ≥ 6. ' +\n                'Firefox 4 and 5 are also supported but you ' +\n                'have to enable WebSockets in about:config.'\n        );\n    }\n};\n\nmpl.figure = function (figure_id, websocket, ondownload, parent_element) {\n    this.id = figure_id;\n\n    this.ws = websocket;\n\n    this.supports_binary = this.ws.binaryType !== undefined;\n\n    if (!this.supports_binary) {\n        var warnings = document.getElementById('mpl-warnings');\n        if (warnings) {\n            warnings.style.display = 'block';\n            warnings.textContent =\n                'This browser does not support binary websocket messages. ' +\n                'Performance may be slow.';\n        }\n    }\n\n    this.imageObj = new Image();\n\n    this.context = undefined;\n    this.message = undefined;\n    this.canvas = undefined;\n    this.rubberband_canvas = undefined;\n    this.rubberband_context = undefined;\n    this.format_dropdown = undefined;\n\n    this.image_mode = 'full';\n\n    this.root = document.createElement('div');\n    this.root.setAttribute('style', 'display: inline-block');\n    this._root_extra_style(this.root);\n\n    parent_element.appendChild(this.root);\n\n    this._init_header(this);\n    this._init_canvas(this);\n    this._init_toolbar(this);\n\n    var fig = this;\n\n    this.waiting = false;\n\n    this.ws.onopen = function () {\n        fig.send_message('supports_binary', { value: fig.supports_binary });\n        fig.send_message('send_image_mode', {});\n        if (fig.ratio !== 1) {\n            fig.send_message('set_device_pixel_ratio', {\n                device_pixel_ratio: fig.ratio,\n            });\n        }\n        fig.send_message('refresh', {});\n    };\n\n    this.imageObj.onload = function () {\n        if (fig.image_mode === 'full') {\n            // Full images could contain transparency (where diff images\n            // almost always do), so we need to clear the canvas so that\n            // there is no ghosting.\n            fig.context.clearRect(0, 0, fig.canvas.width, fig.canvas.height);\n        }\n        fig.context.drawImage(fig.imageObj, 0, 0);\n    };\n\n    this.imageObj.onunload = function () {\n        fig.ws.close();\n    };\n\n    this.ws.onmessage = this._make_on_message_function(this);\n\n    this.ondownload = ondownload;\n};\n\nmpl.figure.prototype._init_header = function () {\n    var titlebar = document.createElement('div');\n    titlebar.classList =\n        'ui-dialog-titlebar ui-widget-header ui-corner-all ui-helper-clearfix';\n    var titletext = document.createElement('div');\n    titletext.classList = 'ui-dialog-title';\n    titletext.setAttribute(\n        'style',\n        'width: 100%; text-align: center; padding: 3px;'\n    );\n    titlebar.appendChild(titletext);\n    this.root.appendChild(titlebar);\n    this.header = titletext;\n};\n\nmpl.figure.prototype._canvas_extra_style = function (_canvas_div) {};\n\nmpl.figure.prototype._root_extra_style = function (_canvas_div) {};\n\nmpl.figure.prototype._init_canvas = function () {\n    var fig = this;\n\n    var canvas_div = (this.canvas_div = document.createElement('div'));\n    canvas_div.setAttribute(\n        'style',\n        'border: 1px solid #ddd;' +\n            'box-sizing: content-box;' +\n            'clear: both;' +\n            'min-height: 1px;' +\n            'min-width: 1px;' +\n            'outline: 0;' +\n            'overflow: hidden;' +\n            'position: relative;' +\n            'resize: both;'\n    );\n\n    function on_keyboard_event_closure(name) {\n        return function (event) {\n            return fig.key_event(event, name);\n        };\n    }\n\n    canvas_div.addEventListener(\n        'keydown',\n        on_keyboard_event_closure('key_press')\n    );\n    canvas_div.addEventListener(\n        'keyup',\n        on_keyboard_event_closure('key_release')\n    );\n\n    this._canvas_extra_style(canvas_div);\n    this.root.appendChild(canvas_div);\n\n    var canvas = (this.canvas = document.createElement('canvas'));\n    canvas.classList.add('mpl-canvas');\n    canvas.setAttribute('style', 'box-sizing: content-box;');\n\n    this.context = canvas.getContext('2d');\n\n    var backingStore =\n        this.context.backingStorePixelRatio ||\n        this.context.webkitBackingStorePixelRatio ||\n        this.context.mozBackingStorePixelRatio ||\n        this.context.msBackingStorePixelRatio ||\n        this.context.oBackingStorePixelRatio ||\n        this.context.backingStorePixelRatio ||\n        1;\n\n    this.ratio = (window.devicePixelRatio || 1) / backingStore;\n\n    var rubberband_canvas = (this.rubberband_canvas = document.createElement(\n        'canvas'\n    ));\n    rubberband_canvas.setAttribute(\n        'style',\n        'box-sizing: content-box; position: absolute; left: 0; top: 0; z-index: 1;'\n    );\n\n    // Apply a ponyfill if ResizeObserver is not implemented by browser.\n    if (this.ResizeObserver === undefined) {\n        if (window.ResizeObserver !== undefined) {\n            this.ResizeObserver = window.ResizeObserver;\n        } else {\n            var obs = _JSXTOOLS_RESIZE_OBSERVER({});\n            this.ResizeObserver = obs.ResizeObserver;\n        }\n    }\n\n    this.resizeObserverInstance = new this.ResizeObserver(function (entries) {\n        var nentries = entries.length;\n        for (var i = 0; i < nentries; i++) {\n            var entry = entries[i];\n            var width, height;\n            if (entry.contentBoxSize) {\n                if (entry.contentBoxSize instanceof Array) {\n                    // Chrome 84 implements new version of spec.\n                    width = entry.contentBoxSize[0].inlineSize;\n                    height = entry.contentBoxSize[0].blockSize;\n                } else {\n                    // Firefox implements old version of spec.\n                    width = entry.contentBoxSize.inlineSize;\n                    height = entry.contentBoxSize.blockSize;\n                }\n            } else {\n                // Chrome <84 implements even older version of spec.\n                width = entry.contentRect.width;\n                height = entry.contentRect.height;\n            }\n\n            // Keep the size of the canvas and rubber band canvas in sync with\n            // the canvas container.\n            if (entry.devicePixelContentBoxSize) {\n                // Chrome 84 implements new version of spec.\n                canvas.setAttribute(\n                    'width',\n                    entry.devicePixelContentBoxSize[0].inlineSize\n                );\n                canvas.setAttribute(\n                    'height',\n                    entry.devicePixelContentBoxSize[0].blockSize\n                );\n            } else {\n                canvas.setAttribute('width', width * fig.ratio);\n                canvas.setAttribute('height', height * fig.ratio);\n            }\n            canvas.setAttribute(\n                'style',\n                'width: ' + width + 'px; height: ' + height + 'px;'\n            );\n\n            rubberband_canvas.setAttribute('width', width);\n            rubberband_canvas.setAttribute('height', height);\n\n            // And update the size in Python. We ignore the initial 0/0 size\n            // that occurs as the element is placed into the DOM, which should\n            // otherwise not happen due to the minimum size styling.\n            if (fig.ws.readyState == 1 && width != 0 && height != 0) {\n                fig.request_resize(width, height);\n            }\n        }\n    });\n    this.resizeObserverInstance.observe(canvas_div);\n\n    function on_mouse_event_closure(name) {\n        return function (event) {\n            return fig.mouse_event(event, name);\n        };\n    }\n\n    rubberband_canvas.addEventListener(\n        'mousedown',\n        on_mouse_event_closure('button_press')\n    );\n    rubberband_canvas.addEventListener(\n        'mouseup',\n        on_mouse_event_closure('button_release')\n    );\n    rubberband_canvas.addEventListener(\n        'dblclick',\n        on_mouse_event_closure('dblclick')\n    );\n    // Throttle sequential mouse events to 1 every 20ms.\n    rubberband_canvas.addEventListener(\n        'mousemove',\n        on_mouse_event_closure('motion_notify')\n    );\n\n    rubberband_canvas.addEventListener(\n        'mouseenter',\n        on_mouse_event_closure('figure_enter')\n    );\n    rubberband_canvas.addEventListener(\n        'mouseleave',\n        on_mouse_event_closure('figure_leave')\n    );\n\n    canvas_div.addEventListener('wheel', function (event) {\n        if (event.deltaY < 0) {\n            event.step = 1;\n        } else {\n            event.step = -1;\n        }\n        on_mouse_event_closure('scroll')(event);\n    });\n\n    canvas_div.appendChild(canvas);\n    canvas_div.appendChild(rubberband_canvas);\n\n    this.rubberband_context = rubberband_canvas.getContext('2d');\n    this.rubberband_context.strokeStyle = '#000000';\n\n    this._resize_canvas = function (width, height, forward) {\n        if (forward) {\n            canvas_div.style.width = width + 'px';\n            canvas_div.style.height = height + 'px';\n        }\n    };\n\n    // Disable right mouse context menu.\n    this.rubberband_canvas.addEventListener('contextmenu', function (_e) {\n        event.preventDefault();\n        return false;\n    });\n\n    function set_focus() {\n        canvas.focus();\n        canvas_div.focus();\n    }\n\n    window.setTimeout(set_focus, 100);\n};\n\nmpl.figure.prototype._init_toolbar = function () {\n    var fig = this;\n\n    var toolbar = document.createElement('div');\n    toolbar.classList = 'mpl-toolbar';\n    this.root.appendChild(toolbar);\n\n    function on_click_closure(name) {\n        return function (_event) {\n            return fig.toolbar_button_onclick(name);\n        };\n    }\n\n    function on_mouseover_closure(tooltip) {\n        return function (event) {\n            if (!event.currentTarget.disabled) {\n                return fig.toolbar_button_onmouseover(tooltip);\n            }\n        };\n    }\n\n    fig.buttons = {};\n    var buttonGroup = document.createElement('div');\n    buttonGroup.classList = 'mpl-button-group';\n    for (var toolbar_ind in mpl.toolbar_items) {\n        var name = mpl.toolbar_items[toolbar_ind][0];\n        var tooltip = mpl.toolbar_items[toolbar_ind][1];\n        var image = mpl.toolbar_items[toolbar_ind][2];\n        var method_name = mpl.toolbar_items[toolbar_ind][3];\n\n        if (!name) {\n            /* Instead of a spacer, we start a new button group. */\n            if (buttonGroup.hasChildNodes()) {\n                toolbar.appendChild(buttonGroup);\n            }\n            buttonGroup = document.createElement('div');\n            buttonGroup.classList = 'mpl-button-group';\n            continue;\n        }\n\n        var button = (fig.buttons[name] = document.createElement('button'));\n        button.classList = 'mpl-widget';\n        button.setAttribute('role', 'button');\n        button.setAttribute('aria-disabled', 'false');\n        button.addEventListener('click', on_click_closure(method_name));\n        button.addEventListener('mouseover', on_mouseover_closure(tooltip));\n\n        var icon_img = document.createElement('img');\n        icon_img.src = '_images/' + image + '.png';\n        icon_img.srcset = '_images/' + image + '_large.png 2x';\n        icon_img.alt = tooltip;\n        button.appendChild(icon_img);\n\n        buttonGroup.appendChild(button);\n    }\n\n    if (buttonGroup.hasChildNodes()) {\n        toolbar.appendChild(buttonGroup);\n    }\n\n    var fmt_picker = document.createElement('select');\n    fmt_picker.classList = 'mpl-widget';\n    toolbar.appendChild(fmt_picker);\n    this.format_dropdown = fmt_picker;\n\n    for (var ind in mpl.extensions) {\n        var fmt = mpl.extensions[ind];\n        var option = document.createElement('option');\n        option.selected = fmt === mpl.default_extension;\n        option.innerHTML = fmt;\n        fmt_picker.appendChild(option);\n    }\n\n    var status_bar = document.createElement('span');\n    status_bar.classList = 'mpl-message';\n    toolbar.appendChild(status_bar);\n    this.message = status_bar;\n};\n\nmpl.figure.prototype.request_resize = function (x_pixels, y_pixels) {\n    // Request matplotlib to resize the figure. Matplotlib will then trigger a resize in the client,\n    // which will in turn request a refresh of the image.\n    this.send_message('resize', { width: x_pixels, height: y_pixels });\n};\n\nmpl.figure.prototype.send_message = function (type, properties) {\n    properties['type'] = type;\n    properties['figure_id'] = this.id;\n    this.ws.send(JSON.stringify(properties));\n};\n\nmpl.figure.prototype.send_draw_message = function () {\n    if (!this.waiting) {\n        this.waiting = true;\n        this.ws.send(JSON.stringify({ type: 'draw', figure_id: this.id }));\n    }\n};\n\nmpl.figure.prototype.handle_save = function (fig, _msg) {\n    var format_dropdown = fig.format_dropdown;\n    var format = format_dropdown.options[format_dropdown.selectedIndex].value;\n    fig.ondownload(fig, format);\n};\n\nmpl.figure.prototype.handle_resize = function (fig, msg) {\n    var size = msg['size'];\n    if (size[0] !== fig.canvas.width || size[1] !== fig.canvas.height) {\n        fig._resize_canvas(size[0], size[1], msg['forward']);\n        fig.send_message('refresh', {});\n    }\n};\n\nmpl.figure.prototype.handle_rubberband = function (fig, msg) {\n    var x0 = msg['x0'] / fig.ratio;\n    var y0 = (fig.canvas.height - msg['y0']) / fig.ratio;\n    var x1 = msg['x1'] / fig.ratio;\n    var y1 = (fig.canvas.height - msg['y1']) / fig.ratio;\n    x0 = Math.floor(x0) + 0.5;\n    y0 = Math.floor(y0) + 0.5;\n    x1 = Math.floor(x1) + 0.5;\n    y1 = Math.floor(y1) + 0.5;\n    var min_x = Math.min(x0, x1);\n    var min_y = Math.min(y0, y1);\n    var width = Math.abs(x1 - x0);\n    var height = Math.abs(y1 - y0);\n\n    fig.rubberband_context.clearRect(\n        0,\n        0,\n        fig.canvas.width / fig.ratio,\n        fig.canvas.height / fig.ratio\n    );\n\n    fig.rubberband_context.strokeRect(min_x, min_y, width, height);\n};\n\nmpl.figure.prototype.handle_figure_label = function (fig, msg) {\n    // Updates the figure title.\n    fig.header.textContent = msg['label'];\n};\n\nmpl.figure.prototype.handle_cursor = function (fig, msg) {\n    fig.rubberband_canvas.style.cursor = msg['cursor'];\n};\n\nmpl.figure.prototype.handle_message = function (fig, msg) {\n    fig.message.textContent = msg['message'];\n};\n\nmpl.figure.prototype.handle_draw = function (fig, _msg) {\n    // Request the server to send over a new figure.\n    fig.send_draw_message();\n};\n\nmpl.figure.prototype.handle_image_mode = function (fig, msg) {\n    fig.image_mode = msg['mode'];\n};\n\nmpl.figure.prototype.handle_history_buttons = function (fig, msg) {\n    for (var key in msg) {\n        if (!(key in fig.buttons)) {\n            continue;\n        }\n        fig.buttons[key].disabled = !msg[key];\n        fig.buttons[key].setAttribute('aria-disabled', !msg[key]);\n    }\n};\n\nmpl.figure.prototype.handle_navigate_mode = function (fig, msg) {\n    if (msg['mode'] === 'PAN') {\n        fig.buttons['Pan'].classList.add('active');\n        fig.buttons['Zoom'].classList.remove('active');\n    } else if (msg['mode'] === 'ZOOM') {\n        fig.buttons['Pan'].classList.remove('active');\n        fig.buttons['Zoom'].classList.add('active');\n    } else {\n        fig.buttons['Pan'].classList.remove('active');\n        fig.buttons['Zoom'].classList.remove('active');\n    }\n};\n\nmpl.figure.prototype.updated_canvas_event = function () {\n    // Called whenever the canvas gets updated.\n    this.send_message('ack', {});\n};\n\n// A function to construct a web socket function for onmessage handling.\n// Called in the figure constructor.\nmpl.figure.prototype._make_on_message_function = function (fig) {\n    return function socket_on_message(evt) {\n        if (evt.data instanceof Blob) {\n            var img = evt.data;\n            if (img.type !== 'image/png') {\n                /* FIXME: We get \"Resource interpreted as Image but\n                 * transferred with MIME type text/plain:\" errors on\n                 * Chrome.  But how to set the MIME type?  It doesn't seem\n                 * to be part of the websocket stream */\n                img.type = 'image/png';\n            }\n\n            /* Free the memory for the previous frames */\n            if (fig.imageObj.src) {\n                (window.URL || window.webkitURL).revokeObjectURL(\n                    fig.imageObj.src\n                );\n            }\n\n            fig.imageObj.src = (window.URL || window.webkitURL).createObjectURL(\n                img\n            );\n            fig.updated_canvas_event();\n            fig.waiting = false;\n            return;\n        } else if (\n            typeof evt.data === 'string' &&\n            evt.data.slice(0, 21) === 'data:image/png;base64'\n        ) {\n            fig.imageObj.src = evt.data;\n            fig.updated_canvas_event();\n            fig.waiting = false;\n            return;\n        }\n\n        var msg = JSON.parse(evt.data);\n        var msg_type = msg['type'];\n\n        // Call the  \"handle_{type}\" callback, which takes\n        // the figure and JSON message as its only arguments.\n        try {\n            var callback = fig['handle_' + msg_type];\n        } catch (e) {\n            console.log(\n                \"No handler for the '\" + msg_type + \"' message type: \",\n                msg\n            );\n            return;\n        }\n\n        if (callback) {\n            try {\n                // console.log(\"Handling '\" + msg_type + \"' message: \", msg);\n                callback(fig, msg);\n            } catch (e) {\n                console.log(\n                    \"Exception inside the 'handler_\" + msg_type + \"' callback:\",\n                    e,\n                    e.stack,\n                    msg\n                );\n            }\n        }\n    };\n};\n\n// from https://stackoverflow.com/questions/1114465/getting-mouse-location-in-canvas\nmpl.findpos = function (e) {\n    //this section is from http://www.quirksmode.org/js/events_properties.html\n    var targ;\n    if (!e) {\n        e = window.event;\n    }\n    if (e.target) {\n        targ = e.target;\n    } else if (e.srcElement) {\n        targ = e.srcElement;\n    }\n    if (targ.nodeType === 3) {\n        // defeat Safari bug\n        targ = targ.parentNode;\n    }\n\n    // pageX,Y are the mouse positions relative to the document\n    var boundingRect = targ.getBoundingClientRect();\n    var x = e.pageX - (boundingRect.left + document.body.scrollLeft);\n    var y = e.pageY - (boundingRect.top + document.body.scrollTop);\n\n    return { x: x, y: y };\n};\n\n/*\n * return a copy of an object with only non-object keys\n * we need this to avoid circular references\n * https://stackoverflow.com/a/24161582/3208463\n */\nfunction simpleKeys(original) {\n    return Object.keys(original).reduce(function (obj, key) {\n        if (typeof original[key] !== 'object') {\n            obj[key] = original[key];\n        }\n        return obj;\n    }, {});\n}\n\nmpl.figure.prototype.mouse_event = function (event, name) {\n    var canvas_pos = mpl.findpos(event);\n\n    if (name === 'button_press') {\n        this.canvas.focus();\n        this.canvas_div.focus();\n    }\n\n    var x = canvas_pos.x * this.ratio;\n    var y = canvas_pos.y * this.ratio;\n\n    this.send_message(name, {\n        x: x,\n        y: y,\n        button: event.button,\n        step: event.step,\n        guiEvent: simpleKeys(event),\n    });\n\n    /* This prevents the web browser from automatically changing to\n     * the text insertion cursor when the button is pressed.  We want\n     * to control all of the cursor setting manually through the\n     * 'cursor' event from matplotlib */\n    event.preventDefault();\n    return false;\n};\n\nmpl.figure.prototype._key_event_extra = function (_event, _name) {\n    // Handle any extra behaviour associated with a key event\n};\n\nmpl.figure.prototype.key_event = function (event, name) {\n    // Prevent repeat events\n    if (name === 'key_press') {\n        if (event.key === this._key) {\n            return;\n        } else {\n            this._key = event.key;\n        }\n    }\n    if (name === 'key_release') {\n        this._key = null;\n    }\n\n    var value = '';\n    if (event.ctrlKey && event.key !== 'Control') {\n        value += 'ctrl+';\n    }\n    else if (event.altKey && event.key !== 'Alt') {\n        value += 'alt+';\n    }\n    else if (event.shiftKey && event.key !== 'Shift') {\n        value += 'shift+';\n    }\n\n    value += 'k' + event.key;\n\n    this._key_event_extra(event, name);\n\n    this.send_message(name, { key: value, guiEvent: simpleKeys(event) });\n    return false;\n};\n\nmpl.figure.prototype.toolbar_button_onclick = function (name) {\n    if (name === 'download') {\n        this.handle_save(this, null);\n    } else {\n        this.send_message('toolbar_button', { name: name });\n    }\n};\n\nmpl.figure.prototype.toolbar_button_onmouseover = function (tooltip) {\n    this.message.textContent = tooltip;\n};\n\n///////////////// REMAINING CONTENT GENERATED BY embed_js.py /////////////////\n// prettier-ignore\nvar _JSXTOOLS_RESIZE_OBSERVER=function(A){var t,i=new WeakMap,n=new WeakMap,a=new WeakMap,r=new WeakMap,o=new Set;function s(e){if(!(this instanceof s))throw new TypeError(\"Constructor requires 'new' operator\");i.set(this,e)}function h(){throw new TypeError(\"Function is not a constructor\")}function c(e,t,i,n){e=0 in arguments?Number(arguments[0]):0,t=1 in arguments?Number(arguments[1]):0,i=2 in arguments?Number(arguments[2]):0,n=3 in arguments?Number(arguments[3]):0,this.right=(this.x=this.left=e)+(this.width=i),this.bottom=(this.y=this.top=t)+(this.height=n),Object.freeze(this)}function d(){t=requestAnimationFrame(d);var s=new WeakMap,p=new Set;o.forEach((function(t){r.get(t).forEach((function(i){var r=t instanceof window.SVGElement,o=a.get(t),d=r?0:parseFloat(o.paddingTop),f=r?0:parseFloat(o.paddingRight),l=r?0:parseFloat(o.paddingBottom),u=r?0:parseFloat(o.paddingLeft),g=r?0:parseFloat(o.borderTopWidth),m=r?0:parseFloat(o.borderRightWidth),w=r?0:parseFloat(o.borderBottomWidth),b=u+f,F=d+l,v=(r?0:parseFloat(o.borderLeftWidth))+m,W=g+w,y=r?0:t.offsetHeight-W-t.clientHeight,E=r?0:t.offsetWidth-v-t.clientWidth,R=b+v,z=F+W,M=r?t.width:parseFloat(o.width)-R-E,O=r?t.height:parseFloat(o.height)-z-y;if(n.has(t)){var k=n.get(t);if(k[0]===M&&k[1]===O)return}n.set(t,[M,O]);var S=Object.create(h.prototype);S.target=t,S.contentRect=new c(u,d,M,O),s.has(i)||(s.set(i,[]),p.add(i)),s.get(i).push(S)}))})),p.forEach((function(e){i.get(e).call(e,s.get(e),e)}))}return s.prototype.observe=function(i){if(i instanceof window.Element){r.has(i)||(r.set(i,new Set),o.add(i),a.set(i,window.getComputedStyle(i)));var n=r.get(i);n.has(this)||n.add(this),cancelAnimationFrame(t),t=requestAnimationFrame(d)}},s.prototype.unobserve=function(i){if(i instanceof window.Element&&r.has(i)){var n=r.get(i);n.has(this)&&(n.delete(this),n.size||(r.delete(i),o.delete(i))),n.size||r.delete(i),o.size||cancelAnimationFrame(t)}},A.DOMRectReadOnly=c,A.ResizeObserver=s,A.ResizeObserverEntry=h,A}; // eslint-disable-line\nmpl.toolbar_items = [[\"Home\", \"Reset original view\", \"fa fa-home icon-home\", \"home\"], [\"Back\", \"Back to previous view\", \"fa fa-arrow-left icon-arrow-left\", \"back\"], [\"Forward\", \"Forward to next view\", \"fa fa-arrow-right icon-arrow-right\", \"forward\"], [\"\", \"\", \"\", \"\"], [\"Pan\", \"Left button pans, Right button zooms\\nx/y fixes axis, CTRL fixes aspect\", \"fa fa-arrows icon-move\", \"pan\"], [\"Zoom\", \"Zoom to rectangle\\nx/y fixes axis\", \"fa fa-square-o icon-check-empty\", \"zoom\"], [\"\", \"\", \"\", \"\"], [\"Download\", \"Download plot\", \"fa fa-floppy-o icon-save\", \"download\"]];\n\nmpl.extensions = [\"eps\", \"jpeg\", \"pgf\", \"pdf\", \"png\", \"ps\", \"raw\", \"svg\", \"tif\"];\n\nmpl.default_extension = \"png\";/* global mpl */\n\nvar comm_websocket_adapter = function (comm) {\n    // Create a \"websocket\"-like object which calls the given IPython comm\n    // object with the appropriate methods. Currently this is a non binary\n    // socket, so there is still some room for performance tuning.\n    var ws = {};\n\n    ws.binaryType = comm.kernel.ws.binaryType;\n    ws.readyState = comm.kernel.ws.readyState;\n    function updateReadyState(_event) {\n        if (comm.kernel.ws) {\n            ws.readyState = comm.kernel.ws.readyState;\n        } else {\n            ws.readyState = 3; // Closed state.\n        }\n    }\n    comm.kernel.ws.addEventListener('open', updateReadyState);\n    comm.kernel.ws.addEventListener('close', updateReadyState);\n    comm.kernel.ws.addEventListener('error', updateReadyState);\n\n    ws.close = function () {\n        comm.close();\n    };\n    ws.send = function (m) {\n        //console.log('sending', m);\n        comm.send(m);\n    };\n    // Register the callback with on_msg.\n    comm.on_msg(function (msg) {\n        //console.log('receiving', msg['content']['data'], msg);\n        var data = msg['content']['data'];\n        if (data['blob'] !== undefined) {\n            data = {\n                data: new Blob(msg['buffers'], { type: data['blob'] }),\n            };\n        }\n        // Pass the mpl event to the overridden (by mpl) onmessage function.\n        ws.onmessage(data);\n    });\n    return ws;\n};\n\nmpl.mpl_figure_comm = function (comm, msg) {\n    // This is the function which gets called when the mpl process\n    // starts-up an IPython Comm through the \"matplotlib\" channel.\n\n    var id = msg.content.data.id;\n    // Get hold of the div created by the display call when the Comm\n    // socket was opened in Python.\n    var element = document.getElementById(id);\n    var ws_proxy = comm_websocket_adapter(comm);\n\n    function ondownload(figure, _format) {\n        window.open(figure.canvas.toDataURL());\n    }\n\n    var fig = new mpl.figure(id, ws_proxy, ondownload, element);\n\n    // Call onopen now - mpl needs it, as it is assuming we've passed it a real\n    // web socket which is closed, not our websocket->open comm proxy.\n    ws_proxy.onopen();\n\n    fig.parent_element = element;\n    fig.cell_info = mpl.find_output_cell(\"<div id='\" + id + \"'></div>\");\n    if (!fig.cell_info) {\n        console.error('Failed to find cell for figure', id, fig);\n        return;\n    }\n    fig.cell_info[0].output_area.element.on(\n        'cleared',\n        { fig: fig },\n        fig._remove_fig_handler\n    );\n};\n\nmpl.figure.prototype.handle_close = function (fig, msg) {\n    var width = fig.canvas.width / fig.ratio;\n    fig.cell_info[0].output_area.element.off(\n        'cleared',\n        fig._remove_fig_handler\n    );\n    fig.resizeObserverInstance.unobserve(fig.canvas_div);\n\n    // Update the output cell to use the data from the current canvas.\n    fig.push_to_output();\n    var dataURL = fig.canvas.toDataURL();\n    // Re-enable the keyboard manager in IPython - without this line, in FF,\n    // the notebook keyboard shortcuts fail.\n    IPython.keyboard_manager.enable();\n    fig.parent_element.innerHTML =\n        '<img src=\"' + dataURL + '\" width=\"' + width + '\">';\n    fig.close_ws(fig, msg);\n};\n\nmpl.figure.prototype.close_ws = function (fig, msg) {\n    fig.send_message('closing', msg);\n    // fig.ws.close()\n};\n\nmpl.figure.prototype.push_to_output = function (_remove_interactive) {\n    // Turn the data on the canvas into data in the output cell.\n    var width = this.canvas.width / this.ratio;\n    var dataURL = this.canvas.toDataURL();\n    this.cell_info[1]['text/html'] =\n        '<img src=\"' + dataURL + '\" width=\"' + width + '\">';\n};\n\nmpl.figure.prototype.updated_canvas_event = function () {\n    // Tell IPython that the notebook contents must change.\n    IPython.notebook.set_dirty(true);\n    this.send_message('ack', {});\n    var fig = this;\n    // Wait a second, then push the new image to the DOM so\n    // that it is saved nicely (might be nice to debounce this).\n    setTimeout(function () {\n        fig.push_to_output();\n    }, 1000);\n};\n\nmpl.figure.prototype._init_toolbar = function () {\n    var fig = this;\n\n    var toolbar = document.createElement('div');\n    toolbar.classList = 'btn-toolbar';\n    this.root.appendChild(toolbar);\n\n    function on_click_closure(name) {\n        return function (_event) {\n            return fig.toolbar_button_onclick(name);\n        };\n    }\n\n    function on_mouseover_closure(tooltip) {\n        return function (event) {\n            if (!event.currentTarget.disabled) {\n                return fig.toolbar_button_onmouseover(tooltip);\n            }\n        };\n    }\n\n    fig.buttons = {};\n    var buttonGroup = document.createElement('div');\n    buttonGroup.classList = 'btn-group';\n    var button;\n    for (var toolbar_ind in mpl.toolbar_items) {\n        var name = mpl.toolbar_items[toolbar_ind][0];\n        var tooltip = mpl.toolbar_items[toolbar_ind][1];\n        var image = mpl.toolbar_items[toolbar_ind][2];\n        var method_name = mpl.toolbar_items[toolbar_ind][3];\n\n        if (!name) {\n            /* Instead of a spacer, we start a new button group. */\n            if (buttonGroup.hasChildNodes()) {\n                toolbar.appendChild(buttonGroup);\n            }\n            buttonGroup = document.createElement('div');\n            buttonGroup.classList = 'btn-group';\n            continue;\n        }\n\n        button = fig.buttons[name] = document.createElement('button');\n        button.classList = 'btn btn-default';\n        button.href = '#';\n        button.title = name;\n        button.innerHTML = '<i class=\"fa ' + image + ' fa-lg\"></i>';\n        button.addEventListener('click', on_click_closure(method_name));\n        button.addEventListener('mouseover', on_mouseover_closure(tooltip));\n        buttonGroup.appendChild(button);\n    }\n\n    if (buttonGroup.hasChildNodes()) {\n        toolbar.appendChild(buttonGroup);\n    }\n\n    // Add the status bar.\n    var status_bar = document.createElement('span');\n    status_bar.classList = 'mpl-message pull-right';\n    toolbar.appendChild(status_bar);\n    this.message = status_bar;\n\n    // Add the close button to the window.\n    var buttongrp = document.createElement('div');\n    buttongrp.classList = 'btn-group inline pull-right';\n    button = document.createElement('button');\n    button.classList = 'btn btn-mini btn-primary';\n    button.href = '#';\n    button.title = 'Stop Interaction';\n    button.innerHTML = '<i class=\"fa fa-power-off icon-remove icon-large\"></i>';\n    button.addEventListener('click', function (_evt) {\n        fig.handle_close(fig, {});\n    });\n    button.addEventListener(\n        'mouseover',\n        on_mouseover_closure('Stop Interaction')\n    );\n    buttongrp.appendChild(button);\n    var titlebar = this.root.querySelector('.ui-dialog-titlebar');\n    titlebar.insertBefore(buttongrp, titlebar.firstChild);\n};\n\nmpl.figure.prototype._remove_fig_handler = function (event) {\n    var fig = event.data.fig;\n    if (event.target !== this) {\n        // Ignore bubbled events from children.\n        return;\n    }\n    fig.close_ws(fig, {});\n};\n\nmpl.figure.prototype._root_extra_style = function (el) {\n    el.style.boxSizing = 'content-box'; // override notebook setting of border-box.\n};\n\nmpl.figure.prototype._canvas_extra_style = function (el) {\n    // this is important to make the div 'focusable\n    el.setAttribute('tabindex', 0);\n    // reach out to IPython and tell the keyboard manager to turn it's self\n    // off when our div gets focus\n\n    // location in version 3\n    if (IPython.notebook.keyboard_manager) {\n        IPython.notebook.keyboard_manager.register_events(el);\n    } else {\n        // location in version 2\n        IPython.keyboard_manager.register_events(el);\n    }\n};\n\nmpl.figure.prototype._key_event_extra = function (event, _name) {\n    // Check for shift+enter\n    if (event.shiftKey && event.which === 13) {\n        this.canvas_div.blur();\n        // select the cell after this one\n        var index = IPython.notebook.find_cell_index(this.cell_info[0]);\n        IPython.notebook.select(index + 1);\n    }\n};\n\nmpl.figure.prototype.handle_save = function (fig, _msg) {\n    fig.ondownload(fig, null);\n};\n\nmpl.find_output_cell = function (html_output) {\n    // Return the cell and output element which can be found *uniquely* in the notebook.\n    // Note - this is a bit hacky, but it is done because the \"notebook_saving.Notebook\"\n    // IPython event is triggered only after the cells have been serialised, which for\n    // our purposes (turning an active figure into a static one), is too late.\n    var cells = IPython.notebook.get_cells();\n    var ncells = cells.length;\n    for (var i = 0; i < ncells; i++) {\n        var cell = cells[i];\n        if (cell.cell_type === 'code') {\n            for (var j = 0; j < cell.output_area.outputs.length; j++) {\n                var data = cell.output_area.outputs[j];\n                if (data.data) {\n                    // IPython >= 3 moved mimebundle to data attribute of output\n                    data = data.data;\n                }\n                if (data['text/html'] === html_output) {\n                    return [cell, data, j];\n                }\n            }\n        }\n    }\n};\n\n// Register the function which deals with the matplotlib target/channel.\n// The kernel may be null if the page has been refreshed.\nif (IPython.notebook.kernel !== null) {\n    IPython.notebook.kernel.comm_manager.register_target(\n        'matplotlib',\n        mpl.mpl_figure_comm\n    );\n}\n"
     },
     "metadata": {},
     "output_type": "display_data"
    },
    {
     "data": {
      "text/plain": "<IPython.core.display.HTML object>",
      "text/html": "<div id='e1b00c87-3085-44a4-bce9-5c3103d2bd2d'></div>"
     },
     "metadata": {},
     "output_type": "display_data"
    },
    {
     "name": "stderr",
     "output_type": "stream",
     "text": [
      "c:\\users\\torobcheh\\appdata\\local\\programs\\python\\python39\\lib\\site-packages\\numpy\\core\\_methods.py:44: RuntimeWarning: invalid value encountered in reduce\n",
      "  return umr_minimum(a, axis, None, out, keepdims, initial, where)\n",
      "c:\\users\\torobcheh\\appdata\\local\\programs\\python\\python39\\lib\\site-packages\\numpy\\core\\_methods.py:40: RuntimeWarning: invalid value encountered in reduce\n",
      "  return umr_maximum(a, axis, None, out, keepdims, initial, where)\n"
     ]
    }
   ],
   "source": [
    "%matplotlib notebook\n",
    "\n",
    "plt.xticks(rotation=90)\n",
    "plt.plot(\n",
    "    indices,\n",
    "    df.loc[indices, 'Weighted Price Average'],\n",
    "    color='black'\n",
    ")\n",
    "\n",
    "# plot measurement errors\n",
    "plt.vlines(\n",
    "    x=indices,\n",
    "    ymin=df.loc[indices, 'Weighted Price Average'],\n",
    "    ymax=df.loc[indices, 'Measurement'],\n",
    "    color='red'\n",
    ")\n",
    "plt.scatter(\n",
    "    indices,\n",
    "    df.loc[indices, 'Measurement'],\n",
    "    color='red'\n",
    ")\n",
    "\n",
    "# plot model approximation errors\n",
    "plt.vlines(\n",
    "    x=indices,\n",
    "    ymin=df.loc[indices, 'Weighted Price Average'],\n",
    "    ymax=df.loc[indices, 'Prediction'],\n",
    "    color='blue'\n",
    ")\n",
    "plt.scatter(\n",
    "    indices,\n",
    "    df.loc[indices, 'Prediction'],\n",
    "    color='blue'\n",
    ")\n",
    "\n",
    "# plot model approximation errors\n",
    "plt.vlines(\n",
    "    x=indices,\n",
    "    ymin=df.loc[indices, 'Weighted Price Average'],\n",
    "    ymax=df.loc[indices, 'Estimate'],\n",
    "    color='green'\n",
    ")\n",
    "plt.scatter(\n",
    "    indices,\n",
    "    df.loc[indices, 'Estimate'],\n",
    "    color='green',\n",
    "    marker='x'\n",
    ")\n",
    "plt.show()"
   ],
   "metadata": {
    "collapsed": false,
    "pycharm": {
     "name": "#%%\n"
    }
   }
  },
  {
   "cell_type": "code",
   "execution_count": 15,
   "outputs": [
    {
     "name": "stdout",
     "output_type": "stream",
     "text": [
      "Measurement:\t 11.093554118534714 \n",
      " Prediction:\t 22.190406577061676 \n",
      "   Estimate:\t 11.472527263090491    R_square: 0.3373209418834019 \n",
      "   Base std:\t 14.09313055927792\n"
     ]
    }
   ],
   "source": [
    "print(\n",
    "    \"Measurement:\\t\",\n",
    "    (df.loc[indices, 'Measurement'] - df.loc[indices, 'Weighted Price Average']).std(),\n",
    "    \"\\n Prediction:\\t\",\n",
    "    (df.loc[indices, 'Prediction'] - df.loc[indices, 'Weighted Price Average']).std(),\n",
    "    \"\\n   Estimate:\\t\",\n",
    "    (df.loc[indices, 'Estimate'] - df.loc[indices, 'Weighted Price Average']).std(),\n",
    "    \"   R_square:\",\n",
    "    1 - (df.loc[indices, 'Estimate'] - df.loc[indices, 'Weighted Price Average']).var() /\n",
    "        (df.shift(1).loc[indices, 'Weighted Price Average'] - df.loc[indices, 'Weighted Price Average']).var(),\n",
    "    \"\\n   Base std:\\t\",\n",
    "    (df.shift(1).loc[indices, 'Weighted Price Average'] - df.loc[indices, 'Weighted Price Average']).std()\n",
    ")"
   ],
   "metadata": {
    "collapsed": false,
    "pycharm": {
     "name": "#%%\n"
    }
   }
  },
  {
   "cell_type": "code",
   "execution_count": 16,
   "outputs": [],
   "source": [
    "# from scipy.stats import pearsonr\n",
    "# result = []\n",
    "# data = df.dropna().copy()\n",
    "# data = data[(data['Feature 2'] >= 3) & (data['No. Trades'] > 100)]\n",
    "# for i in range(period):\n",
    "#     for j in range(4):\n",
    "#         result.append(pearsonr(data[f'Return {i+1} min'], data[f'Feature {j+1}']))\n",
    "# result = np.array(result)\n",
    "# result = result.reshape(-1, 8)\n",
    "# for j in range(4):\n",
    "#     plt.plot(result[:, 2*j], label=f'Feature {j+1}')\n",
    "# plt.legend()\n",
    "# plt.title(f'n = {len(data)}')\n",
    "# plt.show()"
   ],
   "metadata": {
    "collapsed": false,
    "pycharm": {
     "name": "#%%\n"
    }
   }
  },
  {
   "cell_type": "code",
   "execution_count": 17,
   "outputs": [],
   "source": [
    "# t_train_start = datetime(2018, 1, 1, 1)\n",
    "# t_train_duration = timedelta(hours=6)\n",
    "# x_train = x.loc[t_train_start:t_train_start+t_train_duration-timedelta(minutes=1)]\n",
    "# A ="
   ],
   "metadata": {
    "collapsed": false,
    "pycharm": {
     "name": "#%%\n"
    }
   }
  },
  {
   "cell_type": "code",
   "execution_count": 18,
   "outputs": [
    {
     "name": "stdout",
     "output_type": "stream",
     "text": [
      "Measurement:\t 13.334839260567822 \n",
      " Prediction:\t 18.8171861654 \n",
      "   Estimate:\t 13.376925728125698    R_square: 0.1593659284243888 \n",
      "   Base std:\t 15.912899774634583\n"
     ]
    }
   ],
   "source": [
    "indices = df.dropna().index\n",
    "df['Volume Change'] = df.Volume.pct_change() * 100\n",
    "indices = df.loc[indices].loc[(df.loc[indices, 'Volume Change'] >= 0) &\n",
    "                              (np.sqrt(df.loc[indices, 'Estimate Uncertainty']) < 20)].index\n",
    "\n",
    "print(\n",
    "    \"Measurement:\\t\",\n",
    "    (df.loc[indices, 'Measurement'] - df.loc[indices, 'Weighted Price Average']).std(),\n",
    "    \"\\n Prediction:\\t\",\n",
    "    (df.loc[indices, 'Prediction'] - df.loc[indices, 'Weighted Price Average']).std(),\n",
    "    \"\\n   Estimate:\\t\",\n",
    "    (df.loc[indices, 'Estimate'] - df.loc[indices, 'Weighted Price Average']).std(),\n",
    "    \"   R_square:\",\n",
    "    1 - np.sqrt((df.loc[indices, 'Estimate'] - df.loc[indices, 'Weighted Price Average']).var() /\n",
    "        (df.shift(1).loc[indices, 'Weighted Price Average'] - df.loc[indices, 'Weighted Price Average']).var()),\n",
    "    \"\\n   Base std:\\t\",\n",
    "    (df.shift(1).loc[indices, 'Weighted Price Average'] - df.loc[indices, 'Weighted Price Average']).std()\n",
    ")"
   ],
   "metadata": {
    "collapsed": false,
    "pycharm": {
     "name": "#%%\n"
    }
   }
  },
  {
   "cell_type": "code",
   "execution_count": 18,
   "outputs": [],
   "source": [],
   "metadata": {
    "collapsed": false,
    "pycharm": {
     "name": "#%%\n"
    }
   }
  }
 ],
 "metadata": {
  "kernelspec": {
   "display_name": "Python 3",
   "language": "python",
   "name": "python3"
  },
  "language_info": {
   "codemirror_mode": {
    "name": "ipython",
    "version": 2
   },
   "file_extension": ".py",
   "mimetype": "text/x-python",
   "name": "python",
   "nbconvert_exporter": "python",
   "pygments_lexer": "ipython2",
   "version": "2.7.6"
  }
 },
 "nbformat": 4,
 "nbformat_minor": 0
}