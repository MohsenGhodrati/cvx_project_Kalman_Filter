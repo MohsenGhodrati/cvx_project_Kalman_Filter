{
 "cells": [
  {
   "cell_type": "code",
   "execution_count": 1,
   "outputs": [],
   "source": [
    "from datetime import datetime, timedelta\n",
    "from utils import get_prices\n",
    "import numpy as np\n",
    "import pandas as pd\n",
    "import matplotlib.pyplot as plt\n",
    "\n",
    "\n",
    "EPSILON = 1e-10\n",
    "\n",
    "# if __name__ == \"__main__\":\n",
    "\n",
    "start_time = '1577836800'\n",
    "end_time = '1578441600'\n",
    "\n",
    "# df_ = get_prices(\n",
    "#     'btc', 'usdt',\n",
    "#     datetime(2020, 1, 1),\n",
    "#     duration=timedelta(days=7),\n",
    "#     proxy_port='13070',\n",
    "#     verbose=2)\n",
    "\n",
    "df_ = pd.read_csv('data/BTCUSDT[' + start_time + '000_' + end_time + '000].csv')\n",
    "df_.drop(['Unnamed: 0'], inplace=True, axis=1)\n",
    "df_['Time'] = pd.to_datetime(df_['Time'])\n",
    "df_.set_index('Time', inplace=True, drop=True)\n",
    "\n",
    "times_index = pd.date_range(start=pd.to_datetime(start_time, unit='s'),\n",
    "                            end=pd.to_datetime(end_time, unit='s'),\n",
    "                            periods=(int(end_time) - int(start_time) + 1) / 60 + 1)\n",
    "\n",
    "df = pd.DataFrame(None, columns=df_.columns, index=times_index[:-1])\n",
    "\n",
    "selected_indices = list(set(df_.index).intersection(set(times_index)))\n",
    "df.loc[selected_indices, df_.columns] = df_.loc[selected_indices].copy()"
   ],
   "metadata": {
    "collapsed": false,
    "pycharm": {
     "name": "#%%\n"
    }
   }
  },
  {
   "cell_type": "code",
   "execution_count": 2,
   "outputs": [
    {
     "data": {
      "text/plain": "                      Market     Open     High      Low    Close     Volume  \\\n2020-01-01 00:00:00  BTCUSDT  7195.24  7196.25  7183.14  7186.68  51.642812   \n2020-01-01 00:01:00  BTCUSDT  7187.67  7188.06   7182.2  7184.03   7.248148   \n2020-01-01 00:02:00  BTCUSDT  7184.41  7184.71  7180.26  7182.43  11.681677   \n2020-01-01 00:03:00  BTCUSDT  7183.83  7188.94  7182.49  7185.94  10.025391   \n2020-01-01 00:04:00  BTCUSDT  7185.54  7185.54  7178.64  7179.78  14.911105   \n...                      ...      ...      ...      ...      ...        ...   \n2020-01-07 23:55:00  BTCUSDT  8163.09  8180.78  8162.58  8174.52  56.340474   \n2020-01-07 23:56:00  BTCUSDT  8174.52  8176.52  8162.58  8168.48  46.824082   \n2020-01-07 23:57:00  BTCUSDT  8167.76  8170.67   8157.5  8158.96  42.212437   \n2020-01-07 23:58:00  BTCUSDT  8158.73   8162.0  8153.77   8161.5    103.923   \n2020-01-07 23:59:00  BTCUSDT  8161.27  8161.48  8145.01  8145.28  56.360956   \n\n                             Value No. Trades Taker Buy Volume  \\\n2020-01-01 00:00:00  371233.518355        493         19.59823   \n2020-01-01 00:01:00   52080.127788        135         2.031772   \n2020-01-01 00:02:00   83903.741635        202         5.479244   \n2020-01-01 00:03:00   72033.226649        136         3.294966   \n2020-01-01 00:04:00  107066.521825        161         2.369033   \n...                            ...        ...              ...   \n2020-01-07 23:55:00  460369.470177        664        34.532792   \n2020-01-07 23:56:00  382487.910867        442        18.526946   \n2020-01-07 23:57:00  344654.966852        403         19.19538   \n2020-01-07 23:58:00   847779.49378        538        56.297305   \n2020-01-07 23:59:00  459507.068474        591        24.890672   \n\n                    Taker Buy Value  Feature 1  Feature 2  Feature 3  \\\n2020-01-01 00:00:00   140888.414283   37.94958        NaN        NaN   \n2020-01-01 00:01:00    14599.211924  28.031602  -0.859648  -0.368738   \n2020-01-01 00:02:00    39357.081776  46.904601   0.611677  -0.222716   \n2020-01-01 00:03:00    23680.571924  32.866209  -0.141785   0.488693   \n2020-01-01 00:04:00    17012.015138  15.887709   0.487334  -0.857230   \n...                             ...        ...        ...        ...   \n2020-01-07 23:55:00   282162.676837  61.293045   0.125954   1.400205   \n2020-01-07 23:56:00   151332.558308  39.567131  -0.168909  -0.738881   \n2020-01-07 23:57:00   156750.172947  45.473281  -0.098489  -1.165456   \n2020-01-07 23:58:00   459258.542236  54.172132   1.461905   0.311314   \n2020-01-07 23:59:00   202939.485046   44.16297  -0.457666  -1.987380   \n\n                     Feature 4  \n2020-01-01 00:00:00        NaN  \n2020-01-01 00:01:00        NaN  \n2020-01-01 00:02:00        NaN  \n2020-01-01 00:03:00        NaN  \n2020-01-01 00:04:00        NaN  \n...                        ...  \n2020-01-07 23:55:00   23.84747  \n2020-01-07 23:56:00  17.734517  \n2020-01-07 23:57:00  21.349877  \n2020-01-07 23:58:00  26.179271  \n2020-01-07 23:59:00  24.820836  \n\n[10080 rows x 14 columns]",
      "text/html": "<div>\n<style scoped>\n    .dataframe tbody tr th:only-of-type {\n        vertical-align: middle;\n    }\n\n    .dataframe tbody tr th {\n        vertical-align: top;\n    }\n\n    .dataframe thead th {\n        text-align: right;\n    }\n</style>\n<table border=\"1\" class=\"dataframe\">\n  <thead>\n    <tr style=\"text-align: right;\">\n      <th></th>\n      <th>Market</th>\n      <th>Open</th>\n      <th>High</th>\n      <th>Low</th>\n      <th>Close</th>\n      <th>Volume</th>\n      <th>Value</th>\n      <th>No. Trades</th>\n      <th>Taker Buy Volume</th>\n      <th>Taker Buy Value</th>\n      <th>Feature 1</th>\n      <th>Feature 2</th>\n      <th>Feature 3</th>\n      <th>Feature 4</th>\n    </tr>\n  </thead>\n  <tbody>\n    <tr>\n      <th>2020-01-01 00:00:00</th>\n      <td>BTCUSDT</td>\n      <td>7195.24</td>\n      <td>7196.25</td>\n      <td>7183.14</td>\n      <td>7186.68</td>\n      <td>51.642812</td>\n      <td>371233.518355</td>\n      <td>493</td>\n      <td>19.59823</td>\n      <td>140888.414283</td>\n      <td>37.94958</td>\n      <td>NaN</td>\n      <td>NaN</td>\n      <td>NaN</td>\n    </tr>\n    <tr>\n      <th>2020-01-01 00:01:00</th>\n      <td>BTCUSDT</td>\n      <td>7187.67</td>\n      <td>7188.06</td>\n      <td>7182.2</td>\n      <td>7184.03</td>\n      <td>7.248148</td>\n      <td>52080.127788</td>\n      <td>135</td>\n      <td>2.031772</td>\n      <td>14599.211924</td>\n      <td>28.031602</td>\n      <td>-0.859648</td>\n      <td>-0.368738</td>\n      <td>NaN</td>\n    </tr>\n    <tr>\n      <th>2020-01-01 00:02:00</th>\n      <td>BTCUSDT</td>\n      <td>7184.41</td>\n      <td>7184.71</td>\n      <td>7180.26</td>\n      <td>7182.43</td>\n      <td>11.681677</td>\n      <td>83903.741635</td>\n      <td>202</td>\n      <td>5.479244</td>\n      <td>39357.081776</td>\n      <td>46.904601</td>\n      <td>0.611677</td>\n      <td>-0.222716</td>\n      <td>NaN</td>\n    </tr>\n    <tr>\n      <th>2020-01-01 00:03:00</th>\n      <td>BTCUSDT</td>\n      <td>7183.83</td>\n      <td>7188.94</td>\n      <td>7182.49</td>\n      <td>7185.94</td>\n      <td>10.025391</td>\n      <td>72033.226649</td>\n      <td>136</td>\n      <td>3.294966</td>\n      <td>23680.571924</td>\n      <td>32.866209</td>\n      <td>-0.141785</td>\n      <td>0.488693</td>\n      <td>NaN</td>\n    </tr>\n    <tr>\n      <th>2020-01-01 00:04:00</th>\n      <td>BTCUSDT</td>\n      <td>7185.54</td>\n      <td>7185.54</td>\n      <td>7178.64</td>\n      <td>7179.78</td>\n      <td>14.911105</td>\n      <td>107066.521825</td>\n      <td>161</td>\n      <td>2.369033</td>\n      <td>17012.015138</td>\n      <td>15.887709</td>\n      <td>0.487334</td>\n      <td>-0.857230</td>\n      <td>NaN</td>\n    </tr>\n    <tr>\n      <th>...</th>\n      <td>...</td>\n      <td>...</td>\n      <td>...</td>\n      <td>...</td>\n      <td>...</td>\n      <td>...</td>\n      <td>...</td>\n      <td>...</td>\n      <td>...</td>\n      <td>...</td>\n      <td>...</td>\n      <td>...</td>\n      <td>...</td>\n      <td>...</td>\n    </tr>\n    <tr>\n      <th>2020-01-07 23:55:00</th>\n      <td>BTCUSDT</td>\n      <td>8163.09</td>\n      <td>8180.78</td>\n      <td>8162.58</td>\n      <td>8174.52</td>\n      <td>56.340474</td>\n      <td>460369.470177</td>\n      <td>664</td>\n      <td>34.532792</td>\n      <td>282162.676837</td>\n      <td>61.293045</td>\n      <td>0.125954</td>\n      <td>1.400205</td>\n      <td>23.84747</td>\n    </tr>\n    <tr>\n      <th>2020-01-07 23:56:00</th>\n      <td>BTCUSDT</td>\n      <td>8174.52</td>\n      <td>8176.52</td>\n      <td>8162.58</td>\n      <td>8168.48</td>\n      <td>46.824082</td>\n      <td>382487.910867</td>\n      <td>442</td>\n      <td>18.526946</td>\n      <td>151332.558308</td>\n      <td>39.567131</td>\n      <td>-0.168909</td>\n      <td>-0.738881</td>\n      <td>17.734517</td>\n    </tr>\n    <tr>\n      <th>2020-01-07 23:57:00</th>\n      <td>BTCUSDT</td>\n      <td>8167.76</td>\n      <td>8170.67</td>\n      <td>8157.5</td>\n      <td>8158.96</td>\n      <td>42.212437</td>\n      <td>344654.966852</td>\n      <td>403</td>\n      <td>19.19538</td>\n      <td>156750.172947</td>\n      <td>45.473281</td>\n      <td>-0.098489</td>\n      <td>-1.165456</td>\n      <td>21.349877</td>\n    </tr>\n    <tr>\n      <th>2020-01-07 23:58:00</th>\n      <td>BTCUSDT</td>\n      <td>8158.73</td>\n      <td>8162.0</td>\n      <td>8153.77</td>\n      <td>8161.5</td>\n      <td>103.923</td>\n      <td>847779.49378</td>\n      <td>538</td>\n      <td>56.297305</td>\n      <td>459258.542236</td>\n      <td>54.172132</td>\n      <td>1.461905</td>\n      <td>0.311314</td>\n      <td>26.179271</td>\n    </tr>\n    <tr>\n      <th>2020-01-07 23:59:00</th>\n      <td>BTCUSDT</td>\n      <td>8161.27</td>\n      <td>8161.48</td>\n      <td>8145.01</td>\n      <td>8145.28</td>\n      <td>56.360956</td>\n      <td>459507.068474</td>\n      <td>591</td>\n      <td>24.890672</td>\n      <td>202939.485046</td>\n      <td>44.16297</td>\n      <td>-0.457666</td>\n      <td>-1.987380</td>\n      <td>24.820836</td>\n    </tr>\n  </tbody>\n</table>\n<p>10080 rows × 14 columns</p>\n</div>"
     },
     "execution_count": 2,
     "metadata": {},
     "output_type": "execute_result"
    }
   ],
   "source": [
    "window = int(timedelta(hours=1) / timedelta(minutes=1))\n",
    "period = 10\n",
    "\n",
    "df['Feature 1'] = df['Taker Buy Volume'] / (df['Volume'] + EPSILON) * 100\n",
    "df['Feature 2'] = (df['Volume'] + EPSILON).pct_change()\n",
    "df['Feature 3'] = df['Close'].pct_change() * 1000\n",
    "tmp = df['High'].rolling(window).max()\n",
    "df['Feature 4'] = (tmp-df['Open']) / (tmp-df['Low'].rolling(window).min()) * 100\n",
    "\n",
    "# for i in range(period):\n",
    "#     df[f'Return {i+1} min'] = (df['Close'].shift(-i-1) / df['Close'] - 1) * 100\n",
    "df"
   ],
   "metadata": {
    "collapsed": false,
    "pycharm": {
     "name": "#%%\n"
    }
   }
  },
  {
   "cell_type": "code",
   "execution_count": 3,
   "outputs": [],
   "source": [
    "# df.to_csv('data/data.csv')"
   ],
   "metadata": {
    "collapsed": false,
    "pycharm": {
     "name": "#%%\n"
    }
   }
  },
  {
   "cell_type": "code",
   "execution_count": 5,
   "outputs": [
    {
     "data": {
      "text/plain": "                      Market     Open     High      Low    Close     Volume  \\\n2020-01-01 00:00:00  BTCUSDT  7195.24  7196.25  7183.14  7186.68  51.642812   \n2020-01-01 00:01:00  BTCUSDT  7187.67  7188.06   7182.2  7184.03   7.248148   \n2020-01-01 00:02:00  BTCUSDT  7184.41  7184.71  7180.26  7182.43  11.681677   \n2020-01-01 00:03:00  BTCUSDT  7183.83  7188.94  7182.49  7185.94  10.025391   \n2020-01-01 00:04:00  BTCUSDT  7185.54  7185.54  7178.64  7179.78  14.911105   \n...                      ...      ...      ...      ...      ...        ...   \n2020-01-07 23:55:00  BTCUSDT  8163.09  8180.78  8162.58  8174.52  56.340474   \n2020-01-07 23:56:00  BTCUSDT  8174.52  8176.52  8162.58  8168.48  46.824082   \n2020-01-07 23:57:00  BTCUSDT  8167.76  8170.67   8157.5  8158.96  42.212437   \n2020-01-07 23:58:00  BTCUSDT  8158.73   8162.0  8153.77   8161.5    103.923   \n2020-01-07 23:59:00  BTCUSDT  8161.27  8161.48  8145.01  8145.28  56.360956   \n\n                             Value No. Trades Taker Buy Volume  \\\n2020-01-01 00:00:00  371233.518355        493         19.59823   \n2020-01-01 00:01:00   52080.127788        135         2.031772   \n2020-01-01 00:02:00   83903.741635        202         5.479244   \n2020-01-01 00:03:00   72033.226649        136         3.294966   \n2020-01-01 00:04:00  107066.521825        161         2.369033   \n...                            ...        ...              ...   \n2020-01-07 23:55:00  460369.470177        664        34.532792   \n2020-01-07 23:56:00  382487.910867        442        18.526946   \n2020-01-07 23:57:00  344654.966852        403         19.19538   \n2020-01-07 23:58:00   847779.49378        538        56.297305   \n2020-01-07 23:59:00  459507.068474        591        24.890672   \n\n                    Taker Buy Value  Feature 1  Feature 2  Feature 3  \\\n2020-01-01 00:00:00   140888.414283   37.94958        NaN        NaN   \n2020-01-01 00:01:00    14599.211924  28.031602  -0.859648  -0.368738   \n2020-01-01 00:02:00    39357.081776  46.904601   0.611677  -0.222716   \n2020-01-01 00:03:00    23680.571924  32.866209  -0.141785   0.488693   \n2020-01-01 00:04:00    17012.015138  15.887709   0.487334  -0.857230   \n...                             ...        ...        ...        ...   \n2020-01-07 23:55:00   282162.676837  61.293045   0.125954   1.400205   \n2020-01-07 23:56:00   151332.558308  39.567131  -0.168909  -0.738881   \n2020-01-07 23:57:00   156750.172947  45.473281  -0.098489  -1.165456   \n2020-01-07 23:58:00   459258.542236  54.172132   1.461905   0.311314   \n2020-01-07 23:59:00   202939.485046   44.16297  -0.457666  -1.987380   \n\n                     Feature 4    Return  \n2020-01-01 00:00:00        NaN -0.118968  \n2020-01-01 00:01:00        NaN -0.050642  \n2020-01-01 00:02:00        NaN  -0.02756  \n2020-01-01 00:03:00        NaN  0.029372  \n2020-01-01 00:04:00        NaN -0.080161  \n...                        ...       ...  \n2020-01-07 23:55:00   23.84747  0.140021  \n2020-01-07 23:56:00  17.734517 -0.073888  \n2020-01-07 23:57:00  21.349877 -0.107741  \n2020-01-07 23:58:00  26.179271  0.033951  \n2020-01-07 23:59:00  24.820836 -0.195925  \n\n[10080 rows x 15 columns]",
      "text/html": "<div>\n<style scoped>\n    .dataframe tbody tr th:only-of-type {\n        vertical-align: middle;\n    }\n\n    .dataframe tbody tr th {\n        vertical-align: top;\n    }\n\n    .dataframe thead th {\n        text-align: right;\n    }\n</style>\n<table border=\"1\" class=\"dataframe\">\n  <thead>\n    <tr style=\"text-align: right;\">\n      <th></th>\n      <th>Market</th>\n      <th>Open</th>\n      <th>High</th>\n      <th>Low</th>\n      <th>Close</th>\n      <th>Volume</th>\n      <th>Value</th>\n      <th>No. Trades</th>\n      <th>Taker Buy Volume</th>\n      <th>Taker Buy Value</th>\n      <th>Feature 1</th>\n      <th>Feature 2</th>\n      <th>Feature 3</th>\n      <th>Feature 4</th>\n      <th>Return</th>\n    </tr>\n  </thead>\n  <tbody>\n    <tr>\n      <th>2020-01-01 00:00:00</th>\n      <td>BTCUSDT</td>\n      <td>7195.24</td>\n      <td>7196.25</td>\n      <td>7183.14</td>\n      <td>7186.68</td>\n      <td>51.642812</td>\n      <td>371233.518355</td>\n      <td>493</td>\n      <td>19.59823</td>\n      <td>140888.414283</td>\n      <td>37.94958</td>\n      <td>NaN</td>\n      <td>NaN</td>\n      <td>NaN</td>\n      <td>-0.118968</td>\n    </tr>\n    <tr>\n      <th>2020-01-01 00:01:00</th>\n      <td>BTCUSDT</td>\n      <td>7187.67</td>\n      <td>7188.06</td>\n      <td>7182.2</td>\n      <td>7184.03</td>\n      <td>7.248148</td>\n      <td>52080.127788</td>\n      <td>135</td>\n      <td>2.031772</td>\n      <td>14599.211924</td>\n      <td>28.031602</td>\n      <td>-0.859648</td>\n      <td>-0.368738</td>\n      <td>NaN</td>\n      <td>-0.050642</td>\n    </tr>\n    <tr>\n      <th>2020-01-01 00:02:00</th>\n      <td>BTCUSDT</td>\n      <td>7184.41</td>\n      <td>7184.71</td>\n      <td>7180.26</td>\n      <td>7182.43</td>\n      <td>11.681677</td>\n      <td>83903.741635</td>\n      <td>202</td>\n      <td>5.479244</td>\n      <td>39357.081776</td>\n      <td>46.904601</td>\n      <td>0.611677</td>\n      <td>-0.222716</td>\n      <td>NaN</td>\n      <td>-0.02756</td>\n    </tr>\n    <tr>\n      <th>2020-01-01 00:03:00</th>\n      <td>BTCUSDT</td>\n      <td>7183.83</td>\n      <td>7188.94</td>\n      <td>7182.49</td>\n      <td>7185.94</td>\n      <td>10.025391</td>\n      <td>72033.226649</td>\n      <td>136</td>\n      <td>3.294966</td>\n      <td>23680.571924</td>\n      <td>32.866209</td>\n      <td>-0.141785</td>\n      <td>0.488693</td>\n      <td>NaN</td>\n      <td>0.029372</td>\n    </tr>\n    <tr>\n      <th>2020-01-01 00:04:00</th>\n      <td>BTCUSDT</td>\n      <td>7185.54</td>\n      <td>7185.54</td>\n      <td>7178.64</td>\n      <td>7179.78</td>\n      <td>14.911105</td>\n      <td>107066.521825</td>\n      <td>161</td>\n      <td>2.369033</td>\n      <td>17012.015138</td>\n      <td>15.887709</td>\n      <td>0.487334</td>\n      <td>-0.857230</td>\n      <td>NaN</td>\n      <td>-0.080161</td>\n    </tr>\n    <tr>\n      <th>...</th>\n      <td>...</td>\n      <td>...</td>\n      <td>...</td>\n      <td>...</td>\n      <td>...</td>\n      <td>...</td>\n      <td>...</td>\n      <td>...</td>\n      <td>...</td>\n      <td>...</td>\n      <td>...</td>\n      <td>...</td>\n      <td>...</td>\n      <td>...</td>\n      <td>...</td>\n    </tr>\n    <tr>\n      <th>2020-01-07 23:55:00</th>\n      <td>BTCUSDT</td>\n      <td>8163.09</td>\n      <td>8180.78</td>\n      <td>8162.58</td>\n      <td>8174.52</td>\n      <td>56.340474</td>\n      <td>460369.470177</td>\n      <td>664</td>\n      <td>34.532792</td>\n      <td>282162.676837</td>\n      <td>61.293045</td>\n      <td>0.125954</td>\n      <td>1.400205</td>\n      <td>23.84747</td>\n      <td>0.140021</td>\n    </tr>\n    <tr>\n      <th>2020-01-07 23:56:00</th>\n      <td>BTCUSDT</td>\n      <td>8174.52</td>\n      <td>8176.52</td>\n      <td>8162.58</td>\n      <td>8168.48</td>\n      <td>46.824082</td>\n      <td>382487.910867</td>\n      <td>442</td>\n      <td>18.526946</td>\n      <td>151332.558308</td>\n      <td>39.567131</td>\n      <td>-0.168909</td>\n      <td>-0.738881</td>\n      <td>17.734517</td>\n      <td>-0.073888</td>\n    </tr>\n    <tr>\n      <th>2020-01-07 23:57:00</th>\n      <td>BTCUSDT</td>\n      <td>8167.76</td>\n      <td>8170.67</td>\n      <td>8157.5</td>\n      <td>8158.96</td>\n      <td>42.212437</td>\n      <td>344654.966852</td>\n      <td>403</td>\n      <td>19.19538</td>\n      <td>156750.172947</td>\n      <td>45.473281</td>\n      <td>-0.098489</td>\n      <td>-1.165456</td>\n      <td>21.349877</td>\n      <td>-0.107741</td>\n    </tr>\n    <tr>\n      <th>2020-01-07 23:58:00</th>\n      <td>BTCUSDT</td>\n      <td>8158.73</td>\n      <td>8162.0</td>\n      <td>8153.77</td>\n      <td>8161.5</td>\n      <td>103.923</td>\n      <td>847779.49378</td>\n      <td>538</td>\n      <td>56.297305</td>\n      <td>459258.542236</td>\n      <td>54.172132</td>\n      <td>1.461905</td>\n      <td>0.311314</td>\n      <td>26.179271</td>\n      <td>0.033951</td>\n    </tr>\n    <tr>\n      <th>2020-01-07 23:59:00</th>\n      <td>BTCUSDT</td>\n      <td>8161.27</td>\n      <td>8161.48</td>\n      <td>8145.01</td>\n      <td>8145.28</td>\n      <td>56.360956</td>\n      <td>459507.068474</td>\n      <td>591</td>\n      <td>24.890672</td>\n      <td>202939.485046</td>\n      <td>44.16297</td>\n      <td>-0.457666</td>\n      <td>-1.987380</td>\n      <td>24.820836</td>\n      <td>-0.195925</td>\n    </tr>\n  </tbody>\n</table>\n<p>10080 rows × 15 columns</p>\n</div>"
     },
     "execution_count": 5,
     "metadata": {},
     "output_type": "execute_result"
    }
   ],
   "source": [
    "df['Return'] = (df['Close'] / df['Open'] - 1) * 100\n",
    "df"
   ],
   "metadata": {
    "collapsed": false,
    "pycharm": {
     "name": "#%%\n"
    }
   }
  },
  {
   "cell_type": "code",
   "execution_count": 61,
   "outputs": [
    {
     "data": {
      "text/plain": "<Figure size 432x288 with 1 Axes>",
      "image/png": "[encoded data removed]"
     },
     "metadata": {
      "needs_background": "light"
     },
     "output_type": "display_data"
    }
   ],
   "source": [
    "def get_linear_dynamics_with_lsm(seq, n, frame_size, memory):\n",
    "    m = max(memory-1, n-frame_size)\n",
    "    if n <= memory:\n",
    "        return None\n",
    "    A = np.zeros([n-m, memory])\n",
    "    for i in range(memory):\n",
    "        A[:, i] = seq[m-i:n-i]\n",
    "    b = np.array(seq[m+1:n+1], dtype='float64')\n",
    "    theta, _, _, _ = np.linalg.lstsq(A, b, rcond=-1)\n",
    "    F = np.zeros([memory, memory])\n",
    "    F[0, :] = theta\n",
    "    for i in range(1, memory):\n",
    "        F[i, i-1] = 1\n",
    "    return F\n",
    "\n",
    "z = df['Return'].values\n",
    "\n",
    "errors = np.zeros(len(z))\n",
    "frame_size = 1000\n",
    "memory = 10\n",
    "for n in range(frame_size, len(z)):\n",
    "    F = get_linear_dynamics_with_lsm(z, n, frame_size, memory)\n",
    "    errors[n] = np.dot(F, z[np.arange(n-1, n-memory-1, -1)])[0] - z[n]"
   ],
   "metadata": {
    "collapsed": false,
    "pycharm": {
     "name": "#%%\n"
    }
   }
  },
  {
   "cell_type": "code",
   "execution_count": 62,
   "outputs": [
    {
     "data": {
      "text/plain": "<Figure size 432x288 with 1 Axes>",
      "image/png": "[encoded data removed]"
     },
     "metadata": {
      "needs_background": "light"
     },
     "output_type": "display_data"
    }
   ],
   "source": [
    "plt.hist(errors[frame_size:len(z)], bins=200)\n",
    "plt.title(errors[frame_size:len(z)].std())\n",
    "plt.show()"
   ],
   "metadata": {
    "collapsed": false,
    "pycharm": {
     "name": "#%%\n"
    }
   }
  },
  {
   "cell_type": "code",
   "execution_count": 60,
   "outputs": [
    {
     "data": {
      "text/plain": "array([[11.71, 11.4 , -0.31],\n       [11.4 , 11.37, -0.03],\n       [-0.31, -0.03,  0.28]])"
     },
     "execution_count": 60,
     "metadata": {},
     "output_type": "execute_result"
    }
   ],
   "source": [
    "x = np.array([-2.1, -1,  4.3])\n",
    "\n",
    "y = np.array([0,  1,  0.2])\n",
    "\n",
    "X = np.stack((x, x+y, y), axis=0)\n",
    "\n",
    "np.cov(X)"
   ],
   "metadata": {
    "collapsed": false,
    "pycharm": {
     "name": "#%%\n"
    }
   }
  },
  {
   "cell_type": "code",
   "execution_count": 4,
   "outputs": [
    {
     "data": {
      "text/plain": "<Figure size 432x288 with 1 Axes>",
      "image/png": "[encoded data removed]"
     },
     "metadata": {
      "needs_background": "light"
     },
     "output_type": "display_data"
    }
   ],
   "source": [
    "from scipy.stats import pearsonr\n",
    "result = []\n",
    "data = df.dropna().copy()\n",
    "data = data[(data['Feature 2'] >= 3) & (data['No. Trades'] > 100)]\n",
    "for i in range(period):\n",
    "    for j in range(4):\n",
    "        result.append(pearsonr(data[f'Return {i+1} min'], data[f'Feature {j+1}']))\n",
    "result = np.array(result)\n",
    "result = result.reshape(-1, 8)\n",
    "for j in range(4):\n",
    "    plt.plot(result[:, 2*j], label=f'Feature {j+1}')\n",
    "plt.legend()\n",
    "plt.title(f'n = {len(data)}')\n",
    "plt.show()"
   ],
   "metadata": {
    "collapsed": false,
    "pycharm": {
     "name": "#%%\n"
    }
   }
  },
  {
   "cell_type": "code",
   "execution_count": 6,
   "outputs": [],
   "source": [
    "# t_train_start = datetime(2018, 1, 1, 1)\n",
    "# t_train_duration = timedelta(hours=6)\n",
    "# x_train = x.loc[t_train_start:t_train_start+t_train_duration-timedelta(minutes=1)]\n",
    "# A ="
   ],
   "metadata": {
    "collapsed": false,
    "pycharm": {
     "name": "#%%\n"
    }
   }
  },
  {
   "cell_type": "code",
   "execution_count": null,
   "outputs": [],
   "source": [],
   "metadata": {
    "collapsed": false,
    "pycharm": {
     "name": "#%%\n"
    }
   }
  }
 ],
 "metadata": {
  "kernelspec": {
   "display_name": "Python 3",
   "language": "python",
   "name": "python3"
  },
  "language_info": {
   "codemirror_mode": {
    "name": "ipython",
    "version": 2
   },
   "file_extension": ".py",
   "mimetype": "text/x-python",
   "name": "python",
   "nbconvert_exporter": "python",
   "pygments_lexer": "ipython2",
   "version": "2.7.6"
  }
 },
 "nbformat": 4,
 "nbformat_minor": 0
}