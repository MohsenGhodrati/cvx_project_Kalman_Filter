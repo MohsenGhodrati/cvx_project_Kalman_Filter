{
 "cells": [
  {
   "cell_type": "code",
   "execution_count": 2,
   "metadata": {
    "collapsed": true,
    "pycharm": {
     "name": "#%%\n"
    }
   },
   "outputs": [
    {
     "data": {
      "text/plain": "       Market                Time      Open      High       Low     Close  \\\n0     BTCUSDT 2018-01-01 00:00:00  13715.65  13715.65  13681.00  13707.92   \n1     BTCUSDT 2018-01-01 00:01:00  13707.91  13707.91  13666.11  13694.92   \n2     BTCUSDT 2018-01-01 00:02:00  13682.00  13694.94  13680.00  13680.00   \n3     BTCUSDT 2018-01-01 00:03:00  13679.98  13679.98  13601.00  13645.99   \n4     BTCUSDT 2018-01-01 00:04:00  13645.98  13646.00  13576.28  13600.00   \n...       ...                 ...       ...       ...       ...       ...   \n1435  BTCUSDT 2018-01-01 23:55:00  13395.32  13404.52  13383.68  13404.52   \n1436  BTCUSDT 2018-01-01 23:56:00  13404.52  13419.20  13378.69  13379.67   \n1437  BTCUSDT 2018-01-01 23:57:00  13379.67  13403.98  13379.67  13382.16   \n1438  BTCUSDT 2018-01-01 23:58:00  13401.97  13404.52  13382.16  13401.35   \n1439  BTCUSDT 2018-01-01 23:59:00  13399.95  13401.35  13380.00  13380.00   \n\n         Volume          Value  No. Trades  Taker Buy Volume  Taker Buy Value  \n0      2.844266   38931.004413          32          2.002554     27414.354115  \n1      2.113138   28910.982501          29          0.264134      3613.884180  \n2      1.346411   18431.842690          46          0.753332     10313.331785  \n3     11.589417  157962.177508         137          5.507146     75118.445437  \n4     15.724566  213978.120703         191          9.739792    132561.881525  \n...         ...            ...         ...               ...              ...  \n1435   7.007079   93910.362373          94          3.416279     45785.077118  \n1436   3.326967   44562.762356          70          1.993614     26705.808014  \n1437   0.727611    9745.857678          34          0.275141      3687.464734  \n1438   2.523330   33791.341275          45          1.147689     15379.389271  \n1439   3.722502   49845.813858          56          1.262977     16921.583378  \n\n[1440 rows x 11 columns]",
      "text/html": "<div>\n<style scoped>\n    .dataframe tbody tr th:only-of-type {\n        vertical-align: middle;\n    }\n\n    .dataframe tbody tr th {\n        vertical-align: top;\n    }\n\n    .dataframe thead th {\n        text-align: right;\n    }\n</style>\n<table border=\"1\" class=\"dataframe\">\n  <thead>\n    <tr style=\"text-align: right;\">\n      <th></th>\n      <th>Market</th>\n      <th>Time</th>\n      <th>Open</th>\n      <th>High</th>\n      <th>Low</th>\n      <th>Close</th>\n      <th>Volume</th>\n      <th>Value</th>\n      <th>No. Trades</th>\n      <th>Taker Buy Volume</th>\n      <th>Taker Buy Value</th>\n    </tr>\n  </thead>\n  <tbody>\n    <tr>\n      <th>0</th>\n      <td>BTCUSDT</td>\n      <td>2018-01-01 00:00:00</td>\n      <td>13715.65</td>\n      <td>13715.65</td>\n      <td>13681.00</td>\n      <td>13707.92</td>\n      <td>2.844266</td>\n      <td>38931.004413</td>\n      <td>32</td>\n      <td>2.002554</td>\n      <td>27414.354115</td>\n    </tr>\n    <tr>\n      <th>1</th>\n      <td>BTCUSDT</td>\n      <td>2018-01-01 00:01:00</td>\n      <td>13707.91</td>\n      <td>13707.91</td>\n      <td>13666.11</td>\n      <td>13694.92</td>\n      <td>2.113138</td>\n      <td>28910.982501</td>\n      <td>29</td>\n      <td>0.264134</td>\n      <td>3613.884180</td>\n    </tr>\n    <tr>\n      <th>2</th>\n      <td>BTCUSDT</td>\n      <td>2018-01-01 00:02:00</td>\n      <td>13682.00</td>\n      <td>13694.94</td>\n      <td>13680.00</td>\n      <td>13680.00</td>\n      <td>1.346411</td>\n      <td>18431.842690</td>\n      <td>46</td>\n      <td>0.753332</td>\n      <td>10313.331785</td>\n    </tr>\n    <tr>\n      <th>3</th>\n      <td>BTCUSDT</td>\n      <td>2018-01-01 00:03:00</td>\n      <td>13679.98</td>\n      <td>13679.98</td>\n      <td>13601.00</td>\n      <td>13645.99</td>\n      <td>11.589417</td>\n      <td>157962.177508</td>\n      <td>137</td>\n      <td>5.507146</td>\n      <td>75118.445437</td>\n    </tr>\n    <tr>\n      <th>4</th>\n      <td>BTCUSDT</td>\n      <td>2018-01-01 00:04:00</td>\n      <td>13645.98</td>\n      <td>13646.00</td>\n      <td>13576.28</td>\n      <td>13600.00</td>\n      <td>15.724566</td>\n      <td>213978.120703</td>\n      <td>191</td>\n      <td>9.739792</td>\n      <td>132561.881525</td>\n    </tr>\n    <tr>\n      <th>...</th>\n      <td>...</td>\n      <td>...</td>\n      <td>...</td>\n      <td>...</td>\n      <td>...</td>\n      <td>...</td>\n      <td>...</td>\n      <td>...</td>\n      <td>...</td>\n      <td>...</td>\n      <td>...</td>\n    </tr>\n    <tr>\n      <th>1435</th>\n      <td>BTCUSDT</td>\n      <td>2018-01-01 23:55:00</td>\n      <td>13395.32</td>\n      <td>13404.52</td>\n      <td>13383.68</td>\n      <td>13404.52</td>\n      <td>7.007079</td>\n      <td>93910.362373</td>\n      <td>94</td>\n      <td>3.416279</td>\n      <td>45785.077118</td>\n    </tr>\n    <tr>\n      <th>1436</th>\n      <td>BTCUSDT</td>\n      <td>2018-01-01 23:56:00</td>\n      <td>13404.52</td>\n      <td>13419.20</td>\n      <td>13378.69</td>\n      <td>13379.67</td>\n      <td>3.326967</td>\n      <td>44562.762356</td>\n      <td>70</td>\n      <td>1.993614</td>\n      <td>26705.808014</td>\n    </tr>\n    <tr>\n      <th>1437</th>\n      <td>BTCUSDT</td>\n      <td>2018-01-01 23:57:00</td>\n      <td>13379.67</td>\n      <td>13403.98</td>\n      <td>13379.67</td>\n      <td>13382.16</td>\n      <td>0.727611</td>\n      <td>9745.857678</td>\n      <td>34</td>\n      <td>0.275141</td>\n      <td>3687.464734</td>\n    </tr>\n    <tr>\n      <th>1438</th>\n      <td>BTCUSDT</td>\n      <td>2018-01-01 23:58:00</td>\n      <td>13401.97</td>\n      <td>13404.52</td>\n      <td>13382.16</td>\n      <td>13401.35</td>\n      <td>2.523330</td>\n      <td>33791.341275</td>\n      <td>45</td>\n      <td>1.147689</td>\n      <td>15379.389271</td>\n    </tr>\n    <tr>\n      <th>1439</th>\n      <td>BTCUSDT</td>\n      <td>2018-01-01 23:59:00</td>\n      <td>13399.95</td>\n      <td>13401.35</td>\n      <td>13380.00</td>\n      <td>13380.00</td>\n      <td>3.722502</td>\n      <td>49845.813858</td>\n      <td>56</td>\n      <td>1.262977</td>\n      <td>16921.583378</td>\n    </tr>\n  </tbody>\n</table>\n<p>1440 rows × 11 columns</p>\n</div>"
     },
     "execution_count": 2,
     "metadata": {},
     "output_type": "execute_result"
    }
   ],
   "source": [
    "from datetime import datetime\n",
    "from utils import get_prices\n",
    "\n",
    "get_prices('btc', 'usdt', datetime(2018, 1, 1), proxy_port='5701', verbose=1)"
   ]
  },
  {
   "cell_type": "code",
   "execution_count": null,
   "outputs": [],
   "source": [],
   "metadata": {
    "collapsed": false,
    "pycharm": {
     "name": "#%%\n"
    }
   }
  }
 ],
 "metadata": {
  "kernelspec": {
   "display_name": "Python 3",
   "language": "python",
   "name": "python3"
  },
  "language_info": {
   "codemirror_mode": {
    "name": "ipython",
    "version": 2
   },
   "file_extension": ".py",
   "mimetype": "text/x-python",
   "name": "python",
   "nbconvert_exporter": "python",
   "pygments_lexer": "ipython2",
   "version": "2.7.6"
  }
 },
 "nbformat": 4,
 "nbformat_minor": 0
}